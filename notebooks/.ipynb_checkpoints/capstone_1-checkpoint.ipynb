{
 "cells": [
  {
   "cell_type": "markdown",
   "id": "021ec479-0bd3-4f8e-8c7f-bf1065ef70b7",
   "metadata": {},
   "source": [
    "## Imports"
   ]
  },
  {
   "cell_type": "code",
   "execution_count": 1,
   "id": "f4e152db",
   "metadata": {},
   "outputs": [],
   "source": [
    "import pyspark as ps\n",
    "spark = (ps.sql.SparkSession.builder \n",
    "        .master(\"local[4]\") \n",
    "        .appName(\"sparkSQL exercise\") \n",
    "        .getOrCreate()\n",
    "        )\n",
    "spark.sql(\"set spark.sql.caseSensitive=true\"); #fixes the error \"AnalysisException: Found duplicate column(s) in the data schema: `good for kids`\"\n",
    "sc = spark.sparkContext\n",
    "from pyspark.sql import SQLContext\n",
    "\n",
    "import numpy as np\n",
    "import matplotlib.pyplot as plt\n",
    "import scipy.stats as stats\n",
    "import pandas as pd\n",
    "\n",
    "plt.style.use('Solarize_Light2')\n",
    "font = {'weight': 'regular',\n",
    "        'size':   16}\n",
    "plt.rc('font', **font)"
   ]
  },
  {
   "cell_type": "markdown",
   "id": "3bddca5c-ba7f-49bd-83f7-26d01a605ec9",
   "metadata": {},
   "source": [
    "### Check available plot styles"
   ]
  },
  {
   "cell_type": "code",
   "execution_count": 2,
   "id": "1dc8010c-3f6b-4fd6-a99a-089974d54011",
   "metadata": {},
   "outputs": [
    {
     "name": "stdout",
     "output_type": "stream",
     "text": [
      "['Solarize_Light2', '_classic_test_patch', 'bmh', 'classic', 'dark_background', 'fast', 'fivethirtyeight', 'ggplot', 'grayscale', 'seaborn', 'seaborn-bright', 'seaborn-colorblind', 'seaborn-dark', 'seaborn-dark-palette', 'seaborn-darkgrid', 'seaborn-deep', 'seaborn-muted', 'seaborn-notebook', 'seaborn-paper', 'seaborn-pastel', 'seaborn-poster', 'seaborn-talk', 'seaborn-ticks', 'seaborn-white', 'seaborn-whitegrid', 'tableau-colorblind10']\n"
     ]
    }
   ],
   "source": [
    "print(plt.style.available)"
   ]
  },
  {
   "cell_type": "markdown",
   "id": "c08cde6a-eec4-4f4e-b13c-885c219722bd",
   "metadata": {},
   "source": [
    "### Set SQL Context for pyspark"
   ]
  },
  {
   "cell_type": "code",
   "execution_count": 3,
   "id": "262d61e6",
   "metadata": {},
   "outputs": [],
   "source": [
    "sc\n",
    "sqlContext = SQLContext(sc)"
   ]
  },
  {
   "cell_type": "markdown",
   "id": "5d03487a-cd9f-4e80-adf3-afcc04f01f67",
   "metadata": {},
   "source": [
    "#### See full DataSet in SQL Context"
   ]
  },
  {
   "cell_type": "code",
   "execution_count": 5,
   "id": "892181cc-ed06-4b53-b2be-28158f04c81f",
   "metadata": {},
   "outputs": [],
   "source": [
    "full_df = sqlContext.read.load('../data/video_game.csv',format='com.databricks.spark.csv',header='true',inferSchema='true')\n",
    "#full_df.select('Year_of_Release').count()\n",
    "#full_df.orderBy('Year_of_Release').show(100,truncate=False)"
   ]
  },
  {
   "cell_type": "markdown",
   "id": "4abf2152-895d-48de-a00a-3632852f4bef",
   "metadata": {},
   "source": [
    "#### Create table from data"
   ]
  },
  {
   "cell_type": "code",
   "execution_count": 6,
   "id": "b21b0a8e-ebd3-4c3f-9f8e-99639c0a754b",
   "metadata": {},
   "outputs": [],
   "source": [
    "full_df.createOrReplaceTempView(\"vg_full_df\")"
   ]
  },
  {
   "cell_type": "markdown",
   "id": "5a18135b-0691-4639-9c24-7bda036cf3a4",
   "metadata": {},
   "source": [
    "## Initial Exploratory Data Analysis and Data Queries"
   ]
  },
  {
   "cell_type": "markdown",
   "id": "8158439e-f7e2-4033-94f2-cb2b4e312bb6",
   "metadata": {},
   "source": [
    "#### Gen 5 platform popularity, amount of games on platform BEFORE FFVII"
   ]
  },
  {
   "cell_type": "code",
   "execution_count": 9,
   "id": "96df5f86-95ee-4a7a-b201-c614341c3322",
   "metadata": {
    "scrolled": true,
    "tags": []
   },
   "outputs": [
    {
     "name": "stdout",
     "output_type": "stream",
     "text": [
      "+--------+-----------------+----------------+----------------+-------------------+--------------------+\n",
      "|Platform|Games_on_Platform|Total_NA_Players|Total_JP_Players|Total_Other_Players|Total_Global_Players|\n",
      "+--------+-----------------+----------------+----------------+-------------------+--------------------+\n",
      "|PS2     |2161             |583.84          |139.2           |193.44             |1255.64             |\n",
      "|X360    |1262             |602.47          |12.43           |85.76              |971.63              |\n",
      "|PS3     |1331             |393.49          |80.19           |135.68             |939.43              |\n",
      "|Wii     |1320             |496.9           |69.33           |79.07              |908.13              |\n",
      "|DS      |2152             |382.67          |175.57          |59.28              |807.1               |\n",
      "|PS      |1197             |336.52          |139.82          |40.91              |730.68              |\n",
      "|GBA     |822              |187.54          |47.33           |7.73               |318.5               |\n",
      "|PS4     |393              |108.74          |16.0            |48.35              |314.23              |\n",
      "|PSP     |1209             |109.17          |76.78           |41.42              |294.3               |\n",
      "|PC      |974              |94.53           |0.17            |22.38              |260.3               |\n",
      "|3DS     |520              |83.49           |100.67          |13.36              |259.09              |\n",
      "|XB      |824              |186.69          |1.38            |8.72               |258.26              |\n",
      "|GB      |98               |114.32          |85.12           |8.2                |255.45              |\n",
      "|NES     |98               |125.94          |98.65           |5.31               |251.07              |\n",
      "|N64     |319              |139.02          |34.22           |4.38               |218.88              |\n",
      "|SNES    |239              |61.23           |116.55          |3.22               |200.05              |\n",
      "|GC      |556              |133.46          |21.58           |5.18               |199.36              |\n",
      "|XOne    |247              |93.12           |0.34            |14.27              |159.44              |\n",
      "|2600    |133              |90.6            |0.0             |0.91               |97.08               |\n",
      "|WiiU    |147              |38.1            |13.01           |5.95               |82.16               |\n",
      "|PSV     |432              |12.58           |21.93           |6.46               |54.12               |\n",
      "|SAT     |173              |0.72            |32.26           |0.07               |33.59               |\n",
      "|GEN     |27               |21.05           |2.7             |0.97               |30.78               |\n",
      "|DC      |52               |5.43            |8.56            |0.27               |15.97               |\n",
      "|SCD     |6                |1.0             |0.45            |0.05               |1.87                |\n",
      "|NG      |12               |0.0             |1.44            |0.0                |1.44                |\n",
      "|WS      |6                |0.0             |1.42            |0.0                |1.42                |\n",
      "|TG16    |2                |0.0             |0.16            |0.0                |0.16                |\n",
      "|3DO     |3                |0.0             |0.1             |0.0                |0.1                 |\n",
      "|GG      |1                |0.0             |0.04            |0.0                |0.04                |\n",
      "|PCFX    |1                |0.0             |0.03            |0.0                |0.03                |\n",
      "+--------+-----------------+----------------+----------------+-------------------+--------------------+\n",
      "\n"
     ]
    }
   ],
   "source": [
    "gen_5_platform_pop_pre = spark.sql(\"SELECT \\\n",
    "                                 Platform,COUNT(Name) as Games_on_Platform, \\\n",
    "                                 ROUND(SUM(NA_players),2) as Total_NA_Players, \\\n",
    "                                 ROUND(SUM(JP_players),2) as Total_JP_Players, \\\n",
    "                                 ROUND(SUM(Other_players),2) as Total_Other_Players, \\\n",
    "                                 ROUND(SUM(Global_players),2) as Total_Global_Players \\\n",
    "                                 FROM vg_full_df \\\n",
    "                                 GROUP BY Platform \\\n",
    "                                 ORDER BY Total_Global_Players DESC\")\n",
    "gen_5_platform_pop_pre.show(100, truncate=False)"
   ]
  },
  {
   "cell_type": "markdown",
   "id": "5da85c2e-c971-45df-ac6a-bf18e3272436",
   "metadata": {},
   "source": [
    "#### Gen 5 genre popularity BEFORE FFVII"
   ]
  },
  {
   "cell_type": "code",
   "execution_count": 11,
   "id": "26ea7fb3-a6ce-4158-8801-3e753d91d8a4",
   "metadata": {
    "scrolled": true,
    "tags": []
   },
   "outputs": [
    {
     "name": "stdout",
     "output_type": "stream",
     "text": [
      "+------------+--------------------------+--------+----------------+----------------+-------------------+--------------------+\n",
      "|Genre       |Games_in_genre_on_Platform|Platform|Total_NA_Players|Total_JP_Players|Total_Other_Players|Total_Global_Players|\n",
      "+------------+--------------------------+--------+----------------+----------------+-------------------+--------------------+\n",
      "|Adventure   |1                         |3DO     |0.0             |0.06            |0.0                |0.06                |\n",
      "|Simulation  |1                         |3DO     |0.0             |0.02            |0.0                |0.02                |\n",
      "|Puzzle      |1                         |3DO     |0.0             |0.02            |0.0                |0.02                |\n",
      "|Racing      |57                        |N64     |26.68           |4.46            |0.58               |40.09               |\n",
      "|Platform    |30                        |N64     |21.23           |6.31            |0.97               |36.13               |\n",
      "|Sports      |80                        |N64     |22.07           |4.55            |0.7                |32.8                |\n",
      "|Action      |38                        |N64     |18.96           |3.67            |0.56               |29.58               |\n",
      "|Fighting    |29                        |N64     |15.66           |2.45            |0.3                |22.08               |\n",
      "|Shooter     |24                        |N64     |13.96           |1.02            |0.26               |19.27               |\n",
      "|Misc        |18                        |N64     |6.27            |3.36            |0.13               |11.19               |\n",
      "|Strategy    |9                         |N64     |4.64            |3.68            |0.32               |10.33               |\n",
      "|Simulation  |10                        |N64     |5.77            |2.51            |0.33               |10.19               |\n",
      "|Puzzle      |12                        |N64     |2.21            |0.54            |0.07               |3.41                |\n",
      "|Role-Playing|8                         |N64     |1.34            |1.5             |0.16               |3.36                |\n",
      "|Adventure   |4                         |N64     |0.23            |0.17            |0.0                |0.45                |\n",
      "|Role-Playing|1                         |PCFX    |0.0             |0.03            |0.0                |0.03                |\n",
      "|Racing      |52                        |PS      |20.32           |6.43            |2.33               |42.24               |\n",
      "|Action      |46                        |PS      |21.22           |4.29            |2.73               |41.96               |\n",
      "|Sports      |88                        |PS      |21.4            |8.12            |2.33               |41.2                |\n",
      "|Fighting    |47                        |PS      |11.58           |8.97            |1.74               |30.18               |\n",
      "|Role-Playing|35                        |PS      |6.58            |14.76           |2.04               |27.62               |\n",
      "|Platform    |24                        |PS      |13.3            |3.1             |1.36               |27.47               |\n",
      "|Misc        |24                        |PS      |8.07            |3.25            |0.55               |16.83               |\n",
      "|Simulation  |35                        |PS      |5.24            |5.64            |0.94               |15.11               |\n",
      "|Shooter     |55                        |PS      |6.06            |2.07            |0.87               |13.75               |\n",
      "|Strategy    |26                        |PS      |1.69            |2.99            |0.42               |6.17                |\n",
      "|Puzzle      |12                        |PS      |2.75            |2.16            |0.21               |5.79                |\n",
      "|Adventure   |24                        |PS      |1.64            |1.35            |0.25               |4.38                |\n",
      "|Fighting    |31                        |SAT     |0.51            |7.59            |0.05               |8.52                |\n",
      "|Adventure   |26                        |SAT     |0.0             |4.16            |0.0                |4.16                |\n",
      "|Shooter     |22                        |SAT     |0.0             |3.97            |0.0                |3.98                |\n",
      "|Role-Playing|17                        |SAT     |0.0             |3.76            |0.0                |3.76                |\n",
      "|Strategy    |18                        |SAT     |0.0             |3.24            |0.0                |3.24                |\n",
      "|Sports      |16                        |SAT     |0.0             |2.79            |0.0                |2.79                |\n",
      "|Racing      |8                         |SAT     |0.21            |2.01            |0.02               |2.4                 |\n",
      "|Misc        |15                        |SAT     |0.0             |1.2             |0.0                |1.2                 |\n",
      "|Simulation  |7                         |SAT     |0.0             |1.13            |0.0                |1.13                |\n",
      "|Puzzle      |5                         |SAT     |0.0             |1.0             |0.0                |1.0                 |\n",
      "|Platform    |5                         |SAT     |0.0             |0.76            |0.0                |0.76                |\n",
      "|Action      |3                         |SAT     |0.0             |0.65            |0.0                |0.65                |\n",
      "+------------+--------------------------+--------+----------------+----------------+-------------------+--------------------+\n",
      "\n"
     ]
    }
   ],
   "source": [
    "gen_5_genre_pop_pre = spark.sql(\"SELECT \\\n",
    "                            Genre, COUNT(Genre) as Games_in_genre_on_Platform, Platform, \\\n",
    "                            ROUND(SUM(NA_players),2) as Total_NA_Players, \\\n",
    "                            ROUND(SUM(JP_players),2) as Total_JP_Players, \\\n",
    "                            ROUND(SUM(Other_players),2) as Total_Other_Players, \\\n",
    "                            ROUND(SUM(Global_players),2) as Total_Global_Players \\\n",
    "                            FROM vg_full_df \\\n",
    "                            WHERE Year_of_Release BETWEEN 1993 AND 1997 \\\n",
    "                                AND Platform LIKE 'PS' OR Platform LIKE'SAT' OR Platform LIKE 'N64' OR Platform LIKE '3DO' OR Platform LIKE 'PCFX' \\\n",
    "                            GROUP BY Genre, Platform \\\n",
    "                            ORDER BY Platform,Total_Global_Players DESC\")\n",
    "gen_5_genre_pop_pre.show(100, truncate=False)"
   ]
  },
  {
   "cell_type": "markdown",
   "id": "6e784c83-1c4e-48ef-aa38-a64e1b1be7d3",
   "metadata": {},
   "source": [
    "#### Gen 5 Genre Popularity per Platform BEFORE FFVII"
   ]
  },
  {
   "cell_type": "code",
   "execution_count": 12,
   "id": "a469e7c3-0c49-4ebd-a696-d3833cda8adf",
   "metadata": {
    "scrolled": true,
    "tags": []
   },
   "outputs": [
    {
     "name": "stdout",
     "output_type": "stream",
     "text": [
      "+------------+--------+--------------------------+----------------+----------------+-------------------+--------------------+\n",
      "|Genre       |Platform|Games_in_genre_on_Platform|Total_NA_Players|Total_JP_Players|Total_Other_Players|Total_Global_Players|\n",
      "+------------+--------+--------------------------+----------------+----------------+-------------------+--------------------+\n",
      "|Adventure   |3DO     |1                         |0.0             |0.06            |0.0                |0.06                |\n",
      "|Simulation  |3DO     |1                         |0.0             |0.02            |0.0                |0.02                |\n",
      "|Puzzle      |3DO     |1                         |0.0             |0.02            |0.0                |0.02                |\n",
      "|Racing      |N64     |57                        |26.68           |4.46            |0.58               |40.09               |\n",
      "|Platform    |N64     |30                        |21.23           |6.31            |0.97               |36.13               |\n",
      "|Sports      |N64     |80                        |22.07           |4.55            |0.7                |32.8                |\n",
      "|Action      |N64     |38                        |18.96           |3.67            |0.56               |29.58               |\n",
      "|Fighting    |N64     |29                        |15.66           |2.45            |0.3                |22.08               |\n",
      "|Shooter     |N64     |24                        |13.96           |1.02            |0.26               |19.27               |\n",
      "|Misc        |N64     |18                        |6.27            |3.36            |0.13               |11.19               |\n",
      "|Strategy    |N64     |9                         |4.64            |3.68            |0.32               |10.33               |\n",
      "|Simulation  |N64     |10                        |5.77            |2.51            |0.33               |10.19               |\n",
      "|Puzzle      |N64     |12                        |2.21            |0.54            |0.07               |3.41                |\n",
      "|Role-Playing|N64     |8                         |1.34            |1.5             |0.16               |3.36                |\n",
      "|Adventure   |N64     |4                         |0.23            |0.17            |0.0                |0.45                |\n",
      "|Role-Playing|PCFX    |1                         |0.0             |0.03            |0.0                |0.03                |\n",
      "|Racing      |PS      |52                        |20.32           |6.43            |2.33               |42.24               |\n",
      "|Action      |PS      |46                        |21.22           |4.29            |2.73               |41.96               |\n",
      "|Sports      |PS      |88                        |21.4            |8.12            |2.33               |41.2                |\n",
      "|Fighting    |PS      |47                        |11.58           |8.97            |1.74               |30.18               |\n",
      "|Role-Playing|PS      |35                        |6.58            |14.76           |2.04               |27.62               |\n",
      "|Platform    |PS      |24                        |13.3            |3.1             |1.36               |27.47               |\n",
      "|Misc        |PS      |24                        |8.07            |3.25            |0.55               |16.83               |\n",
      "|Simulation  |PS      |35                        |5.24            |5.64            |0.94               |15.11               |\n",
      "|Shooter     |PS      |55                        |6.06            |2.07            |0.87               |13.75               |\n",
      "|Strategy    |PS      |26                        |1.69            |2.99            |0.42               |6.17                |\n",
      "|Puzzle      |PS      |12                        |2.75            |2.16            |0.21               |5.79                |\n",
      "|Adventure   |PS      |24                        |1.64            |1.35            |0.25               |4.38                |\n",
      "|Fighting    |SAT     |31                        |0.51            |7.59            |0.05               |8.52                |\n",
      "|Adventure   |SAT     |26                        |0.0             |4.16            |0.0                |4.16                |\n",
      "|Shooter     |SAT     |22                        |0.0             |3.97            |0.0                |3.98                |\n",
      "|Role-Playing|SAT     |17                        |0.0             |3.76            |0.0                |3.76                |\n",
      "|Strategy    |SAT     |18                        |0.0             |3.24            |0.0                |3.24                |\n",
      "|Sports      |SAT     |16                        |0.0             |2.79            |0.0                |2.79                |\n",
      "|Racing      |SAT     |8                         |0.21            |2.01            |0.02               |2.4                 |\n",
      "|Misc        |SAT     |15                        |0.0             |1.2             |0.0                |1.2                 |\n",
      "|Simulation  |SAT     |7                         |0.0             |1.13            |0.0                |1.13                |\n",
      "|Puzzle      |SAT     |5                         |0.0             |1.0             |0.0                |1.0                 |\n",
      "|Platform    |SAT     |5                         |0.0             |0.76            |0.0                |0.76                |\n",
      "|Action      |SAT     |3                         |0.0             |0.65            |0.0                |0.65                |\n",
      "+------------+--------+--------------------------+----------------+----------------+-------------------+--------------------+\n",
      "\n"
     ]
    }
   ],
   "source": [
    "gen_5_genre_pop_plat_pre = spark.sql(\"SELECT \\\n",
    "                            Genre, Platform, \\\n",
    "                            COUNT(Genre) as Games_in_genre_on_Platform, \\\n",
    "                            ROUND(SUM(NA_players),2) as Total_NA_Players, \\\n",
    "                            ROUND(SUM(JP_players),2) as Total_JP_Players, \\\n",
    "                            ROUND(SUM(Other_players),2) as Total_Other_Players, \\\n",
    "                            ROUND(SUM(Global_players),2) as Total_Global_Players \\\n",
    "                            FROM vg_full_df \\\n",
    "                            WHERE Year_of_Release BETWEEN 1993 AND 1997 \\\n",
    "                                AND Platform LIKE 'PS' OR Platform LIKE'SAT' OR Platform LIKE 'N64' OR Platform LIKE '3DO' OR Platform LIKE 'PCFX' \\\n",
    "                            GROUP BY Genre,Platform \\\n",
    "                            ORDER BY Platform,Total_Global_Players DESC\")\n",
    "gen_5_genre_pop_plat_pre.show(100, truncate=False)"
   ]
  },
  {
   "cell_type": "markdown",
   "id": "44baa81d-cb16-49ff-9594-d7931bb01561",
   "metadata": {},
   "source": [
    "#### Gen 5 platform popularity, amount of games on platform AFTER FFVII"
   ]
  },
  {
   "cell_type": "code",
   "execution_count": 13,
   "id": "0dc293b0-5a11-4da1-85ea-34ab3d186705",
   "metadata": {},
   "outputs": [
    {
     "name": "stdout",
     "output_type": "stream",
     "text": [
      "+--------+-----------------+----------------+----------------+-------------------+--------------------+\n",
      "|Platform|Games_on_Platform|Total_NA_Players|Total_JP_Players|Total_Other_Players|Total_Global_Players|\n",
      "+--------+-----------------+----------------+----------------+-------------------+--------------------+\n",
      "|PS      |910              |272.93          |109.75          |32.79              |590.79              |\n",
      "|N64     |319              |139.02          |34.22           |4.38               |218.88              |\n",
      "|SAT     |173              |0.72            |32.26           |0.07               |33.59               |\n",
      "|3DO     |3                |0.0             |0.1             |0.0                |0.1                 |\n",
      "|PCFX    |1                |0.0             |0.03            |0.0                |0.03                |\n",
      "+--------+-----------------+----------------+----------------+-------------------+--------------------+\n",
      "\n"
     ]
    }
   ],
   "source": [
    "gen_5_platform_pop_post = spark.sql(\"SELECT \\\n",
    "                                 Platform,COUNT(Name) as Games_on_Platform, \\\n",
    "                                 ROUND(SUM(NA_players),2) as Total_NA_Players, \\\n",
    "                                 ROUND(SUM(JP_players),2) as Total_JP_Players, \\\n",
    "                                 ROUND(SUM(Other_players),2) as Total_Other_Players, \\\n",
    "                                 ROUND(SUM(Global_players),2) as Total_Global_Players \\\n",
    "                                 FROM vg_full_df \\\n",
    "                                 WHERE Year_of_Release BETWEEN 1997 AND 2006 \\\n",
    "                                     AND Platform LIKE 'PS' OR Platform LIKE'SAT' OR Platform LIKE 'N64' OR Platform LIKE '3DO' OR Platform LIKE 'PCFX' \\\n",
    "                                 GROUP BY Platform \\\n",
    "                                 ORDER BY Total_Global_Players DESC\")\n",
    "gen_5_platform_pop_post.show(100, truncate=False)"
   ]
  },
  {
   "cell_type": "markdown",
   "id": "28158d1c-4d6b-4fa0-8906-18633737ebe6",
   "metadata": {},
   "source": [
    "#### Gen 5 genre popularity AFTER FFVII"
   ]
  },
  {
   "cell_type": "code",
   "execution_count": 14,
   "id": "9e33d1a1-a215-4eb9-a433-76dbc6369ef1",
   "metadata": {},
   "outputs": [
    {
     "name": "stdout",
     "output_type": "stream",
     "text": [
      "+------------+--------------------------+----------------+----------------+-------------------+--------------------+\n",
      "|Genre       |Games_in_genre_on_Platform|Total_NA_Players|Total_JP_Players|Total_Other_Players|Total_Global_Players|\n",
      "+------------+--------------------------+----------------+----------------+-------------------+--------------------+\n",
      "|Sports      |260                       |76.1            |23.54           |6.25               |137.48              |\n",
      "|Action      |172                       |71.94           |12.73           |6.46               |136.52              |\n",
      "|Racing      |184                       |68.37           |14.13           |5.41               |127.38              |\n",
      "|Platform    |85                        |49.25           |10.78           |3.56               |88.21               |\n",
      "|Fighting    |137                       |42.23           |16.89           |2.98               |81.13               |\n",
      "|Role-Playing|103                       |20.8            |40.78           |3.93               |77.36               |\n",
      "|Shooter     |104                       |30.72           |6.1             |1.89               |53.32               |\n",
      "|Misc        |91                        |20.65           |9.93            |2.0                |43.22               |\n",
      "|Strategy    |85                        |10.55           |14.31           |1.59               |32.8                |\n",
      "|Simulation  |60                        |9.22            |14.9            |1.49               |29.53               |\n",
      "|Adventure   |82                        |7.73            |7.0             |1.11               |22.94               |\n",
      "|Puzzle      |43                        |5.11            |5.27            |0.57               |13.5                |\n",
      "+------------+--------------------------+----------------+----------------+-------------------+--------------------+\n",
      "\n"
     ]
    }
   ],
   "source": [
    "gen_5_genre_pop_post = spark.sql(\"SELECT \\\n",
    "                            Genre, COUNT(Genre) as Games_in_genre_on_Platform, \\\n",
    "                            ROUND(SUM(NA_players),2) as Total_NA_Players, \\\n",
    "                            ROUND(SUM(JP_players),2) as Total_JP_Players, \\\n",
    "                            ROUND(SUM(Other_players),2) as Total_Other_Players, \\\n",
    "                            ROUND(SUM(Global_players),2) as Total_Global_Players \\\n",
    "                            FROM vg_full_df \\\n",
    "                            WHERE Year_of_Release BETWEEN 1997 AND 2006 \\\n",
    "                                AND Platform LIKE 'PS' OR Platform LIKE'SAT' OR Platform LIKE 'N64' OR Platform LIKE '3DO' OR Platform LIKE 'PCFX' \\\n",
    "                            GROUP BY Genre \\\n",
    "                            ORDER BY Total_Global_Players DESC\")\n",
    "gen_5_genre_pop_post.show(100, truncate=False)"
   ]
  },
  {
   "cell_type": "markdown",
   "id": "23b5ba3a-60af-426e-b26f-9dc8cfb6ed3b",
   "metadata": {},
   "source": [
    "#### Gen 5 Genre Popularity per Platform AFTER FFVII"
   ]
  },
  {
   "cell_type": "code",
   "execution_count": 15,
   "id": "e23de01c-d1fb-4366-81d5-78ae9afb4531",
   "metadata": {
    "scrolled": true,
    "tags": []
   },
   "outputs": [
    {
     "name": "stdout",
     "output_type": "stream",
     "text": [
      "+------------+--------+--------------------------+----------------+----------------+-------------------+--------------------+\n",
      "|Genre       |Platform|Games_in_genre_on_Platform|Total_NA_Players|Total_JP_Players|Total_Other_Players|Total_Global_Players|\n",
      "+------------+--------+--------------------------+----------------+----------------+-------------------+--------------------+\n",
      "|Adventure   |3DO     |1                         |0.0             |0.06            |0.0                |0.06                |\n",
      "|Simulation  |3DO     |1                         |0.0             |0.02            |0.0                |0.02                |\n",
      "|Puzzle      |3DO     |1                         |0.0             |0.02            |0.0                |0.02                |\n",
      "|Racing      |N64     |57                        |26.68           |4.46            |0.58               |40.09               |\n",
      "|Platform    |N64     |30                        |21.23           |6.31            |0.97               |36.13               |\n",
      "|Sports      |N64     |80                        |22.07           |4.55            |0.7                |32.8                |\n",
      "|Action      |N64     |38                        |18.96           |3.67            |0.56               |29.58               |\n",
      "|Fighting    |N64     |29                        |15.66           |2.45            |0.3                |22.08               |\n",
      "|Shooter     |N64     |24                        |13.96           |1.02            |0.26               |19.27               |\n",
      "|Misc        |N64     |18                        |6.27            |3.36            |0.13               |11.19               |\n",
      "|Strategy    |N64     |9                         |4.64            |3.68            |0.32               |10.33               |\n",
      "|Simulation  |N64     |10                        |5.77            |2.51            |0.33               |10.19               |\n",
      "|Puzzle      |N64     |12                        |2.21            |0.54            |0.07               |3.41                |\n",
      "|Role-Playing|N64     |8                         |1.34            |1.5             |0.16               |3.36                |\n",
      "|Adventure   |N64     |4                         |0.23            |0.17            |0.0                |0.45                |\n",
      "|Role-Playing|PCFX    |1                         |0.0             |0.03            |0.0                |0.03                |\n",
      "|Action      |PS      |131                       |52.98           |8.41            |5.9                |106.29              |\n",
      "|Sports      |PS      |164                       |54.03           |16.2            |5.55               |101.89              |\n",
      "|Racing      |PS      |119                       |41.48           |7.66            |4.81               |84.89               |\n",
      "|Role-Playing|PS      |77                        |19.46           |35.49           |3.77               |70.21               |\n",
      "|Platform    |PS      |50                        |28.02           |3.71            |2.59               |51.32               |\n",
      "|Fighting    |PS      |77                        |26.06           |6.85            |2.63               |50.53               |\n",
      "|Misc        |PS      |58                        |14.38           |5.37            |1.87               |30.83               |\n",
      "|Shooter     |PS      |58                        |16.76           |1.11            |1.63               |30.07               |\n",
      "|Strategy    |PS      |58                        |5.91            |7.39            |1.27               |19.23               |\n",
      "|Adventure   |PS      |51                        |7.5             |2.61            |1.11               |18.27               |\n",
      "|Simulation  |PS      |42                        |3.45            |11.24           |1.16               |18.19               |\n",
      "|Puzzle      |PS      |25                        |2.9             |3.71            |0.5                |9.07                |\n",
      "|Fighting    |SAT     |31                        |0.51            |7.59            |0.05               |8.52                |\n",
      "|Adventure   |SAT     |26                        |0.0             |4.16            |0.0                |4.16                |\n",
      "|Shooter     |SAT     |22                        |0.0             |3.97            |0.0                |3.98                |\n",
      "|Role-Playing|SAT     |17                        |0.0             |3.76            |0.0                |3.76                |\n",
      "|Strategy    |SAT     |18                        |0.0             |3.24            |0.0                |3.24                |\n",
      "|Sports      |SAT     |16                        |0.0             |2.79            |0.0                |2.79                |\n",
      "|Racing      |SAT     |8                         |0.21            |2.01            |0.02               |2.4                 |\n",
      "|Misc        |SAT     |15                        |0.0             |1.2             |0.0                |1.2                 |\n",
      "|Simulation  |SAT     |7                         |0.0             |1.13            |0.0                |1.13                |\n",
      "|Puzzle      |SAT     |5                         |0.0             |1.0             |0.0                |1.0                 |\n",
      "|Platform    |SAT     |5                         |0.0             |0.76            |0.0                |0.76                |\n",
      "|Action      |SAT     |3                         |0.0             |0.65            |0.0                |0.65                |\n",
      "+------------+--------+--------------------------+----------------+----------------+-------------------+--------------------+\n",
      "\n"
     ]
    }
   ],
   "source": [
    "gen_5_genre_pop_plat_post = spark.sql(\"SELECT \\\n",
    "                            Genre, Platform, \\\n",
    "                            COUNT(Genre) as Games_in_genre_on_Platform, \\\n",
    "                            ROUND(SUM(NA_players),2) as Total_NA_Players, \\\n",
    "                            ROUND(SUM(JP_players),2) as Total_JP_Players, \\\n",
    "                            ROUND(SUM(Other_players),2) as Total_Other_Players, \\\n",
    "                            ROUND(SUM(Global_players),2) as Total_Global_Players \\\n",
    "                            FROM vg_full_df \\\n",
    "                            WHERE Year_of_Release BETWEEN 1997 AND 2006 \\\n",
    "                                AND Platform LIKE 'PS' OR Platform LIKE'SAT' OR Platform LIKE 'N64' OR Platform LIKE '3DO' OR Platform LIKE 'PCFX' \\\n",
    "                            GROUP BY Genre,Platform \\\n",
    "                            ORDER BY Platform,Total_Global_Players DESC\")\n",
    "\n",
    "gen_5_genre_pop_plat_post.show(100, truncate=False)"
   ]
  },
  {
   "cell_type": "markdown",
   "id": "1bd4ad6b-cf72-40c8-843b-9911cc5d7df9",
   "metadata": {},
   "source": [
    "#### Gen 5 platform popularity, amount of games on platform TOTAL"
   ]
  },
  {
   "cell_type": "code",
   "execution_count": 16,
   "id": "737312a5-0ce4-4e07-b8e6-26054a4c5135",
   "metadata": {},
   "outputs": [
    {
     "name": "stdout",
     "output_type": "stream",
     "text": [
      "+--------+-----------------+----------------+----------------+-------------------+--------------------+\n",
      "|Platform|Games_on_Platform|Total_NA_Players|Total_JP_Players|Total_Other_Players|Total_Global_Players|\n",
      "+--------+-----------------+----------------+----------------+-------------------+--------------------+\n",
      "|PS      |1190             |334.72          |139.78          |40.69              |727.41              |\n",
      "|N64     |319              |139.02          |34.22           |4.38               |218.88              |\n",
      "|SAT     |173              |0.72            |32.26           |0.07               |33.59               |\n",
      "|3DO     |3                |0.0             |0.1             |0.0                |0.1                 |\n",
      "|PCFX    |1                |0.0             |0.03            |0.0                |0.03                |\n",
      "+--------+-----------------+----------------+----------------+-------------------+--------------------+\n",
      "\n"
     ]
    }
   ],
   "source": [
    "gen_5_platform_pop_tot = spark.sql(\"SELECT \\\n",
    "                                 Platform,COUNT(Name) as Games_on_Platform, \\\n",
    "                                 ROUND(SUM(NA_players),2) as Total_NA_Players, \\\n",
    "                                 ROUND(SUM(JP_players),2) as Total_JP_Players, \\\n",
    "                                 ROUND(SUM(Other_players),2) as Total_Other_Players, \\\n",
    "                                 ROUND(SUM(Global_players),2) as Total_Global_Players \\\n",
    "                                 FROM vg_full_df \\\n",
    "                                 WHERE Year_of_Release BETWEEN 1993 AND 2006 \\\n",
    "                                     AND Platform LIKE 'PS' OR Platform LIKE'SAT' OR Platform LIKE 'N64' OR Platform LIKE '3DO' OR Platform LIKE 'PCFX' \\\n",
    "                                 GROUP BY Platform \\\n",
    "                                 ORDER BY Total_Global_Players DESC\")\n",
    "\n",
    "gen_5_platform_pop_tot.show(100, truncate=False)"
   ]
  },
  {
   "cell_type": "markdown",
   "id": "8fff1531-b556-4d91-ae71-7ffa1c48d023",
   "metadata": {},
   "source": [
    "#### Gen 5 genre popularity TOTAL"
   ]
  },
  {
   "cell_type": "code",
   "execution_count": 17,
   "id": "61f5ea62-7ad1-4158-8e5d-28c0f50dc9f3",
   "metadata": {},
   "outputs": [
    {
     "name": "stdout",
     "output_type": "stream",
     "text": [
      "+------------+--------------------------+----------------+----------------+-------------------+--------------------+\n",
      "|Genre       |Games_in_genre_on_Platform|Total_NA_Players|Total_JP_Players|Total_Other_Players|Total_Global_Players|\n",
      "+------------+--------------------------+----------------+----------------+-------------------+--------------------+\n",
      "|Action      |195                       |81.11           |15.78           |8.02               |155.97              |\n",
      "|Sports      |317                       |85.28           |25.77           |7.35               |155.1               |\n",
      "|Racing      |209                       |78.15           |17.36           |6.39               |145.38              |\n",
      "|Fighting    |168                       |50.26           |23.94           |4.22               |103.28              |\n",
      "|Platform    |99                        |55.44           |12.19           |4.22               |101.1               |\n",
      "|Role-Playing|123                       |22.07           |46.24           |4.46               |85.45               |\n",
      "|Shooter     |142                       |35.12           |7.37            |2.48               |62.56               |\n",
      "|Misc        |109                       |27.03           |12.87           |2.42               |57.29               |\n",
      "|Simulation  |78                        |12.56           |16.3            |1.9                |36.67               |\n",
      "|Strategy    |98                        |11.29           |15.41           |1.77               |35.26               |\n",
      "|Adventure   |98                        |8.65            |7.8             |1.24               |25.44               |\n",
      "|Puzzle      |50                        |7.5             |5.36            |0.67               |16.51               |\n",
      "+------------+--------------------------+----------------+----------------+-------------------+--------------------+\n",
      "\n"
     ]
    }
   ],
   "source": [
    "gen_5_genre_pop_tot = spark.sql(\"SELECT \\\n",
    "                            Genre, COUNT(Genre) as Games_in_genre_on_Platform, \\\n",
    "                            ROUND(SUM(NA_players),2) as Total_NA_Players, \\\n",
    "                            ROUND(SUM(JP_players),2) as Total_JP_Players, \\\n",
    "                            ROUND(SUM(Other_players),2) as Total_Other_Players, \\\n",
    "                            ROUND(SUM(Global_players),2) as Total_Global_Players \\\n",
    "                            FROM vg_full_df \\\n",
    "                            WHERE Year_of_Release BETWEEN 1993 AND 2006 \\\n",
    "                                AND Platform LIKE 'PS' OR Platform LIKE'SAT' OR Platform LIKE 'N64' OR Platform LIKE '3DO' OR Platform LIKE 'PCFX' \\\n",
    "                            GROUP BY Genre \\\n",
    "                            ORDER BY Total_Global_Players DESC\")\n",
    "\n",
    "gen_5_genre_pop_tot.show(100, truncate=False)"
   ]
  },
  {
   "cell_type": "markdown",
   "id": "cfed20d4-fa18-491e-b9af-65caad8de176",
   "metadata": {},
   "source": [
    "#### Gen 5 Genre Popularity per Platform TOTAL"
   ]
  },
  {
   "cell_type": "code",
   "execution_count": 18,
   "id": "13e5ad5a-01f2-4c01-a8b2-b8fd3e50236a",
   "metadata": {
    "scrolled": true,
    "tags": []
   },
   "outputs": [
    {
     "name": "stdout",
     "output_type": "stream",
     "text": [
      "+------------+--------+--------------------------+----------------+----------------+-------------------+--------------------+\n",
      "|Genre       |Platform|Games_in_genre_on_Platform|Total_NA_Players|Total_JP_Players|Total_Other_Players|Total_Global_Players|\n",
      "+------------+--------+--------------------------+----------------+----------------+-------------------+--------------------+\n",
      "|Adventure   |3DO     |1                         |0.0             |0.06            |0.0                |0.06                |\n",
      "|Simulation  |3DO     |1                         |0.0             |0.02            |0.0                |0.02                |\n",
      "|Puzzle      |3DO     |1                         |0.0             |0.02            |0.0                |0.02                |\n",
      "|Racing      |N64     |57                        |26.68           |4.46            |0.58               |40.09               |\n",
      "|Platform    |N64     |30                        |21.23           |6.31            |0.97               |36.13               |\n",
      "|Sports      |N64     |80                        |22.07           |4.55            |0.7                |32.8                |\n",
      "|Action      |N64     |38                        |18.96           |3.67            |0.56               |29.58               |\n",
      "|Fighting    |N64     |29                        |15.66           |2.45            |0.3                |22.08               |\n",
      "|Shooter     |N64     |24                        |13.96           |1.02            |0.26               |19.27               |\n",
      "|Misc        |N64     |18                        |6.27            |3.36            |0.13               |11.19               |\n",
      "|Strategy    |N64     |9                         |4.64            |3.68            |0.32               |10.33               |\n",
      "|Simulation  |N64     |10                        |5.77            |2.51            |0.33               |10.19               |\n",
      "|Puzzle      |N64     |12                        |2.21            |0.54            |0.07               |3.41                |\n",
      "|Role-Playing|N64     |8                         |1.34            |1.5             |0.16               |3.36                |\n",
      "|Adventure   |N64     |4                         |0.23            |0.17            |0.0                |0.45                |\n",
      "|Role-Playing|PCFX    |1                         |0.0             |0.03            |0.0                |0.03                |\n",
      "|Action      |PS      |154                       |62.15           |11.46           |7.46               |125.74              |\n",
      "|Sports      |PS      |221                       |63.21           |18.43           |6.65               |119.51              |\n",
      "|Racing      |PS      |144                       |51.26           |10.89           |5.79               |102.89              |\n",
      "|Role-Playing|PS      |97                        |20.73           |40.95           |4.3                |78.3                |\n",
      "|Fighting    |PS      |108                       |34.09           |13.9            |3.87               |72.68               |\n",
      "|Platform    |PS      |64                        |34.21           |5.12            |3.25               |64.21               |\n",
      "|Misc        |PS      |76                        |20.76           |8.31            |2.29               |44.9                |\n",
      "|Shooter     |PS      |96                        |21.16           |2.38            |2.22               |39.31               |\n",
      "|Simulation  |PS      |60                        |6.79            |12.64           |1.57               |25.33               |\n",
      "|Strategy    |PS      |71                        |6.65            |8.49            |1.45               |21.69               |\n",
      "|Adventure   |PS      |67                        |8.42            |3.41            |1.24               |20.77               |\n",
      "|Puzzle      |PS      |32                        |5.29            |3.8             |0.6                |12.08               |\n",
      "|Fighting    |SAT     |31                        |0.51            |7.59            |0.05               |8.52                |\n",
      "|Adventure   |SAT     |26                        |0.0             |4.16            |0.0                |4.16                |\n",
      "|Shooter     |SAT     |22                        |0.0             |3.97            |0.0                |3.98                |\n",
      "|Role-Playing|SAT     |17                        |0.0             |3.76            |0.0                |3.76                |\n",
      "|Strategy    |SAT     |18                        |0.0             |3.24            |0.0                |3.24                |\n",
      "|Sports      |SAT     |16                        |0.0             |2.79            |0.0                |2.79                |\n",
      "|Racing      |SAT     |8                         |0.21            |2.01            |0.02               |2.4                 |\n",
      "|Misc        |SAT     |15                        |0.0             |1.2             |0.0                |1.2                 |\n",
      "|Simulation  |SAT     |7                         |0.0             |1.13            |0.0                |1.13                |\n",
      "|Puzzle      |SAT     |5                         |0.0             |1.0             |0.0                |1.0                 |\n",
      "|Platform    |SAT     |5                         |0.0             |0.76            |0.0                |0.76                |\n",
      "|Action      |SAT     |3                         |0.0             |0.65            |0.0                |0.65                |\n",
      "+------------+--------+--------------------------+----------------+----------------+-------------------+--------------------+\n",
      "\n"
     ]
    }
   ],
   "source": [
    "gen_5_genre_pop_plat_tot = spark.sql(\"SELECT \\\n",
    "                            Genre, Platform, \\\n",
    "                            COUNT(Genre) as Games_in_genre_on_Platform, \\\n",
    "                            ROUND(SUM(NA_players),2) as Total_NA_Players, \\\n",
    "                            ROUND(SUM(JP_players),2) as Total_JP_Players, \\\n",
    "                            ROUND(SUM(Other_players),2) as Total_Other_Players, \\\n",
    "                            ROUND(SUM(Global_players),2) as Total_Global_Players \\\n",
    "                            FROM vg_full_df \\\n",
    "                            WHERE Year_of_Release BETWEEN 1993 AND 2006 \\\n",
    "                                AND Platform LIKE 'PS' OR Platform LIKE'SAT' OR Platform LIKE 'N64' OR Platform LIKE '3DO' OR Platform LIKE 'PCFX' \\\n",
    "                            GROUP BY Genre,Platform \\\n",
    "                            ORDER BY Platform,Total_Global_Players DESC\")\n",
    "\n",
    "gen_5_genre_pop_plat_tot.show(100, truncate=False)"
   ]
  },
  {
   "cell_type": "markdown",
   "id": "baaab090-1e6e-4dec-acc6-c706cddb5cde",
   "metadata": {},
   "source": [
    "#### Gen 5 - Gen 7 RPG Releases Post-FFVII Per Year"
   ]
  },
  {
   "cell_type": "code",
   "execution_count": 19,
   "id": "b31bedc6-258a-4462-949e-9df960cf4476",
   "metadata": {
    "scrolled": true,
    "tags": []
   },
   "outputs": [
    {
     "name": "stdout",
     "output_type": "stream",
     "text": [
      "+-----------+---------------+----------------+----------------+-------------------+--------------------+\n",
      "|count(Name)|Year_of_Release|Total_NA_Players|Total_JP_Players|Total_Other_Players|Total_Global_Players|\n",
      "+-----------+---------------+----------------+----------------+-------------------+--------------------+\n",
      "|22         |1997           |5.31            |11.16           |1.51               |21.39               |\n",
      "|23         |1998           |3.26            |5.87            |0.55               |11.06               |\n",
      "|28         |1999           |8.29            |9.73            |1.22               |24.22               |\n",
      "|21         |2000           |4.64            |10.61           |0.82               |18.59               |\n",
      "|23         |2001           |4.91            |5.25            |0.78               |14.47               |\n",
      "|32         |2002           |9.32            |6.15            |0.94               |20.57               |\n",
      "|33         |2003           |9.75            |5.75            |0.92               |20.7                |\n",
      "|43         |2004           |12.01           |7.45            |1.54               |26.58               |\n",
      "|37         |2005           |6.67            |4.59            |1.49               |15.98               |\n",
      "|44         |2006           |11.54           |6.6             |3.27               |24.13               |\n",
      "|45         |2007           |7.83            |2.78            |1.45               |15.56               |\n",
      "|31         |2008           |13.71           |2.76            |2.46               |24.37               |\n",
      "|33         |2009           |11.2            |5.19            |2.15               |23.27               |\n",
      "|33         |2010           |14.86           |2.65            |2.43               |26.59               |\n",
      "|31         |2011           |14.19           |5.19            |3.33               |31.86               |\n",
      "|20         |2012           |5.25            |2.89            |1.11               |12.56               |\n",
      "|23         |2013           |4.75            |2.71            |1.33               |11.5                |\n",
      "|24         |2014           |3.66            |1.41            |0.94               |8.1                 |\n",
      "|5          |2015           |0.05            |0.63            |0.02               |0.77                |\n",
      "|5          |2016           |0.02            |0.42            |0.01               |0.45                |\n",
      "+-----------+---------------+----------------+----------------+-------------------+--------------------+\n",
      "\n"
     ]
    }
   ],
   "source": [
    "gen_5_7_rpg_per_year = spark.sql(\"SELECT \\\n",
    "                            COUNT(Name), Year_of_Release,\\\n",
    "                            ROUND(SUM(NA_players),2) as Total_NA_Players, \\\n",
    "                            ROUND(SUM(JP_players),2) as Total_JP_Players, \\\n",
    "                            ROUND(SUM(Other_players),2) as Total_Other_Players, \\\n",
    "                            ROUND(SUM(Global_players),2) as Total_Global_Players \\\n",
    "                            FROM vg_full_df \\\n",
    "                            WHERE Year_of_Release BETWEEN 1997 AND 2017 \\\n",
    "                                AND Genre LIKE 'Role-Playing'\\\n",
    "                                AND (Platform LIKE 'PS' OR Platform LIKE 'SAT' OR Platform LIKE 'N64' OR Platform LIKE '3DO' OR Platform LIKE 'PCFX' \\\n",
    "                                    OR Platform LIKE 'PS2' OR Platform LIKE 'DC' OR Platform LIKE 'GC' OR Platform LIKE 'XB'\\\n",
    "                                    OR Platform LIKE 'PS3' OR Platform LIKE 'Wii' OR Platform LIKE 'X360')\\\n",
    "                            GROUP BY Year_of_Release \\\n",
    "                            ORDER BY Year_of_Release\")\n",
    "\n",
    "gen_5_7_rpg_per_year.show(100, truncate=False)"
   ]
  },
  {
   "cell_type": "markdown",
   "id": "37336eac-b5fd-4737-80c1-8d84ae79215a",
   "metadata": {},
   "source": [
    "#### Gen 5 - Gen 7 RPG Releases Post-FFVII Per Platform"
   ]
  },
  {
   "cell_type": "code",
   "execution_count": 20,
   "id": "cdfe9fa2-ee26-4643-9c82-c038776209ff",
   "metadata": {},
   "outputs": [
    {
     "name": "stdout",
     "output_type": "stream",
     "text": [
      "+-----------+--------+----------------+----------------+-------------------+--------------------+\n",
      "|count(Name)|Platform|Total_NA_Players|Total_JP_Players|Total_Other_Players|Total_Global_Players|\n",
      "+-----------+--------+----------------+----------------+-------------------+--------------------+\n",
      "|183        |PS2     |32.47           |32.85           |8.17               |91.55               |\n",
      "|117        |PS3     |29.93           |16.79           |8.49               |73.61               |\n",
      "|77         |PS      |19.46           |35.49           |3.77               |70.21               |\n",
      "|75         |X360    |44.75           |2.61            |6.16               |71.31               |\n",
      "|35         |Wii     |5.48            |5.63            |0.72               |13.7                |\n",
      "|25         |GC      |7.9             |2.36            |0.34               |13.03               |\n",
      "|23         |XB      |9.89            |0.08            |0.5                |13.51               |\n",
      "|10         |SAT     |0.0             |2.09            |0.0                |2.09                |\n",
      "|7          |N64     |1.34            |1.21            |0.12               |3.03                |\n",
      "|4          |DC      |0.0             |0.68            |0.0                |0.68                |\n",
      "+-----------+--------+----------------+----------------+-------------------+--------------------+\n",
      "\n"
     ]
    }
   ],
   "source": [
    "gen_5_7_rpg_per_plat = spark.sql(\"SELECT \\\n",
    "                            COUNT(Name), Platform,\\\n",
    "                            ROUND(SUM(NA_players),2) as Total_NA_Players, \\\n",
    "                            ROUND(SUM(JP_players),2) as Total_JP_Players, \\\n",
    "                            ROUND(SUM(Other_players),2) as Total_Other_Players, \\\n",
    "                            ROUND(SUM(Global_players),2) as Total_Global_Players \\\n",
    "                            FROM vg_full_df \\\n",
    "                            WHERE Year_of_Release BETWEEN 1997 AND 2017 \\\n",
    "                                AND Genre LIKE 'Role-Playing'\\\n",
    "                                AND (Platform LIKE 'PS' OR Platform LIKE 'SAT' OR Platform LIKE 'N64' OR Platform LIKE '3DO' OR Platform LIKE 'PCFX' \\\n",
    "                                    OR Platform LIKE 'PS2' OR Platform LIKE 'DC' OR Platform LIKE 'GC' OR Platform LIKE 'XB'\\\n",
    "                                    OR Platform LIKE 'PS3' OR Platform LIKE 'Wii' OR Platform LIKE 'X360')\\\n",
    "                            GROUP BY Platform \\\n",
    "                            ORDER BY COUNT(Name) DESC\")\n",
    "\n",
    "gen_5_7_rpg_per_plat.show(100, truncate=False)"
   ]
  },
  {
   "cell_type": "markdown",
   "id": "36c8c26c-15f7-4784-8c5b-33e6695f3032",
   "metadata": {},
   "source": [
    "#### Gen 5 - Gen 7 Platform Popularity Post-FFVII Per Year"
   ]
  },
  {
   "cell_type": "code",
   "execution_count": 21,
   "id": "9dfd68db-8b6b-40a7-88d0-4954d6db0676",
   "metadata": {
    "scrolled": true,
    "tags": []
   },
   "outputs": [
    {
     "name": "stdout",
     "output_type": "stream",
     "text": [
      "+--------+---------------+----------------+----------------+-------------------+--------------------+\n",
      "|Platform|Year_of_Release|Total_NA_Players|Total_JP_Players|Total_Other_Players|Total_Global_Players|\n",
      "+--------+---------------+----------------+----------------+-------------------+--------------------+\n",
      "|PS      |1997           |58.06           |33.1            |7.87               |136.08              |\n",
      "|N64     |1997           |25.84           |4.66            |0.91               |39.51               |\n",
      "|SAT     |1997           |0.0             |6.77            |0.0                |6.77                |\n",
      "|PS      |1998           |83.22           |28.48           |9.05               |169.58              |\n",
      "|N64     |1998           |31.39           |6.54            |0.96               |49.28               |\n",
      "|SAT     |1998           |0.0             |3.82            |0.0                |3.82                |\n",
      "|DC      |1998           |1.26            |1.43            |0.08               |3.39                |\n",
      "|PS      |1999           |65.94           |28.07           |7.92               |144.57              |\n",
      "|N64     |1999           |38.77           |8.54            |0.82               |57.96               |\n",
      "|DC      |1999           |1.64            |3.17            |0.06               |5.17                |\n",
      "|SAT     |1999           |0.0             |0.09            |0.0                |0.09                |\n",
      "|PS      |2000           |45.94           |14.6            |5.28               |96.3                |\n",
      "|PS2     |2000           |16.08           |8.87            |3.58               |39.11               |\n",
      "|N64     |2000           |19.74           |7.72            |0.92               |34.01               |\n",
      "|DC      |2000           |2.53            |2.54            |0.13               |5.99                |\n",
      "|XB      |2000           |0.74            |0.0             |0.04               |0.99                |\n",
      "|PS2     |2001           |79.49           |17.79           |16.78              |166.43              |\n",
      "|PS      |2001           |15.84           |3.86            |2.17               |35.52               |\n",
      "|GC      |2001           |16.91           |3.85            |0.78               |26.3                |\n",
      "|XB      |2001           |16.61           |0.37            |0.63               |22.24               |\n",
      "|N64     |2001           |2.08            |0.53            |0.12               |3.26                |\n",
      "|DC      |2001           |0.0             |1.07            |0.0                |1.07                |\n",
      "|PS2     |2002           |96.54           |21.85           |21.72              |205.4               |\n",
      "|GC      |2002           |34.71           |5.28            |1.33               |51.93               |\n",
      "|XB      |2002           |34.05           |0.49            |1.69               |48.15               |\n",
      "|PS      |2002           |2.78            |1.64            |0.36               |6.69                |\n",
      "|DC      |2002           |0.0             |0.29            |0.0                |0.29                |\n",
      "|N64     |2002           |0.06            |0.0             |0.0                |0.08                |\n",
      "|PS2     |2003           |83.54           |18.88           |20.69              |184.29              |\n",
      "|XB      |2003           |39.34           |0.3             |1.91               |55.16               |\n",
      "|GC      |2003           |32.64           |6.43            |1.31               |50.66               |\n",
      "|PS      |2003           |1.15            |0.0             |0.14               |2.05                |\n",
      "|PS2     |2004           |96.78           |19.17           |39.85              |211.78              |\n",
      "|XB      |2004           |48.47           |0.2             |2.13               |65.5                |\n",
      "|GC      |2004           |19.71           |3.0             |0.78               |28.89               |\n",
      "|PS2     |2005           |85.6            |15.05           |19.15              |160.65              |\n",
      "|XB      |2005           |34.84           |0.02            |1.73               |49.17               |\n",
      "|GC      |2005           |19.25           |2.57            |0.67               |27.8                |\n",
      "|X360    |2005           |6.9             |0.28            |0.64               |8.27                |\n",
      "|Wii     |2006           |70.86           |9.15            |13.52              |137.12              |\n",
      "|PS2     |2006           |49.93           |17.64           |14.24              |103.42              |\n",
      "|X360    |2006           |35.16           |1.2             |4.42               |51.66               |\n",
      "|PS3     |2006           |8.84            |1.08            |3.66               |20.95               |\n",
      "|GC      |2006           |8.51            |0.21            |0.26               |11.29               |\n",
      "|XB      |2006           |7.47            |0.0             |0.32               |10.15               |\n",
      "|Wii     |2007           |83.14           |12.12           |13.55              |152.89              |\n",
      "|X360    |2007           |62.99           |1.52            |8.73               |95.43               |\n",
      "|PS2     |2007           |32.05           |9.82            |23.69              |76.0                |\n",
      "|PS3     |2007           |32.16           |4.22            |10.71              |73.14               |\n",
      "|XB      |2007           |0.41            |0.0             |0.02               |0.55                |\n",
      "|GC      |2007           |0.21            |0.0             |0.0                |0.27                |\n",
      "|DC      |2007           |0.0             |0.02            |0.0                |0.02                |\n",
      "|Wii     |2008           |97.12           |12.69           |14.99              |171.45              |\n",
      "|X360    |2008           |82.51           |1.89            |12.7               |135.25              |\n",
      "|PS3     |2008           |57.23           |5.82            |16.74              |118.48              |\n",
      "|PS2     |2008           |21.23           |5.73            |19.31              |53.83               |\n",
      "|XB      |2008           |0.13            |0.0             |0.01               |0.18                |\n",
      "|DC      |2008           |0.0             |0.04            |0.0                |0.04                |\n",
      "|Wii     |2009           |114.55          |16.57           |17.54              |207.08              |\n",
      "|PS3     |2009           |62.65           |9.03            |17.85              |130.89              |\n",
      "|X360    |2009           |74.0            |1.95            |11.03              |120.28              |\n",
      "|PS2     |2009           |9.36            |1.94            |10.16              |26.45               |\n",
      "|X360    |2010           |107.38          |2.11            |14.23              |170.08              |\n",
      "|PS3     |2010           |60.99           |9.87            |20.81              |142.38              |\n",
      "|Wii     |2010           |72.64           |8.78            |10.22              |128.18              |\n",
      "|PS2     |2010           |2.19            |0.71            |1.2                |5.63                |\n",
      "|PS3     |2011           |64.88           |14.1            |21.56              |156.79              |\n",
      "|X360    |2011           |86.75           |1.78            |12.73              |143.94              |\n",
      "|Wii     |2011           |31.11           |5.58            |5.28               |59.64               |\n",
      "|PS2     |2011           |0.13            |0.09            |0.1                |0.47                |\n",
      "|PS3     |2012           |39.88           |11.94           |16.49              |107.27              |\n",
      "|X360    |2012           |58.39           |1.06            |8.29               |99.65               |\n",
      "|Wii     |2012           |10.89           |3.34            |1.49               |21.71               |\n",
      "|PS3     |2013           |41.45           |12.13           |17.4               |113.17              |\n",
      "|X360    |2013           |53.36           |0.43            |7.76               |88.58               |\n",
      "|Wii     |2013           |4.48            |0.05            |0.72               |8.6                 |\n",
      "|PS3     |2014           |16.39           |6.25            |6.88               |47.63               |\n",
      "|X360    |2014           |20.25           |0.08            |3.13               |34.78               |\n",
      "|Wii     |2014           |1.59            |0.0             |0.3                |3.75                |\n",
      "|PS3     |2015           |4.99            |3.67            |2.12               |16.87               |\n",
      "|X360    |2015           |7.36            |0.0             |1.1                |11.95               |\n",
      "|Wii     |2015           |0.43            |0.0             |0.09               |1.14                |\n",
      "|PS3     |2016           |0.67            |1.3             |0.37               |3.58                |\n",
      "|X360    |2016           |0.69            |0.0             |0.12               |1.52                |\n",
      "|Wii     |2016           |0.06            |0.0             |0.01               |0.18                |\n",
      "+--------+---------------+----------------+----------------+-------------------+--------------------+\n",
      "\n"
     ]
    }
   ],
   "source": [
    "gen_5_7_plat_pop_per_year = spark.sql(\"SELECT \\\n",
    "                            Platform, Year_of_Release,\\\n",
    "                            ROUND(SUM(NA_players),2) as Total_NA_Players, \\\n",
    "                            ROUND(SUM(JP_players),2) as Total_JP_Players, \\\n",
    "                            ROUND(SUM(Other_players),2) as Total_Other_Players, \\\n",
    "                            ROUND(SUM(Global_players),2) as Total_Global_Players \\\n",
    "                            FROM vg_full_df \\\n",
    "                            WHERE Year_of_Release BETWEEN 1997 AND 2017 \\\n",
    "                                AND (Platform LIKE 'PS' OR Platform LIKE 'SAT' OR Platform LIKE 'N64' OR Platform LIKE '3DO' OR Platform LIKE 'PCFX' \\\n",
    "                                    OR Platform LIKE 'PS2' OR Platform LIKE 'DC' OR Platform LIKE 'GC' OR Platform LIKE 'XB'\\\n",
    "                                    OR Platform LIKE 'PS3' OR Platform LIKE 'Wii' OR Platform LIKE 'X360')\\\n",
    "                            GROUP BY Platform,Year_of_Release \\\n",
    "                            ORDER BY Year_of_Release,Total_Global_Players DESC\")\n",
    "\n",
    "gen_5_7_plat_pop_per_year.show(100, truncate=False)"
   ]
  },
  {
   "cell_type": "markdown",
   "id": "132905f9-baa0-44aa-a6ff-7b5e554dd262",
   "metadata": {},
   "source": [
    "#### Top 10 games of gen 4"
   ]
  },
  {
   "cell_type": "code",
   "execution_count": 23,
   "id": "b1e26b5c-351c-4032-a539-32568704c5eb",
   "metadata": {},
   "outputs": [
    {
     "name": "stdout",
     "output_type": "stream",
     "text": [
      "+-----------------------------------------+--------+--------+----------+----------+-------------+--------------+\n",
      "|Name                                     |Genre   |Platform|NA_players|JP_players|Other_players|Global_players|\n",
      "+-----------------------------------------+--------+--------+----------+----------+-------------+--------------+\n",
      "|Super Mario World                        |Platform|SNES    |12.78     |3.54      |0.55         |20.61         |\n",
      "|Super Mario All-Stars                    |Platform|SNES    |5.99      |2.12      |0.29         |10.55         |\n",
      "|Donkey Kong Country                      |Platform|SNES    |4.36      |3.0       |0.23         |9.3           |\n",
      "|Super Mario Kart                         |Racing  |SNES    |3.54      |3.81      |0.18         |8.76          |\n",
      "|Street Fighter II: The World Warrior     |Fighting|SNES    |2.47      |2.87      |0.12         |6.3           |\n",
      "|Sonic the Hedgehog 2                     |Platform|GEN     |4.47      |0.16      |0.19         |6.03          |\n",
      "|Donkey Kong Country 2: Diddy's Kong Quest|Platform|SNES    |2.1       |2.2       |0.11         |5.15          |\n",
      "|The Legend of Zelda: A Link to the Past  |Action  |SNES    |2.42      |1.15      |0.13         |4.61          |\n",
      "|Sonic the Hedgehog                       |Platform|GEN     |3.03      |0.26      |0.13         |4.34          |\n",
      "|Super Mario World 2: Yoshi's Island      |Platform|SNES    |1.65      |1.76      |0.09         |4.12          |\n",
      "+-----------------------------------------+--------+--------+----------+----------+-------------+--------------+\n",
      "\n"
     ]
    }
   ],
   "source": [
    "gen_4_top_10 = spark.sql(\"SELECT \\\n",
    "                            Name, Genre,Platform,\\\n",
    "                            NA_players,JP_players, Other_players, Global_players\\\n",
    "                            FROM vg_full_df \\\n",
    "                            WHERE Year_of_Release BETWEEN 1987 AND 2004 \\\n",
    "                                AND Platform LIKE 'SNES' OR Platform LIKE 'GEN' OR Platform LIKE 'SCD' OR Platform LIKE 'NG' OR Platform LIKE 'TG16' \\\n",
    "                            ORDER BY Global_players DESC\\\n",
    "                            LIMIT 10\")\n",
    "\n",
    "gen_4_top_10.show(truncate=False)"
   ]
  },
  {
   "cell_type": "markdown",
   "id": "4e7d59c9-928a-414a-9158-7c18c0e7314b",
   "metadata": {},
   "source": [
    "#### Top 10 games of gen 5"
   ]
  },
  {
   "cell_type": "code",
   "execution_count": 24,
   "id": "cfef7d8d-a42d-44ca-be2d-69aa91a1f968",
   "metadata": {},
   "outputs": [
    {
     "name": "stdout",
     "output_type": "stream",
     "text": [
      "+--------------------------------------+------------+--------+----------+----------+-------------+--------------+\n",
      "|Name                                  |Genre       |Platform|NA_players|JP_players|Other_players|Global_players|\n",
      "+--------------------------------------+------------+--------+----------+----------+-------------+--------------+\n",
      "|Super Mario 64                        |Platform    |N64     |6.91      |1.91      |0.23         |11.89         |\n",
      "|Gran Turismo                          |Racing      |PS      |4.02      |2.54      |0.52         |10.95         |\n",
      "|Mario Kart 64                         |Racing      |N64     |5.55      |2.23      |0.15         |9.87          |\n",
      "|Final Fantasy VII                     |Role-Playing|PS      |3.01      |3.28      |0.96         |9.72          |\n",
      "|Gran Turismo 2                        |Racing      |PS      |3.88      |1.69      |0.5          |9.49          |\n",
      "|GoldenEye 007                         |Shooter     |N64     |5.8       |0.13      |0.15         |8.09          |\n",
      "|Final Fantasy VIII                    |Role-Playing|PS      |2.28      |3.63      |0.23         |7.86          |\n",
      "|The Legend of Zelda: Ocarina of Time  |Action      |N64     |4.1       |1.45      |0.16         |7.6           |\n",
      "|Crash Bandicoot 2: Cortex Strikes Back|Platform    |PS      |3.78      |1.31      |0.31         |7.58          |\n",
      "|Tekken 3                              |Fighting    |PS      |3.27      |1.4       |0.29         |7.16          |\n",
      "+--------------------------------------+------------+--------+----------+----------+-------------+--------------+\n",
      "\n"
     ]
    }
   ],
   "source": [
    "gen_5_top_10 = spark.sql(\"SELECT \\\n",
    "                            Name, Genre, Platform,\\\n",
    "                            NA_players,JP_players, Other_players, Global_players\\\n",
    "                            FROM vg_full_df \\\n",
    "                            WHERE Year_of_Release BETWEEN 1993 AND 2006 \\\n",
    "                                AND Platform LIKE 'PS' OR Platform LIKE 'SAT' OR Platform LIKE 'N64' OR Platform LIKE '3DO' OR Platform LIKE 'PCFX' \\\n",
    "                            ORDER BY Global_players DESC\\\n",
    "                            LIMIT 10\")\n",
    "\n",
    "gen_5_top_10.show(truncate=False)"
   ]
  },
  {
   "cell_type": "markdown",
   "id": "93b8e229-f17a-4346-baa4-d3a7688d6c79",
   "metadata": {},
   "source": [
    "#### Top 10 games of gen 6"
   ]
  },
  {
   "cell_type": "code",
   "execution_count": 25,
   "id": "98db5eb1-4a6f-41c3-a2b5-74a7bbf440f9",
   "metadata": {},
   "outputs": [
    {
     "name": "stdout",
     "output_type": "stream",
     "text": [
      "+-----------------------------+------------+----------+----------+-------------+--------------+\n",
      "|Name                         |Genre       |NA_players|JP_players|Other_players|Global_players|\n",
      "+-----------------------------+------------+----------+----------+-------------+--------------+\n",
      "|Grand Theft Auto: San Andreas|Action      |PS2       |0.41      |10.57        |20.81         |\n",
      "|Grand Theft Auto: Vice City  |Action      |PS2       |0.47      |1.78         |16.15         |\n",
      "|Gran Turismo 3: A-Spec       |Racing      |PS2       |1.87      |1.16         |14.98         |\n",
      "|Grand Theft Auto III         |Action      |PS2       |0.3       |1.3          |13.1          |\n",
      "|Gran Turismo 4               |Racing      |PS2       |1.1       |7.53         |11.66         |\n",
      "|Halo 2                       |Shooter     |XB        |0.05      |0.08         |8.49          |\n",
      "|Final Fantasy X              |Role-Playing|PS2       |2.73      |0.33         |8.05          |\n",
      "|Need for Speed Underground   |Racing      |PS2       |0.08      |1.02         |7.2           |\n",
      "|Super Smash Bros. Melee      |Fighting    |GC        |1.39      |0.22         |7.07          |\n",
      "|Mario Kart: Double Dash!!    |Racing      |GC        |0.87      |0.19         |6.95          |\n",
      "+-----------------------------+------------+----------+----------+-------------+--------------+\n",
      "\n"
     ]
    }
   ],
   "source": [
    "\n",
    "\n",
    "gen_6_top_10 = spark.sql(\"SELECT \\\n",
    "                            Name, Genre, Platform\\\n",
    "                            NA_players,JP_players, Other_players, Global_players\\\n",
    "                            FROM vg_full_df \\\n",
    "                            WHERE Year_of_Release BETWEEN 1998 AND 2013 \\\n",
    "                                AND Platform LIKE 'PS2' OR Platform LIKE 'DC' OR Platform LIKE 'GC' OR Platform LIKE 'XB'\\\n",
    "                            ORDER BY Global_players DESC\\\n",
    "                            LIMIT 10\")\n",
    "\n",
    "gen_6_top_10.show(truncate=False)"
   ]
  },
  {
   "cell_type": "markdown",
   "id": "69f340c8-02c8-494a-95cd-1e6f1bd6ed81",
   "metadata": {},
   "source": [
    "#### Top 10 games of gen 7"
   ]
  },
  {
   "cell_type": "code",
   "execution_count": 26,
   "id": "55edbfe6-b577-4af3-a874-f3e3679b3fde",
   "metadata": {},
   "outputs": [
    {
     "name": "stdout",
     "output_type": "stream",
     "text": [
      "+-------------------------+--------+----------+----------+-------------+--------------+\n",
      "|Name                     |Genre   |NA_players|JP_players|Other_players|Global_players|\n",
      "+-------------------------+--------+----------+----------+-------------+--------------+\n",
      "|Wii Sports               |Sports  |Wii       |3.77      |8.45         |82.53         |\n",
      "|Mario Kart Wii           |Racing  |Wii       |3.79      |3.29         |35.52         |\n",
      "|Wii Sports Resort        |Sports  |Wii       |3.28      |2.95         |32.77         |\n",
      "|Wii Play                 |Misc    |Wii       |2.93      |2.84         |28.92         |\n",
      "|New Super Mario Bros. Wii|Platform|Wii       |4.7       |2.24         |28.32         |\n",
      "|Wii Fit                  |Sports  |Wii       |3.6       |2.15         |22.7          |\n",
      "|Kinect Adventures!       |Misc    |X360      |0.24      |1.69         |21.81         |\n",
      "|Wii Fit Plus             |Sports  |Wii       |2.53      |1.77         |21.79         |\n",
      "|Grand Theft Auto V       |Action  |PS3       |0.98      |3.96         |21.04         |\n",
      "|Grand Theft Auto V       |Action  |X360      |0.06      |1.41         |16.27         |\n",
      "+-------------------------+--------+----------+----------+-------------+--------------+\n",
      "\n"
     ]
    }
   ],
   "source": [
    "gen_7_top_10 = spark.sql(\"SELECT \\\n",
    "                            Name, Genre,Platform\\\n",
    "                            NA_players,JP_players, Other_players, Global_players\\\n",
    "                            FROM vg_full_df \\\n",
    "                            WHERE Year_of_Release BETWEEN 2005 AND 2017 \\\n",
    "                                AND Platform LIKE 'PS3' OR Platform LIKE 'Wii' OR Platform LIKE 'X360'\\\n",
    "                            ORDER BY Global_players DESC\\\n",
    "                            LIMIT 10\")\n",
    "\n",
    "gen_7_top_10.show(truncate=False)"
   ]
  },
  {
   "cell_type": "markdown",
   "id": "67175630-63f7-436a-b1b3-7a76b48434cb",
   "metadata": {},
   "source": [
    "#### Final Fantasies by year"
   ]
  },
  {
   "cell_type": "code",
   "execution_count": 28,
   "id": "33e1c265-1982-4c68-abee-85dda7b75e14",
   "metadata": {
    "scrolled": true,
    "tags": []
   },
   "outputs": [
    {
     "name": "stdout",
     "output_type": "stream",
     "text": [
      "+-----------------------------------------------------+--------+---------------+------------+----------+----------+-------------+--------------+\n",
      "|Name                                                 |Platform|Year_of_Release|Genre       |NA_players|JP_players|Other_players|Global_players|\n",
      "+-----------------------------------------------------+--------+---------------+------------+----------+----------+-------------+--------------+\n",
      "|Final Fantasy: Crystal Chronicles                    |GC      |2003           |Role-Playing|0.72      |0.36      |0.04         |1.49          |\n",
      "|Final Fantasy IV                                     |PS      |1997           |Simulation  |0.0       |0.29      |0.02         |0.31          |\n",
      "|Final Fantasy Tactics                                |PS      |1997           |Role-Playing|0.93      |1.34      |0.06         |2.45          |\n",
      "|Final Fantasy V                                      |PS      |1998           |Role-Playing|0.0       |0.16      |0.01         |0.17          |\n",
      "|Final Fantasy VI                                     |PS      |1999           |Role-Playing|0.0       |0.08      |0.01         |0.08          |\n",
      "|Final Fantasy VIII                                   |PS      |1999           |Role-Playing|2.28      |3.63      |0.23         |7.86          |\n",
      "|Final Fantasy Anthology                              |PS      |1999           |Role-Playing|0.45      |0.0       |0.05         |0.8           |\n",
      "|Final Fantasy VII International                      |PS      |1997           |Role-Playing|0.0       |0.59      |0.04         |0.63          |\n",
      "|Final Fantasy VII                                    |PS      |1997           |Role-Playing|3.01      |3.28      |0.96         |9.72          |\n",
      "|Final Fantasy IX                                     |PS      |2000           |Role-Playing|1.62      |2.78      |0.14         |5.3           |\n",
      "|Final Fantasy Chronicles                             |PS      |2001           |Role-Playing|0.29      |0.0       |0.03         |0.52          |\n",
      "|Final Fantasy Collection                             |PS      |1999           |Role-Playing|0.0       |0.42      |0.03         |0.45          |\n",
      "|Final Fantasy XI: Treasures of Aht Urhgan            |PS2     |2006           |Role-Playing|0.06      |0.1       |0.02         |0.23          |\n",
      "|Final Fantasy XI: Rise of the Zilart                 |PS2     |2003           |Role-Playing|0.0       |0.13      |0.0          |0.13          |\n",
      "|Final Fantasy XII International Zodiac Job System    |PS2     |2007           |Role-Playing|0.0       |0.11      |0.0          |0.11          |\n",
      "|Final Fantasy XII                                    |PS2     |2006           |Role-Playing|1.88      |2.33      |1.74         |5.95          |\n",
      "|Final Fantasy X-2: International + Last Mission      |PS2     |2004           |Role-Playing|0.0       |0.29      |0.0          |0.29          |\n",
      "|Final Fantasy XI: Vana'diel Collection 2008          |PS2     |2007           |Role-Playing|0.03      |0.01      |0.01         |0.08          |\n",
      "|Final Fantasy X                                      |PS2     |2001           |Role-Playing|2.91      |2.73      |0.33         |8.05          |\n",
      "|Final Fantasy X-2                                    |PS2     |2003           |Role-Playing|1.92      |2.11      |0.17         |5.29          |\n",
      "|Final Fantasy XI: Wings of the Goddess               |PS2     |2007           |Role-Playing|0.35      |0.09      |0.09         |0.81          |\n",
      "|Final Fantasy X International                        |PS2     |2004           |Role-Playing|0.0       |0.27      |0.0          |0.27          |\n",
      "|Final Fantasy XI: Chains of Promathia                |PS2     |2004           |Role-Playing|0.12      |0.0       |0.03         |0.25          |\n",
      "|Final Fantasy X / X-2 HD Remaster                    |PS3     |2013           |Role-Playing|0.43      |0.32      |0.16         |1.27          |\n",
      "|Final Fantasy XIV: A Realm Reborn                    |PS3     |2013           |Role-Playing|0.37      |0.28      |0.13         |1.08          |\n",
      "|Final Fantasy XIV: Heavensward                       |PS3     |2015           |Action      |0.01      |0.01      |0.0          |0.02          |\n",
      "|Final Fantasy XIII                                   |PS3     |2009           |Role-Playing|1.74      |1.87      |0.51         |5.33          |\n",
      "|Final Fantasy XIII-2                                 |PS3     |2011           |Role-Playing|0.78      |0.89      |0.23         |2.63          |\n",
      "|Final Fantasy Crystal Chronicles: Echoes of Time     |Wii     |2009           |Role-Playing|0.13      |0.05      |0.02         |0.25          |\n",
      "|Final Fantasy Fables: Chocobo's Dungeon              |Wii     |2007           |Role-Playing|0.09      |0.11      |0.01         |0.21          |\n",
      "|Final Fantasy Crystal Chronicles: The Crystal Bearers|Wii     |2009           |Action      |0.21      |0.08      |0.03         |0.39          |\n",
      "|Final Fantasy XIII                                   |X360    |2010           |Role-Playing|1.28      |0.01      |0.21         |2.16          |\n",
      "|Final Fantasy XIII-2                                 |X360    |2011           |Role-Playing|0.36      |0.02      |0.06         |0.73          |\n",
      "|Final Fantasy XI: Wings of the Goddess               |X360    |2007           |Role-Playing|0.26      |0.02      |0.02         |0.3           |\n",
      "|Final Fantasy XI: Ultimate Collection                |X360    |2009           |Role-Playing|0.25      |0.0       |0.02         |0.27          |\n",
      "|Final Fantasy XI                                     |X360    |2006           |Role-Playing|0.17      |0.0       |0.01         |0.19          |\n",
      "|Final Fantasy XI: Vana'diel Collection 2008          |X360    |2007           |Role-Playing|0.13      |0.01      |0.01         |0.15          |\n",
      "|Final Fantasy XI: All-In-One Pack 2006               |X360    |2006           |Role-Playing|0.0       |0.02      |0.0          |0.02          |\n",
      "+-----------------------------------------------------+--------+---------------+------------+----------+----------+-------------+--------------+\n",
      "\n"
     ]
    }
   ],
   "source": [
    "final_fantasies_by_year= spark.sql(\"SELECT \\\n",
    "                Name, Platform, Year_of_Release, Genre,\\\n",
    "                NA_players,JP_players,Other_players,Global_players \\\n",
    "                FROM vg_full_df \\\n",
    "                WHERE Name LIKE 'Final Fantasy%'\\\n",
    "                AND Year_of_Release < 2018 \\\n",
    "                AND (Platform LIKE 'PS' OR Platform LIKE 'SAT' OR Platform LIKE 'N64' OR Platform LIKE '3DO' OR Platform LIKE 'PCFX' \\\n",
    "                    OR Platform LIKE 'PS2' OR Platform LIKE 'DC' OR Platform LIKE 'GC' OR Platform LIKE 'XB'\\\n",
    "                    OR Platform LIKE 'PS3' OR Platform LIKE 'Wii' OR Platform LIKE 'X360')\\\n",
    "                ORDER BY Platform\")\n",
    "\n",
    "final_fantasies_by_year.show(100, truncate=False)"
   ]
  },
  {
   "cell_type": "markdown",
   "id": "b87b4529-9347-4ae3-b350-b1a0ccfb1015",
   "metadata": {},
   "source": [
    "#### ff popularity by year"
   ]
  },
  {
   "cell_type": "code",
   "execution_count": 29,
   "id": "f128d5dc-4e14-431d-9972-84deeea2b041",
   "metadata": {
    "scrolled": true,
    "tags": []
   },
   "outputs": [
    {
     "name": "stdout",
     "output_type": "stream",
     "text": [
      "+-----------------------------------------------------+------------+--------+---------------+----------+----------+-------------+--------------+\n",
      "|Name                                                 |Genre       |Platform|Year_of_Release|NA_players|JP_players|Other_players|Global_players|\n",
      "+-----------------------------------------------------+------------+--------+---------------+----------+----------+-------------+--------------+\n",
      "|Final Fantasy Tactics                                |Role-Playing|PS      |1997           |0.93      |1.34      |0.06         |2.45          |\n",
      "|Final Fantasy VII International                      |Role-Playing|PS      |1997           |0.0       |0.59      |0.04         |0.63          |\n",
      "|Final Fantasy IV                                     |Simulation  |PS      |1997           |0.0       |0.29      |0.02         |0.31          |\n",
      "|Final Fantasy VII                                    |Role-Playing|PS      |1997           |3.01      |3.28      |0.96         |9.72          |\n",
      "|Final Fantasy V                                      |Role-Playing|PS      |1998           |0.0       |0.16      |0.01         |0.17          |\n",
      "|Final Fantasy VIII                                   |Role-Playing|PS      |1999           |2.28      |3.63      |0.23         |7.86          |\n",
      "|Final Fantasy Collection                             |Role-Playing|PS      |1999           |0.0       |0.42      |0.03         |0.45          |\n",
      "|Final Fantasy Anthology                              |Role-Playing|PS      |1999           |0.45      |0.0       |0.05         |0.8           |\n",
      "|Final Fantasy VI                                     |Role-Playing|PS      |1999           |0.0       |0.08      |0.01         |0.08          |\n",
      "|Final Fantasy IX                                     |Role-Playing|PS      |2000           |1.62      |2.78      |0.14         |5.3           |\n",
      "|Final Fantasy Chronicles                             |Role-Playing|PS      |2001           |0.29      |0.0       |0.03         |0.52          |\n",
      "|Final Fantasy X                                      |Role-Playing|PS2     |2001           |2.91      |2.73      |0.33         |8.05          |\n",
      "|Final Fantasy: Crystal Chronicles                    |Role-Playing|GC      |2003           |0.72      |0.36      |0.04         |1.49          |\n",
      "|Final Fantasy XI: Rise of the Zilart                 |Role-Playing|PS2     |2003           |0.0       |0.13      |0.0          |0.13          |\n",
      "|Final Fantasy X-2                                    |Role-Playing|PS2     |2003           |1.92      |2.11      |0.17         |5.29          |\n",
      "|Final Fantasy X-2: International + Last Mission      |Role-Playing|PS2     |2004           |0.0       |0.29      |0.0          |0.29          |\n",
      "|Final Fantasy X International                        |Role-Playing|PS2     |2004           |0.0       |0.27      |0.0          |0.27          |\n",
      "|Final Fantasy XI: Chains of Promathia                |Role-Playing|PS2     |2004           |0.12      |0.0       |0.03         |0.25          |\n",
      "|Final Fantasy XI: Treasures of Aht Urhgan            |Role-Playing|PS2     |2006           |0.06      |0.1       |0.02         |0.23          |\n",
      "|Final Fantasy XI                                     |Role-Playing|X360    |2006           |0.17      |0.0       |0.01         |0.19          |\n",
      "|Final Fantasy XI: All-In-One Pack 2006               |Role-Playing|X360    |2006           |0.0       |0.02      |0.0          |0.02          |\n",
      "|Final Fantasy XII                                    |Role-Playing|PS2     |2006           |1.88      |2.33      |1.74         |5.95          |\n",
      "|Final Fantasy Fables: Chocobo's Dungeon              |Role-Playing|Wii     |2007           |0.09      |0.11      |0.01         |0.21          |\n",
      "|Final Fantasy XI: Vana'diel Collection 2008          |Role-Playing|X360    |2007           |0.13      |0.01      |0.01         |0.15          |\n",
      "|Final Fantasy XI: Vana'diel Collection 2008          |Role-Playing|PS2     |2007           |0.03      |0.01      |0.01         |0.08          |\n",
      "|Final Fantasy XI: Wings of the Goddess               |Role-Playing|PS2     |2007           |0.35      |0.09      |0.09         |0.81          |\n",
      "|Final Fantasy XII International Zodiac Job System    |Role-Playing|PS2     |2007           |0.0       |0.11      |0.0          |0.11          |\n",
      "|Final Fantasy XI: Wings of the Goddess               |Role-Playing|X360    |2007           |0.26      |0.02      |0.02         |0.3           |\n",
      "|Final Fantasy Crystal Chronicles: The Crystal Bearers|Action      |Wii     |2009           |0.21      |0.08      |0.03         |0.39          |\n",
      "|Final Fantasy XI: Ultimate Collection                |Role-Playing|X360    |2009           |0.25      |0.0       |0.02         |0.27          |\n",
      "|Final Fantasy XIII                                   |Role-Playing|PS3     |2009           |1.74      |1.87      |0.51         |5.33          |\n",
      "|Final Fantasy Crystal Chronicles: Echoes of Time     |Role-Playing|Wii     |2009           |0.13      |0.05      |0.02         |0.25          |\n",
      "|Final Fantasy XIII                                   |Role-Playing|X360    |2010           |1.28      |0.01      |0.21         |2.16          |\n",
      "|Final Fantasy XIII-2                                 |Role-Playing|PS3     |2011           |0.78      |0.89      |0.23         |2.63          |\n",
      "|Final Fantasy XIII-2                                 |Role-Playing|X360    |2011           |0.36      |0.02      |0.06         |0.73          |\n",
      "|Final Fantasy X / X-2 HD Remaster                    |Role-Playing|PS3     |2013           |0.43      |0.32      |0.16         |1.27          |\n",
      "|Final Fantasy XIV: A Realm Reborn                    |Role-Playing|PS3     |2013           |0.37      |0.28      |0.13         |1.08          |\n",
      "|Final Fantasy XIV: Heavensward                       |Action      |PS3     |2015           |0.01      |0.01      |0.0          |0.02          |\n",
      "|Final Fantasy XI                                     |Role-Playing|PS2     |N/A            |0.08      |0.15      |0.02         |0.32          |\n",
      "+-----------------------------------------------------+------------+--------+---------------+----------+----------+-------------+--------------+\n",
      "\n"
     ]
    }
   ],
   "source": [
    "ff_pop = spark.sql(\"SELECT \\\n",
    "                    Name, Genre, Platform, Year_of_Release,\\\n",
    "                    NA_players, JP_players, Other_players, Global_players \\\n",
    "                    FROM vg_full_df \\\n",
    "                    WHERE Name LIKE 'Final Fantasy%' \\\n",
    "                        AND (Platform LIKE 'PS' OR Platform LIKE 'SAT' OR Platform LIKE 'N64' OR Platform LIKE '3DO' OR Platform LIKE 'PCFX' \\\n",
    "                            OR Platform LIKE 'PS2' OR Platform LIKE 'DC' OR Platform LIKE 'GC' OR Platform LIKE 'XB'\\\n",
    "                            OR Platform LIKE 'PS3' OR Platform LIKE 'Wii' OR Platform LIKE 'X360')\\\n",
    "                    ORDER BY Year_of_Release\")\n",
    "\n",
    "ff_pop.show(100,truncate=False)"
   ]
  },
  {
   "cell_type": "markdown",
   "id": "144db95c-418f-4b2a-98a1-ae6e74f691ad",
   "metadata": {},
   "source": [
    "#### ff amount of releases by year"
   ]
  },
  {
   "cell_type": "code",
   "execution_count": 30,
   "id": "fb06936f-ba9c-4835-8f04-12fde0be92a5",
   "metadata": {},
   "outputs": [
    {
     "name": "stdout",
     "output_type": "stream",
     "text": [
      "+-----------+---------------+----------------+----------------+-------------------+--------------------+\n",
      "|count(Name)|Year_of_Release|Total_NA_Players|Total_JP_Players|Total_Other_Players|Total_Global_Players|\n",
      "+-----------+---------------+----------------+----------------+-------------------+--------------------+\n",
      "|4          |1997           |3.94            |5.5             |1.08               |13.11               |\n",
      "|1          |1998           |0.0             |0.16            |0.01               |0.17                |\n",
      "|4          |1999           |2.73            |4.13            |0.32               |9.19                |\n",
      "|1          |2000           |1.62            |2.78            |0.14               |5.3                 |\n",
      "|2          |2001           |3.2             |2.73            |0.36               |8.57                |\n",
      "|3          |2003           |2.64            |2.6             |0.21               |6.91                |\n",
      "|3          |2004           |0.12            |0.56            |0.03               |0.81                |\n",
      "|4          |2006           |2.11            |2.45            |1.77               |6.39                |\n",
      "|6          |2007           |0.86            |0.35            |0.14               |1.66                |\n",
      "|4          |2009           |2.33            |2.0             |0.58               |6.24                |\n",
      "|1          |2010           |1.28            |0.01            |0.21               |2.16                |\n",
      "|2          |2011           |1.14            |0.91            |0.29               |3.36                |\n",
      "|2          |2013           |0.8             |0.6             |0.29               |2.35                |\n",
      "|1          |2015           |0.01            |0.01            |0.0                |0.02                |\n",
      "|1          |N/A            |0.08            |0.15            |0.02               |0.32                |\n",
      "+-----------+---------------+----------------+----------------+-------------------+--------------------+\n",
      "\n"
     ]
    }
   ],
   "source": [
    "ff_amount = spark.sql(\"SELECT \\\n",
    "                    COUNT(Name), Year_of_Release,\\\n",
    "                    ROUND(SUM(NA_players),2) as Total_NA_Players, \\\n",
    "                    ROUND(SUM(JP_players),2) as Total_JP_Players, \\\n",
    "                    ROUND(SUM(Other_players),2) as Total_Other_Players, \\\n",
    "                    ROUND(SUM(Global_players),2) as Total_Global_Players \\\n",
    "                    FROM vg_full_df \\\n",
    "                    WHERE Name LIKE 'Final Fantasy%' \\\n",
    "                        AND (Platform LIKE 'PS' OR Platform LIKE 'SAT' OR Platform LIKE 'N64' OR Platform LIKE '3DO' OR Platform LIKE 'PCFX' \\\n",
    "                            OR Platform LIKE 'PS2' OR Platform LIKE 'DC' OR Platform LIKE 'GC' OR Platform LIKE 'XB'\\\n",
    "                            OR Platform LIKE 'PS3' OR Platform LIKE 'Wii' OR Platform LIKE 'X360')\\\n",
    "                    GROUP BY Year_of_Release \\\n",
    "                    ORDER BY Year_of_Release,COUNT(Name)\")\n",
    "\n",
    "ff_amount.show(100,truncate=False)"
   ]
  },
  {
   "cell_type": "markdown",
   "id": "970f07ea-2934-4ee2-b3be-58dca5a01ce0",
   "metadata": {},
   "source": [
    "#### Gen 6 platform popularity"
   ]
  },
  {
   "cell_type": "code",
   "execution_count": 31,
   "id": "1e231c12-55c7-4eb1-8643-603aa1c59776",
   "metadata": {},
   "outputs": [
    {
     "name": "stdout",
     "output_type": "stream",
     "text": [
      "+--------+-----------------+----------------+----------------+-------------------+--------------------+\n",
      "|Platform|Games_on_Platform|Total_NA_Players|Total_JP_Players|Total_Other_Players|Total_Global_Players|\n",
      "+--------+-----------------+----------------+----------------+-------------------+--------------------+\n",
      "|PS2     |2127             |572.92          |137.54          |190.47             |1233.46             |\n",
      "|XB      |824              |186.69          |1.38            |8.72               |258.26              |\n",
      "|GC      |556              |133.46          |21.58           |5.18               |199.36              |\n",
      "|DC      |52               |5.43            |8.56            |0.27               |15.97               |\n",
      "+--------+-----------------+----------------+----------------+-------------------+--------------------+\n",
      "\n"
     ]
    }
   ],
   "source": [
    "gen_6_platform_pop = spark.sql(\"SELECT \\\n",
    "                                 Platform,COUNT(Name) as Games_on_Platform, \\\n",
    "                                 ROUND(SUM(NA_players),2) as Total_NA_Players, \\\n",
    "                                 ROUND(SUM(JP_players),2) as Total_JP_Players, \\\n",
    "                                 ROUND(SUM(Other_players),2) as Total_Other_Players, \\\n",
    "                                 ROUND(SUM(Global_players),2) as Total_Global_Players \\\n",
    "                                 FROM vg_full_df \\\n",
    "                                 WHERE Year_of_Release BETWEEN 1998 AND 2013 \\\n",
    "                                    AND Platform LIKE 'PS2' OR Platform LIKE 'DC' OR Platform LIKE 'GC' OR Platform LIKE 'XB'\\\n",
    "                                 GROUP BY Platform \\\n",
    "                                 ORDER BY Total_Global_Players DESC\")\n",
    "\n",
    "gen_6_platform_pop.show(100, truncate=False)"
   ]
  },
  {
   "cell_type": "markdown",
   "id": "afd5987f-3cbb-4cef-9145-3d5e53479f12",
   "metadata": {},
   "source": [
    "#### Gen 6 genre popularity"
   ]
  },
  {
   "cell_type": "code",
   "execution_count": 32,
   "id": "406a70cb-bc3c-46fd-9ade-375fd223f803",
   "metadata": {},
   "outputs": [
    {
     "name": "stdout",
     "output_type": "stream",
     "text": [
      "+------------+--------------------------+----------------+----------------+-------------------+--------------------+\n",
      "|Genre       |Games_in_genre_on_Platform|Total_NA_Players|Total_JP_Players|Total_Other_Players|Total_Global_Players|\n",
      "+------------+--------------------------+----------------+----------------+-------------------+--------------------+\n",
      "|Action      |604                       |188.57          |29.47           |50.42              |360.81              |\n",
      "|Sports      |681                       |189.78          |27.85           |45.81              |346.06              |\n",
      "|Racing      |404                       |112.24          |8.58            |28.79              |210.24              |\n",
      "|Shooter     |341                       |113.56          |4.78            |15.6               |185.79              |\n",
      "|Misc        |300                       |56.62           |11.61           |22.66              |125.0               |\n",
      "|Fighting    |248                       |64.61           |17.33           |12.99              |123.0               |\n",
      "|Role-Playing|237                       |50.27           |36.08           |9.01               |118.89              |\n",
      "|Platform    |225                       |65.7            |4.44            |10.27              |112.97              |\n",
      "|Simulation  |126                       |29.98           |8.33            |4.92               |58.48               |\n",
      "|Adventure   |253                       |13.27           |9.8             |2.3                |32.65               |\n",
      "|Strategy    |102                       |7.79            |9.61            |1.02               |22.14               |\n",
      "|Puzzle      |38                        |6.11            |1.18            |0.85               |11.02               |\n",
      "+------------+--------------------------+----------------+----------------+-------------------+--------------------+\n",
      "\n"
     ]
    }
   ],
   "source": [
    "gen_6_genre_pop = spark.sql(\"SELECT \\\n",
    "                            Genre, COUNT(Genre) as Games_in_genre_on_Platform, \\\n",
    "                            ROUND(SUM(NA_players),2) as Total_NA_Players, \\\n",
    "                            ROUND(SUM(JP_players),2) as Total_JP_Players, \\\n",
    "                            ROUND(SUM(Other_players),2) as Total_Other_Players, \\\n",
    "                            ROUND(SUM(Global_players),2) as Total_Global_Players \\\n",
    "                            FROM vg_full_df \\\n",
    "                            WHERE Year_of_Release BETWEEN 1998 AND 2013 \\\n",
    "                                AND Platform LIKE 'PS2' OR Platform LIKE 'DC' OR Platform LIKE 'GC' OR Platform LIKE 'XB'\\\n",
    "                            GROUP BY Genre \\\n",
    "                            ORDER BY Total_Global_Players DESC\")\n",
    "\n",
    "gen_6_genre_pop.show(100, truncate=False)"
   ]
  },
  {
   "cell_type": "markdown",
   "id": "8ac5799a-0596-49f2-b5eb-499ef930cec5",
   "metadata": {},
   "source": [
    "#### Gen 6 Genre Popularity per Platform"
   ]
  },
  {
   "cell_type": "code",
   "execution_count": 33,
   "id": "ae3e9c9c-801f-47cc-990d-2feb4bd4c551",
   "metadata": {
    "scrolled": true,
    "tags": []
   },
   "outputs": [
    {
     "name": "stdout",
     "output_type": "stream",
     "text": [
      "+------------+--------+--------------------------+----------------+----------------+-------------------+--------------------+\n",
      "|Genre       |Platform|Games_in_genre_on_Platform|Total_NA_Players|Total_JP_Players|Total_Other_Players|Total_Global_Players|\n",
      "+------------+--------+--------------------------+----------------+----------------+-------------------+--------------------+\n",
      "|Sports      |DC      |10                        |2.14            |1.37            |0.04               |3.66                |\n",
      "|Racing      |DC      |6                         |1.1             |0.96            |0.08               |2.65                |\n",
      "|Platform    |DC      |2                         |1.26            |0.58            |0.08               |2.54                |\n",
      "|Adventure   |DC      |11                        |0.52            |1.7             |0.04               |2.5                 |\n",
      "|Fighting    |DC      |12                        |0.0             |1.83            |0.0                |1.83                |\n",
      "|Action      |DC      |3                         |0.41            |0.59            |0.03               |1.26                |\n",
      "|Role-Playing|DC      |4                         |0.0             |0.68            |0.0                |0.68                |\n",
      "|Simulation  |DC      |1                         |0.0             |0.52            |0.0                |0.52                |\n",
      "|Shooter     |DC      |3                         |0.0             |0.33            |0.0                |0.33                |\n",
      "|Action      |GC      |101                       |26.11           |2.83            |0.99               |37.84               |\n",
      "|Platform    |GC      |73                        |20.4            |1.5             |0.74               |28.66               |\n",
      "|Sports      |GC      |110                       |18.37           |1.63            |0.56               |25.49               |\n",
      "|Racing      |GC      |63                        |14.93           |1.57            |0.54               |21.89               |\n",
      "|Fighting    |GC      |42                        |11.29           |3.69            |0.54               |18.43               |\n",
      "|Misc        |GC      |36                        |10.07           |3.58            |0.45               |16.73               |\n",
      "|Shooter     |GC      |48                        |10.01           |0.37            |0.33               |13.63               |\n",
      "|Role-Playing|GC      |27                        |7.91            |2.47            |0.34               |13.15               |\n",
      "|Simulation  |GC      |12                        |5.37            |1.21            |0.29               |8.59                |\n",
      "|Adventure   |GC      |20                        |3.82            |0.67            |0.18               |5.93                |\n",
      "|Puzzle      |GC      |13                        |2.95            |0.73            |0.12               |4.7                 |\n",
      "|Strategy    |GC      |11                        |2.23            |1.33            |0.1                |4.32                |\n",
      "|Action      |PS2     |345                       |127.71          |25.72           |47.61              |272.43              |\n",
      "|Sports      |PS2     |391                       |128.25          |24.69           |43.18              |262.64              |\n",
      "|Racing      |PS2     |212                       |74.73           |5.88            |27.11              |154.21              |\n",
      "|Shooter     |PS2     |158                       |57.39           |3.84            |13.38              |108.28              |\n",
      "|Misc        |PS2     |218                       |39.36           |8.03            |21.9               |98.69               |\n",
      "|Role-Playing|PS2     |183                       |32.47           |32.85           |8.17               |91.55               |\n",
      "|Fighting    |PS2     |146                       |43.31           |11.45           |12.03              |89.19               |\n",
      "|Platform    |PS2     |101                       |37.46           |2.35            |9.11               |72.11               |\n",
      "|Simulation  |PS2     |89                        |19.18           |6.57            |4.41               |42.26               |\n",
      "|Adventure   |PS2     |196                       |6.71            |7.43            |2.01               |21.16               |\n",
      "|Strategy    |PS2     |70                        |3.51            |8.28            |0.84               |15.04               |\n",
      "|Puzzle      |PS2     |18                        |2.84            |0.45            |0.72               |5.9                 |\n",
      "|Shooter     |XB      |132                       |46.16           |0.24            |1.89               |63.55               |\n",
      "|Sports      |XB      |170                       |41.02           |0.16            |2.03               |54.27               |\n",
      "|Action      |XB      |155                       |34.34           |0.33            |1.79               |49.28               |\n",
      "|Racing      |XB      |123                       |21.48           |0.17            |1.06               |31.49               |\n",
      "|Fighting    |XB      |48                        |10.01           |0.36            |0.42               |13.55               |\n",
      "|Role-Playing|XB      |23                        |9.89            |0.08            |0.5                |13.51               |\n",
      "|Platform    |XB      |49                        |6.58            |0.01            |0.34               |9.66                |\n",
      "|Misc        |XB      |46                        |7.19            |0.0             |0.31               |9.58                |\n",
      "|Simulation  |XB      |24                        |5.43            |0.03            |0.22               |7.11                |\n",
      "|Adventure   |XB      |26                        |2.22            |0.0             |0.07               |3.06                |\n",
      "|Strategy    |XB      |21                        |2.05            |0.0             |0.08               |2.78                |\n",
      "|Puzzle      |XB      |7                         |0.32            |0.0             |0.01               |0.42                |\n",
      "+------------+--------+--------------------------+----------------+----------------+-------------------+--------------------+\n",
      "\n"
     ]
    }
   ],
   "source": [
    "gen_6_genre_pop_plat = spark.sql(\"SELECT \\\n",
    "                            Genre, Platform, \\\n",
    "                            COUNT(Genre) as Games_in_genre_on_Platform, \\\n",
    "                            ROUND(SUM(NA_players),2) as Total_NA_Players, \\\n",
    "                            ROUND(SUM(JP_players),2) as Total_JP_Players, \\\n",
    "                            ROUND(SUM(Other_players),2) as Total_Other_Players, \\\n",
    "                            ROUND(SUM(Global_players),2) as Total_Global_Players \\\n",
    "                            FROM vg_full_df \\\n",
    "                            WHERE Year_of_Release BETWEEN 1998 AND 2013 \\\n",
    "                                AND Platform LIKE 'PS2' OR Platform LIKE 'DC' OR Platform LIKE 'GC' OR Platform LIKE 'XB'\\\n",
    "                            GROUP BY Genre,Platform \\\n",
    "                            ORDER BY Platform,Total_Global_Players DESC\")\n",
    "\n",
    "gen_6_genre_pop_plat.show(100, truncate=False)"
   ]
  },
  {
   "cell_type": "markdown",
   "id": "1b3ce033-1bfb-4f87-9a7e-37bc8a7baa4c",
   "metadata": {},
   "source": [
    "#### Gen 7 platform popularity"
   ]
  },
  {
   "cell_type": "code",
   "execution_count": 34,
   "id": "e987da5d-25fc-4fae-a93b-727eb36574e9",
   "metadata": {},
   "outputs": [
    {
     "name": "stdout",
     "output_type": "stream",
     "text": [
      "+--------+-----------------+----------------+----------------+-------------------+--------------------+\n",
      "|Platform|Games_on_Platform|Total_NA_Players|Total_JP_Players|Total_Other_Players|Total_Global_Players|\n",
      "+--------+-----------------+----------------+----------------+-------------------+--------------------+\n",
      "|X360    |1262             |602.47          |12.43           |85.76              |971.63              |\n",
      "|PS3     |1306             |390.13          |79.41           |134.59             |931.15              |\n",
      "|Wii     |1320             |496.9           |69.33           |79.07              |908.13              |\n",
      "+--------+-----------------+----------------+----------------+-------------------+--------------------+\n",
      "\n"
     ]
    }
   ],
   "source": [
    "gen_7_platform_pop = spark.sql(\"SELECT \\\n",
    "                                 Platform,COUNT(Name) as Games_on_Platform, \\\n",
    "                                 ROUND(SUM(NA_players),2) as Total_NA_Players, \\\n",
    "                                 ROUND(SUM(JP_players),2) as Total_JP_Players, \\\n",
    "                                 ROUND(SUM(Other_players),2) as Total_Other_Players, \\\n",
    "                                 ROUND(SUM(Global_players),2) as Total_Global_Players \\\n",
    "                                 FROM vg_full_df \\\n",
    "                                WHERE Year_of_Release BETWEEN 2005 AND 2017 \\\n",
    "                                    AND Platform LIKE 'PS3' OR Platform LIKE 'Wii' OR Platform LIKE 'X360'\\\n",
    "                                 GROUP BY Platform \\\n",
    "                                 ORDER BY Total_Global_Players DESC\")\n",
    "\n",
    "gen_7_platform_pop.show(100, truncate=False)"
   ]
  },
  {
   "cell_type": "markdown",
   "id": "61c2f9b2-8517-429f-90ba-2457bb71d16a",
   "metadata": {},
   "source": [
    "#### Gen 7 genre popularity"
   ]
  },
  {
   "cell_type": "code",
   "execution_count": 35,
   "id": "bb67f230-32b6-4383-85a1-f7a8d03941e5",
   "metadata": {},
   "outputs": [
    {
     "name": "stdout",
     "output_type": "stream",
     "text": [
      "+------------+--------------------------+----------------+----------------+-------------------+--------------------+\n",
      "|Genre       |Games_in_genre_on_Platform|Total_NA_Players|Total_JP_Players|Total_Other_Players|Total_Global_Players|\n",
      "+------------+--------------------------+----------------+----------------+-------------------+--------------------+\n",
      "|Action      |933                       |329.86          |36.7            |75.56              |652.03              |\n",
      "|Sports      |688                       |300.49          |26.62           |56.5               |560.31              |\n",
      "|Shooter     |423                       |274.59          |12.54           |56.27              |497.35              |\n",
      "|Misc        |529                       |203.92          |16.34           |33.01              |352.86              |\n",
      "|Racing      |287                       |87.78           |7.74            |23.85              |196.56              |\n",
      "|Role-Playing|227                       |80.16           |25.03           |15.37              |158.62              |\n",
      "|Platform    |119                       |66.66           |11.87           |12.96              |129.47              |\n",
      "|Fighting    |183                       |61.32           |11.19           |11.62              |111.78              |\n",
      "|Simulation  |157                       |36.05           |3.95            |5.52               |60.53               |\n",
      "|Adventure   |203                       |28.08           |4.44            |5.83               |55.02               |\n",
      "|Strategy    |75                        |10.61           |3.0             |1.64               |19.72               |\n",
      "|Puzzle      |64                        |9.98            |1.75            |1.29               |16.66               |\n",
      "+------------+--------------------------+----------------+----------------+-------------------+--------------------+\n",
      "\n"
     ]
    }
   ],
   "source": [
    "gen_7_genre_pop = spark.sql(\"SELECT \\\n",
    "                            Genre, COUNT(Genre) as Games_in_genre_on_Platform, \\\n",
    "                            ROUND(SUM(NA_players),2) as Total_NA_Players, \\\n",
    "                            ROUND(SUM(JP_players),2) as Total_JP_Players, \\\n",
    "                            ROUND(SUM(Other_players),2) as Total_Other_Players, \\\n",
    "                            ROUND(SUM(Global_players),2) as Total_Global_Players \\\n",
    "                            FROM vg_full_df \\\n",
    "                            WHERE Year_of_Release BETWEEN 2005 AND 2017 \\\n",
    "                                AND Platform LIKE 'PS3' OR Platform LIKE 'Wii' OR Platform LIKE 'X360'\\\n",
    "                            GROUP BY Genre \\\n",
    "                            ORDER BY Total_Global_Players DESC\")\n",
    "\n",
    "gen_7_genre_pop.show(100, truncate=False)"
   ]
  },
  {
   "cell_type": "markdown",
   "id": "67311eed-4d4e-49b7-aa7e-eecc1ad59752",
   "metadata": {},
   "source": [
    "#### Gen 7 Genre Popularity per Platform"
   ]
  },
  {
   "cell_type": "code",
   "execution_count": 38,
   "id": "8543300b-e1c5-41e0-b793-31f3cee59d40",
   "metadata": {
    "scrolled": true,
    "tags": []
   },
   "outputs": [
    {
     "name": "stdout",
     "output_type": "stream",
     "text": [
      "+------------+--------+--------------------------+----------------+----------------+-------------------+--------------------+\n",
      "|Genre       |Platform|Games_in_genre_on_Platform|Total_NA_Players|Total_JP_Players|Total_Other_Players|Total_Global_Players|\n",
      "+------------+--------+--------------------------+----------------+----------------+-------------------+--------------------+\n",
      "|Action      |PS3     |373                       |120.13          |29.01           |44.04              |297.83              |\n",
      "|Shooter     |PS3     |155                       |81.86           |8.8             |29.03              |192.22              |\n",
      "|Sports      |PS3     |211                       |60.75           |7.96            |18.15              |133.25              |\n",
      "|Role-Playing|PS3     |117                       |29.93           |16.79           |8.49               |73.61               |\n",
      "|Racing      |PS3     |90                        |23.73           |3.11            |12.08              |71.31               |\n",
      "|Fighting    |PS3     |76                        |23.88           |6.56            |6.56               |51.08               |\n",
      "|Misc        |PS3     |122                       |21.44           |1.41            |6.36               |44.95               |\n",
      "|Platform    |PS3     |36                        |13.34           |0.61            |4.89               |29.23               |\n",
      "|Adventure   |PS3     |72                        |8.78            |2.66            |3.13               |22.25               |\n",
      "|Simulation  |PS3     |30                        |4.24            |1.27            |1.28               |10.32               |\n",
      "|Strategy    |PS3     |22                        |1.79            |1.13            |0.54               |4.66                |\n",
      "|Puzzle      |PS3     |2                         |0.26            |0.1             |0.04               |0.44                |\n",
      "|Sports      |Wii     |260                       |149.72          |18.25           |26.79              |288.61              |\n",
      "|Misc        |Wii     |280                       |118.82          |14.48           |18.98              |216.37              |\n",
      "|Action      |Wii     |237                       |68.07           |4.92            |9.93               |114.51              |\n",
      "|Platform    |Wii     |58                        |47.23           |11.24           |6.95               |88.92               |\n",
      "|Racing      |Wii     |93                        |30.95           |4.11            |5.44               |60.25               |\n",
      "|Simulation  |Wii     |87                        |23.3            |1.98            |3.03               |36.03               |\n",
      "|Shooter     |Wii     |65                        |18.22           |0.64            |2.51               |28.15               |\n",
      "|Fighting    |Wii     |42                        |12.83           |3.67            |1.88               |23.36               |\n",
      "|Adventure   |Wii     |83                        |10.86           |1.17            |1.4                |17.83               |\n",
      "|Puzzle      |Wii     |55                        |9.1             |1.5             |1.19               |15.37               |\n",
      "|Role-Playing|Wii     |35                        |5.48            |5.63            |0.72               |13.7                |\n",
      "|Strategy    |Wii     |25                        |2.32            |1.74            |0.25               |5.03                |\n",
      "|Shooter     |X360    |203                       |174.51          |3.1             |24.73              |276.98              |\n",
      "|Action      |X360    |323                       |141.66          |2.77            |21.59              |239.69              |\n",
      "|Sports      |X360    |217                       |90.02           |0.41            |11.56              |138.45              |\n",
      "|Misc        |X360    |127                       |63.66           |0.45            |7.67               |91.54               |\n",
      "|Role-Playing|X360    |75                        |44.75           |2.61            |6.16               |71.31               |\n",
      "|Racing      |X360    |104                       |33.1            |0.52            |6.33               |65.0                |\n",
      "|Fighting    |X360    |65                        |24.61           |0.96            |3.18               |37.34               |\n",
      "|Adventure   |X360    |48                        |8.44            |0.61            |1.3                |14.94               |\n",
      "|Simulation  |X360    |40                        |8.51            |0.7             |1.21               |14.18               |\n",
      "|Platform    |X360    |25                        |6.09            |0.02            |1.12               |11.32               |\n",
      "|Strategy    |X360    |28                        |6.5             |0.13            |0.85               |10.03               |\n",
      "|Puzzle      |X360    |7                         |0.62            |0.15            |0.06               |0.85                |\n",
      "+------------+--------+--------------------------+----------------+----------------+-------------------+--------------------+\n",
      "\n"
     ]
    }
   ],
   "source": [
    "gen_7_genre_pop_plat = spark.sql(\"SELECT \\\n",
    "                            Genre, Platform, \\\n",
    "                            COUNT(Genre) as Games_in_genre_on_Platform, \\\n",
    "                            ROUND(SUM(NA_players),2) as Total_NA_Players, \\\n",
    "                            ROUND(SUM(JP_players),2) as Total_JP_Players, \\\n",
    "                            ROUND(SUM(Other_players),2) as Total_Other_Players, \\\n",
    "                            ROUND(SUM(Global_players),2) as Total_Global_Players \\\n",
    "                            FROM vg_full_df \\\n",
    "                            WHERE Year_of_Release BETWEEN 2005 AND 2017 \\\n",
    "                                AND Platform LIKE 'PS3' OR Platform LIKE 'Wii' OR Platform LIKE 'X360'\\\n",
    "                            GROUP BY Genre,Platform \\\n",
    "                            ORDER BY Platform,Total_Global_Players DESC\")\n",
    "\n",
    "gen_7_genre_pop_plat.show(100, truncate=False)"
   ]
  },
  {
   "cell_type": "markdown",
   "id": "cbba8d18-ca29-4530-bda5-7ce227036f6a",
   "metadata": {},
   "source": [
    "## Generate Dataframes for Graphing"
   ]
  },
  {
   "cell_type": "markdown",
   "id": "19feab3a-2a40-4f7b-9502-f93f153dcc5f",
   "metadata": {},
   "source": [
    "#### Table to find total sales per year per generation"
   ]
  },
  {
   "cell_type": "code",
   "execution_count": 43,
   "id": "2ff37331-e598-4a74-a7ec-0d0d6097a32d",
   "metadata": {},
   "outputs": [],
   "source": [
    "gen_5_plat_sales_sub = spark.sql(\"SELECT \\\n",
    "                                    COUNT(Name) AS Sum_Total_Per_Year,Year_of_Release\\\n",
    "                                    FROM vg_full_df\\\n",
    "                                    WHERE Year_of_Release BETWEEN 1993 AND 2006 \\\n",
    "                                        AND Platform LIKE 'PS' OR Platform LIKE'SAT' OR Platform LIKE 'N64' OR Platform LIKE '3DO' OR Platform LIKE 'PCFX'\\\n",
    "                                    GROUP BY Year_of_Release\")\n",
    "\n",
    "gen_5_plat_sales_sub.createOrReplaceTempView(\"sum_total_games_tab\")\n",
    "\n"
   ]
  },
  {
   "cell_type": "markdown",
   "id": "9fe12a7a-5f56-4d68-a675-a243bb650e83",
   "metadata": {},
   "source": [
    "#### Table to find Total Games Per Platform per Year"
   ]
  },
  {
   "cell_type": "code",
   "execution_count": 44,
   "id": "5a28ec1f-db02-4bac-bc9e-5c211224536e",
   "metadata": {},
   "outputs": [],
   "source": [
    "gen_5_plat_sales_yr = spark.sql(\"SELECT \\\n",
    "                                     Platform, COUNT(Name) as Total_Games_On_Platform, Year_of_Release,\\\n",
    "                                     ROUND(SUM(NA_players)/COUNT(Name),2) as NA_Players_Per_Game, \\\n",
    "                                     ROUND(SUM(JP_players)/COUNT(Name),2) as JP_Players_Per_Game, \\\n",
    "                                     ROUND(SUM(Other_players)/COUNT(Name),2) as Other_Players_Per_Game, \\\n",
    "                                     ROUND(SUM(Global_players)/COUNT(Name),2) as Global_Players_Per_Game\\\n",
    "                                     FROM vg_full_df \\\n",
    "                                     WHERE Year_of_Release BETWEEN 1993 AND 2006 \\\n",
    "                                        AND Platform LIKE 'PS' OR vg_full_df.Platform LIKE'SAT' \\\n",
    "                                        OR Platform LIKE 'N64' \\\n",
    "                                        OR Platform LIKE '3DO' \\\n",
    "                                        OR Platform LIKE 'PCFX' \\\n",
    "                                     GROUP BY Platform, Year_of_Release \\\n",
    "                                     ORDER BY Platform, Global_Players_Per_Game DESC\")\n",
    "\n",
    "\n",
    "gen_5_plat_sales_yr.createOrReplaceTempView(\"gen_5_plat_sales_yr_tab\")"
   ]
  },
  {
   "cell_type": "markdown",
   "id": "84f7c006-6673-429e-bed9-2549e06a069e",
   "metadata": {},
   "source": [
    "#### Filter out platforms with less than 10% of total games per year"
   ]
  },
  {
   "cell_type": "code",
   "execution_count": 45,
   "id": "7564b550-8982-42ac-814d-28bdcb2e7cea",
   "metadata": {
    "scrolled": true,
    "tags": []
   },
   "outputs": [
    {
     "name": "stdout",
     "output_type": "stream",
     "text": [
      "+--------+-----------------------+---------------+-------------------+-------------------+----------------------+-----------------------+\n",
      "|Platform|Total_Games_On_Platform|Year_of_Release|NA_Players_Per_Game|JP_Players_Per_Game|Other_Players_Per_Game|Global_Players_Per_Game|\n",
      "+--------+-----------------------+---------------+-------------------+-------------------+----------------------+-----------------------+\n",
      "|     N64|                     18|           1996|               1.17|               0.32|                  0.03|                   1.89|\n",
      "|     N64|                     49|           1997|               0.53|                0.1|                  0.02|                   0.81|\n",
      "|     N64|                     77|           1998|               0.41|               0.08|                  0.01|                   0.64|\n",
      "|     N64|                    102|           1999|               0.38|               0.08|                  0.01|                   0.57|\n",
      "|     N64|                     60|           2000|               0.33|               0.13|                  0.02|                   0.57|\n",
      "|     N64|                      9|           2001|               0.23|               0.06|                  0.01|                   0.36|\n",
      "|     N64|                      3|            N/A|               0.04|               0.15|                  0.02|                   0.22|\n",
      "|      PS|                     17|           1994|                0.1|               0.16|                  0.02|                   0.35|\n",
      "|      PS|                     99|           1995|               0.15|                0.1|                  0.02|                   0.36|\n",
      "|      PS|                    164|           1996|               0.28|               0.11|                  0.03|                   0.58|\n",
      "|      PS|                    188|           1997|               0.31|               0.18|                  0.04|                   0.72|\n",
      "|      PS|                    248|           1998|               0.34|               0.11|                  0.04|                   0.68|\n",
      "|      PS|                    200|           1999|               0.33|               0.14|                  0.04|                   0.72|\n",
      "|      PS|                    160|           2000|               0.29|               0.09|                  0.03|                    0.6|\n",
      "|      PS|                     91|           2001|               0.17|               0.04|                  0.02|                   0.39|\n",
      "|      PS|                     20|           2002|               0.14|               0.08|                  0.02|                   0.33|\n",
      "|      PS|                      3|           2003|               0.38|                0.0|                  0.05|                   0.68|\n",
      "|     SAT|                     19|           1994|               0.01|               0.18|                   0.0|                   0.19|\n",
      "|     SAT|                     52|           1995|               0.01|                0.2|                   0.0|                   0.22|\n",
      "|     SAT|                     38|           1996|                0.0|                0.2|                   0.0|                    0.2|\n",
      "+--------+-----------------------+---------------+-------------------+-------------------+----------------------+-----------------------+\n",
      "only showing top 20 rows\n",
      "\n"
     ]
    }
   ],
   "source": [
    "gen_5_plat_yr_filter = spark.sql(\"SELECT \\\n",
    "                                     gen_5_plat_sales_yr_tab.Platform, SUM(gen_5_plat_sales_yr_tab.Total_Games_On_Platform) as Total_Games_On_Platform, \\\n",
    "                                     gen_5_plat_sales_yr_tab.Year_of_Release,\\\n",
    "                                     SUM(gen_5_plat_sales_yr_tab.NA_Players_Per_Game) AS NA_Players_Per_Game, \\\n",
    "                                     SUM(gen_5_plat_sales_yr_tab.JP_Players_Per_Game) AS JP_Players_Per_Game, \\\n",
    "                                     SUM(gen_5_plat_sales_yr_tab.Other_Players_Per_Game) AS Other_Players_Per_Game, \\\n",
    "                                     SUM(gen_5_plat_sales_yr_tab.Global_Players_Per_Game) AS Global_Players_Per_Game\\\n",
    "                                     FROM gen_5_plat_sales_yr_tab \\\n",
    "                                            LEFT JOIN \\\n",
    "                                            sum_total_games_tab\\\n",
    "                                            ON gen_5_plat_sales_yr_tab.Year_of_Release = sum_total_games_tab.Year_of_Release \\\n",
    "                                     WHERE gen_5_plat_sales_yr_tab.Year_of_Release BETWEEN 1993 AND 2006 \\\n",
    "                                        AND gen_5_plat_sales_yr_tab.Platform LIKE 'PS' OR \\\n",
    "                                        gen_5_plat_sales_yr_tab.Platform LIKE'SAT' \\\n",
    "                                        OR gen_5_plat_sales_yr_tab.Platform LIKE 'N64' \\\n",
    "                                        OR gen_5_plat_sales_yr_tab.Platform LIKE '3DO' \\\n",
    "                                        OR gen_5_plat_sales_yr_tab.Platform LIKE 'PCFX' \\\n",
    "                                        GROUP BY gen_5_plat_sales_yr_tab.Platform, gen_5_plat_sales_yr_tab.Year_of_Release, sum_total_games_tab.Sum_Total_Per_Year\\\n",
    "                                        HAVING SUM(gen_5_plat_sales_yr_tab.Total_Games_On_Platform) > (0.05 * sum_total_games_tab.Sum_Total_Per_Year)\\\n",
    "                                        ORDER BY gen_5_plat_sales_yr_tab.Platform, gen_5_plat_sales_yr_tab.Year_of_Release\")\n",
    "\n",
    "gen_5_plat_yr_filter.show()"
   ]
  },
  {
   "cell_type": "markdown",
   "id": "de9c4e39-3019-4718-82e9-dcab17c9da5f",
   "metadata": {},
   "source": [
    "#### convert to pandas"
   ]
  },
  {
   "cell_type": "code",
   "execution_count": 47,
   "id": "f731c135-c40b-4273-81e1-54e345b04d33",
   "metadata": {},
   "outputs": [],
   "source": [
    "gen_5_plat_yr_pd = gen_5_plat_yr_filter.toPandas()"
   ]
  },
  {
   "cell_type": "markdown",
   "id": "3d506820-f126-43cc-ab87-108277ed63aa",
   "metadata": {
    "tags": []
   },
   "source": [
    "#### remove n/as"
   ]
  },
  {
   "cell_type": "code",
   "execution_count": 48,
   "id": "3df08a9b-34e5-4284-b9df-d4a6ffd03862",
   "metadata": {},
   "outputs": [],
   "source": [
    "gen_5_plat_yr_pd = gen_5_plat_yr_pd.loc[gen_5_plat_yr_pd['Year_of_Release']!='N/A']"
   ]
  },
  {
   "cell_type": "markdown",
   "id": "c9f5c6d5-9cf7-4c51-81ce-5777bdd6dd8f",
   "metadata": {},
   "source": [
    "### Functiosn for filtering and plotting"
   ]
  },
  {
   "cell_type": "code",
   "execution_count": 50,
   "id": "d1089455-ce2b-4721-bcf8-a24f4adf81a6",
   "metadata": {},
   "outputs": [],
   "source": [
    "def filter_by_col(df,column,filters):\n",
    "    #Filters a series in dataframe by column and returns a list of that filtered column\n",
    "    df_list = []\n",
    "    for val in filters:\n",
    "        df_list.append(df.loc[df[column] == val])\n",
    "    return df_list"
   ]
  },
  {
   "cell_type": "code",
   "execution_count": 51,
   "id": "48d0db5a-0b52-4097-9ecf-4f0e04df47c6",
   "metadata": {},
   "outputs": [],
   "source": [
    "def lin_plot_graphs_by_col(axs,df_list,x_col,y_col):\n",
    "    #Plots filtered information\n",
    "    for df,i in enumerate(df_list):\n",
    "        ax.plot(df[x_col],df[y_col],lw=4,marker='o')"
   ]
  },
  {
   "cell_type": "markdown",
   "id": "4b444e63-7eeb-4d39-81bd-209f98a6e53e",
   "metadata": {},
   "source": [
    "#### Set plot style"
   ]
  },
  {
   "cell_type": "code",
   "execution_count": 73,
   "id": "d83f53ae-df8c-4975-8b90-23b9cedff91b",
   "metadata": {},
   "outputs": [],
   "source": [
    "plt.style.use('seaborn-white')\n",
    "font = {'weight': 'bold',\n",
    "        'size':   16}\n",
    "plt.rc('font', **font)\n",
    "\n",
    "plt.rcParams.update({'text.color' : \"dimgray\",'axes.labelcolor' : \"dimgray\",'xtick.color':'dimgray','ytick.color':'dimgray'})"
   ]
  },
  {
   "cell_type": "code",
   "execution_count": 74,
   "id": "0d5eebac-e3cf-4918-84f7-338d8553182a",
   "metadata": {},
   "outputs": [
    {
     "name": "stdout",
     "output_type": "stream",
     "text": [
      "['Solarize_Light2', '_classic_test_patch', 'bmh', 'classic', 'dark_background', 'fast', 'fivethirtyeight', 'ggplot', 'grayscale', 'seaborn', 'seaborn-bright', 'seaborn-colorblind', 'seaborn-dark', 'seaborn-dark-palette', 'seaborn-darkgrid', 'seaborn-deep', 'seaborn-muted', 'seaborn-notebook', 'seaborn-paper', 'seaborn-pastel', 'seaborn-poster', 'seaborn-talk', 'seaborn-ticks', 'seaborn-white', 'seaborn-whitegrid', 'tableau-colorblind10']\n"
     ]
    }
   ],
   "source": [
    "print(plt.style.available)"
   ]
  },
  {
   "cell_type": "markdown",
   "id": "4dc5a20c-c629-48a6-98c6-fb1db4fa2a69",
   "metadata": {},
   "source": [
    "### Plots"
   ]
  },
  {
   "cell_type": "code",
   "execution_count": 75,
   "id": "3acf7d7a-6442-4b82-b54f-04a85794553f",
   "metadata": {},
   "outputs": [
    {
     "data": {
      "image/png": "[encoded data removed]",
      "text/plain": [
       "<Figure size 1080x504 with 1 Axes>"
      ]
     },
     "metadata": {},
     "output_type": "display_data"
    }
   ],
   "source": [
    "fig, ax = plt.subplots(figsize=(15,7))\n",
    "\n",
    "x_col = 'Year_of_Release'\n",
    "y_col = 'Global_Players_Per_Game'\n",
    "labels = ['PS','SAT','N64','FFVII Release']\n",
    "\n",
    "ax.plot(gen_5_plat_yr_pd.loc[gen_5_plat_yr_pd['Platform']=='PS'][x_col],gen_5_plat_yr_pd.loc[gen_5_plat_yr_pd['Platform']=='PS'][y_col],lw=4,marker='o',color='dodgerblue')\n",
    "ax.plot(gen_5_plat_yr_pd.loc[gen_5_plat_yr_pd['Platform']=='SAT'][x_col],gen_5_plat_yr_pd.loc[gen_5_plat_yr_pd['Platform']=='SAT'][y_col],lw=4,marker='o',color='goldenrod')\n",
    "ax.plot(gen_5_plat_yr_pd.loc[gen_5_plat_yr_pd['Platform']=='N64'][x_col],gen_5_plat_yr_pd.loc[gen_5_plat_yr_pd['Platform']=='N64'][y_col],lw=4,marker='o',color='tomato')\n",
    "\n",
    "labels = labels.copy()\n",
    "labels.append('FFVII Release')\n",
    "\n",
    "    \n",
    "ax.grid(False)\n",
    "ax.set_ylabel('Global Sales')\n",
    "ax.set_xlabel('Year')\n",
    "ax.set_title('Generation 5 Global Sales Per Year Per Platform')\n",
    "plt.axvline(x=3,ls='--',lw=3,color='mediumpurple')\n",
    "plt.legend(labels)\n",
    "\n",
    "plt.tight_layout()\n",
    "plt.savefig('../graphs/global_sales_per_year',transparent=True)"
   ]
  },
  {
   "cell_type": "markdown",
   "id": "141f5035-eddb-425e-a83f-73ef437b6872",
   "metadata": {},
   "source": [
    "#### REMOVE FFVII from dataset so it does not skew results"
   ]
  },
  {
   "cell_type": "markdown",
   "id": "3ee032f9-22a5-4621-b2fb-eea7815fda31",
   "metadata": {},
   "source": [
    "##### Find total sales per year of release"
   ]
  },
  {
   "cell_type": "code",
   "execution_count": 55,
   "id": "d096b6d6-2e7e-4620-acad-5677e79ca10f",
   "metadata": {},
   "outputs": [],
   "source": [
    "plat_genre_sales_sub = spark.sql(\"SELECT \\\n",
    "                                    COUNT(Name) AS Sum_Total_Per_Year,Year_of_Release,\\\n",
    "                                    SUM(NA_players) AS NA_players_total,\\\n",
    "                                    SUM(JP_players) AS JP_players_total,\\\n",
    "                                    SUM(Other_players) AS Other_players_total,\\\n",
    "                                    SUM(Global_players) AS Global_players_total\\\n",
    "                                    FROM vg_full_df\\\n",
    "                                    WHERE Year_of_Release BETWEEN 1987 AND 2007 \\\n",
    "                                        AND (Name NOT LIKE 'Final Fantasy VII' OR Name NOT LIKE 'Final Fantasy VII %')\\\n",
    "                                        AND (Platform LIKE 'SNES' OR Platform LIKE 'GEN' OR Platform LIKE 'TG16' OR Platform LIKE 'NG'\\\n",
    "                                            OR Platform LIKE 'PS' OR Platform LIKE 'SAT' OR Platform LIKE 'N64' OR Platform LIKE '3DO' OR Platform LIKE 'PCFX' \\\n",
    "                                            OR Platform LIKE 'PS2' OR Platform LIKE 'DC' OR Platform LIKE 'GC' OR Platform LIKE 'XB')\\\n",
    "                                    GROUP BY Year_of_Release\\\n",
    "                                    ORDER BY Year_of_Release\")"
   ]
  },
  {
   "cell_type": "markdown",
   "id": "36251529-86e1-4e8f-8e49-badb3fd99b58",
   "metadata": {},
   "source": [
    "#### Transfer to Table"
   ]
  },
  {
   "cell_type": "code",
   "execution_count": 56,
   "id": "8b5443b1-ca1d-414e-8f7e-07eab4e7d657",
   "metadata": {
    "scrolled": true,
    "tags": []
   },
   "outputs": [
    {
     "name": "stdout",
     "output_type": "stream",
     "text": [
      "+------------------+---------------+------------------+------------------+-------------------+--------------------+\n",
      "|Sum_Total_Per_Year|Year_of_Release|  NA_players_total|  JP_players_total|Other_players_total|Global_players_total|\n",
      "+------------------+---------------+------------------+------------------+-------------------+--------------------+\n",
      "|                 5|           1990|             17.14| 5.710000000000001| 0.7500000000000001|               28.76|\n",
      "|                25|           1991|               8.5| 8.800000000000002|                0.5|  20.549999999999997|\n",
      "|                27|           1992|             18.69|20.389999999999997| 0.8700000000000002|   45.63999999999999|\n",
      "|                55|           1993|12.180000000000001|24.070000000000004|               0.78|               40.87|\n",
      "|               106|           1994|16.569999999999993|             30.33| 1.1400000000000003|   53.67000000000001|\n",
      "|               213|           1995| 22.42000000000001|43.030000000000015|  2.359999999999993|   80.27999999999994|\n",
      "|               253|           1996| 68.53999999999996| 44.52999999999999|  6.259999999999979|  152.53999999999996|\n",
      "|               275|           1997| 83.90000000000005|45.519999999999975|  8.779999999999976|  183.35000000000016|\n",
      "|               363|           1998|115.86999999999995|             40.49| 10.089999999999957|  226.29000000000005|\n",
      "|               318|           1999|106.35000000000008|40.129999999999995|  8.799999999999978|  208.05000000000015|\n",
      "|               323|           2000| 85.03000000000006| 33.73000000000001|  9.949999999999964|  176.40000000000015|\n",
      "|               348|           2001| 130.9300000000002|             27.47| 20.480000000000125|  254.82000000000016|\n",
      "|               612|           2002| 168.1400000000001|             29.55| 25.100000000000186|   312.5399999999991|\n",
      "|               592|           2003|156.67000000000058|25.610000000000007| 24.050000000000157|   292.1599999999996|\n",
      "|               519|           2004|164.96000000000038|             22.37|  42.75999999999994|  306.16999999999916|\n",
      "|               536|           2005| 139.6900000000004|17.639999999999993|  21.55000000000016|  237.62000000000057|\n",
      "|               361|           2006| 65.91000000000017| 17.85000000000001| 14.819999999999972|  124.85999999999999|\n",
      "|               222|           2007|32.669999999999995| 9.839999999999973|  23.71000000000003|   76.84000000000002|\n",
      "+------------------+---------------+------------------+------------------+-------------------+--------------------+\n",
      "\n"
     ]
    }
   ],
   "source": [
    "plat_genre_sales_sub.createOrReplaceTempView(\"sum_total_games_genre_tab\")\n",
    "\n",
    "test_a = spark.sql(\"SELECT * FROM sum_total_games_genre_tab\")\n",
    "\n",
    "test_a.show()"
   ]
  },
  {
   "cell_type": "markdown",
   "id": "a84ff521-dbf4-4092-ab88-dc0e79dbc89a",
   "metadata": {},
   "source": [
    "#### Total games per genre, platform, year"
   ]
  },
  {
   "cell_type": "code",
   "execution_count": 57,
   "id": "d3aa9705-d689-428c-8dbd-ac7ac0a3d422",
   "metadata": {},
   "outputs": [],
   "source": [
    "genre_plat_sales = spark.sql(\"SELECT \\\n",
    "                                 Genre, COUNT(Name) as Total_Games_On_Platform, Year_of_Release,\\\n",
    "                                 SUM(NA_players) as NA_Total_Sales, \\\n",
    "                                 SUM(JP_players) as JP_Total_Sales, \\\n",
    "                                 SUM(Other_players) as Other_Total_Sales, \\\n",
    "                                 SUM(Global_players) as Global_Total_Sales \\\n",
    "                                 FROM vg_full_df \\\n",
    "                                 WHERE Year_of_Release BETWEEN 1987 AND 2007 \\\n",
    "                                    AND (Name NOT LIKE 'Final Fantasy VII' OR Name NOT LIKE 'Final Fantasy VII %')\\\n",
    "                                    AND (Platform LIKE 'SNES' OR Platform LIKE 'GEN' OR Platform LIKE 'TG16' OR Platform LIKE 'NG'\\\n",
    "                                        OR Platform LIKE 'PS' OR Platform LIKE 'SAT' OR Platform LIKE 'N64' OR Platform LIKE '3DO' OR Platform LIKE 'PCFX' \\\n",
    "                                        OR Platform LIKE 'PS2' OR Platform LIKE 'DC' OR Platform LIKE 'GC' OR Platform LIKE 'XB')\\\n",
    "                                 GROUP BY Genre,Year_of_Release \\\n",
    "                                 ORDER BY Year_of_Release,Genre\")"
   ]
  },
  {
   "cell_type": "markdown",
   "id": "967246b9-b498-4a2a-85df-e20e98059613",
   "metadata": {},
   "source": [
    "#### Transfer to table"
   ]
  },
  {
   "cell_type": "code",
   "execution_count": 60,
   "id": "5b930f31-2d28-486f-a7f5-368bbaae522f",
   "metadata": {
    "scrolled": true,
    "tags": []
   },
   "outputs": [
    {
     "name": "stdout",
     "output_type": "stream",
     "text": [
      "+------------+-----------------------+---------------+------------------+------------------+-----------------+------------------+\n",
      "|       Genre|Total_Games_On_Platform|Year_of_Release|    NA_Total_Sales|    JP_Total_Sales|Other_Total_Sales|Global_Total_Sales|\n",
      "+------------+-----------------------+---------------+------------------+------------------+-----------------+------------------+\n",
      "|      Action|                      2|           1990|2.5300000000000002|0.7999999999999999|             0.11|              4.16|\n",
      "|    Platform|                      1|           1990|             12.78|              3.54|             0.55|             20.61|\n",
      "|      Racing|                      1|           1990|              1.37|              0.89|             0.07|              2.85|\n",
      "|  Simulation|                      1|           1990|              0.46|              0.48|             0.02|              1.14|\n",
      "|      Action|                      3|           1991|              2.42|1.8499999999999999|             0.13|5.3100000000000005|\n",
      "|   Adventure|                      1|           1991|               0.0|              0.48|              0.0|              0.48|\n",
      "|    Fighting|                      1|           1991|               0.0|              0.39|              0.0|              0.39|\n",
      "|        Misc|                      1|           1991|               0.0|              0.08|              0.0|              0.08|\n",
      "|    Platform|                      3|           1991|3.8499999999999996|              1.03|             0.16|6.1499999999999995|\n",
      "|Role-Playing|                      3|           1991|              0.24|1.6700000000000002|             0.12|              2.11|\n",
      "|     Shooter|                      3|           1991|              1.06|               0.5|             0.05|               2.0|\n",
      "|  Simulation|                      2|           1991|              0.93|              0.91|             0.04|              2.14|\n",
      "|      Sports|                      5|           1991|               0.0|              1.13|              0.0|              1.13|\n",
      "|    Strategy|                      3|           1991|               0.0|              0.76|              0.0|              0.76|\n",
      "|   Adventure|                      2|           1992|               0.0|              0.28|              0.0|              0.28|\n",
      "|    Fighting|                      6|           1992|              6.84|5.7299999999999995|             0.32|             15.18|\n",
      "|        Misc|                      1|           1992|              1.43|              0.71|             0.07|              2.75|\n",
      "|    Platform|                      3|           1992|              5.13|              0.73|             0.22|              7.46|\n",
      "|      Puzzle|                      1|           1992|               0.0|              0.57|              0.0|              0.57|\n",
      "|      Racing|                      2|           1992|              3.54|              4.09|             0.18|              9.04|\n",
      "+------------+-----------------------+---------------+------------------+------------------+-----------------+------------------+\n",
      "only showing top 20 rows\n",
      "\n"
     ]
    }
   ],
   "source": [
    "genre_plat_sales.createOrReplaceTempView(\"genre_plat_sales_tab\")\n",
    "\n",
    "test_b = spark.sql(\"SELECT * FROM genre_plat_sales_tab\")\n",
    "test_b.show()"
   ]
  },
  {
   "cell_type": "markdown",
   "id": "f2b7d978-4dbe-4f22-804e-490048aac202",
   "metadata": {},
   "source": [
    "#### filter total games per genre, year, find sales percentages"
   ]
  },
  {
   "cell_type": "code",
   "execution_count": 62,
   "id": "0580c9a5-5591-433f-8555-0571785e970e",
   "metadata": {},
   "outputs": [],
   "source": [
    "genre_sales_per_pre_ffvii = spark.sql(\"SELECT \\\n",
    "                             SUM(genre_plat_sales_tab.Total_Games_On_Platform) as Total_Games_On_Platform_of_Genre,\\\n",
    "                             \\\n",
    "                             genre_plat_sales_tab.Genre,\\\n",
    "                             ROUND(SUM(genre_plat_sales_tab.NA_Total_Sales)/SUM(sum_total_games_genre_tab.NA_players_total),2) AS NA_Sales_Percent, \\\n",
    "                             ROUND(SUM(genre_plat_sales_tab.JP_Total_Sales)/SUM(sum_total_games_genre_tab.JP_players_total),2) AS JP_Sales_Percent, \\\n",
    "                             ROUND(SUM(genre_plat_sales_tab.Other_Total_Sales)/SUM(sum_total_games_genre_tab.Other_players_total),2) AS Other_Sales_Percent, \\\n",
    "                             ROUND(SUM(genre_plat_sales_tab.Global_Total_Sales)/SUM(sum_total_games_genre_tab.Global_players_total),2) AS Global_Sales_Percent\\\n",
    "                             FROM genre_plat_sales_tab \\\n",
    "                                    LEFT JOIN \\\n",
    "                                    sum_total_games_genre_tab\\\n",
    "                                    ON genre_plat_sales_tab.Year_of_Release = sum_total_games_genre_tab.Year_of_Release \\\n",
    "                             WHERE genre_plat_sales_tab.Year_of_Release BETWEEN 1992 AND 1996\\\n",
    "                             GROUP BY genre_plat_sales_tab.Genre\\\n",
    "                             ORDER BY genre_plat_sales_tab.Genre\")"
   ]
  },
  {
   "cell_type": "markdown",
   "id": "df245179-7454-4608-ba20-7d9748261834",
   "metadata": {},
   "source": [
    "#### Turn to pandas dfs"
   ]
  },
  {
   "cell_type": "code",
   "execution_count": 67,
   "id": "19b99191-5cdf-421b-a325-adc07bd1c88a",
   "metadata": {},
   "outputs": [],
   "source": [
    "genre_sales_per_pre_ffvii_pd = genre_sales_per_pre_ffvii.toPandas()"
   ]
  },
  {
   "cell_type": "markdown",
   "id": "9a80959c-5f95-453e-8832-4eef3fd3873e",
   "metadata": {},
   "source": [
    "#### filter total games per genre, year, find sales percentages"
   ]
  },
  {
   "cell_type": "code",
   "execution_count": 68,
   "id": "241e8319-4256-4c72-9af3-338947e88a2d",
   "metadata": {},
   "outputs": [],
   "source": [
    "genre_sales_per_post_ffvii = spark.sql(\"SELECT \\\n",
    "                             SUM(genre_plat_sales_tab.Total_Games_On_Platform) as Total_Games_On_Platform_of_Genre,\\\n",
    "                             \\\n",
    "                             genre_plat_sales_tab.Genre,\\\n",
    "                             ROUND(SUM(genre_plat_sales_tab.NA_Total_Sales)/SUM(sum_total_games_genre_tab.NA_players_total),2) AS NA_Sales_Percent, \\\n",
    "                             ROUND(SUM(genre_plat_sales_tab.JP_Total_Sales)/SUM(sum_total_games_genre_tab.JP_players_total),2) AS JP_Sales_Percent, \\\n",
    "                             ROUND(SUM(genre_plat_sales_tab.Other_Total_Sales)/SUM(sum_total_games_genre_tab.Other_players_total),2) AS Other_Sales_Percent, \\\n",
    "                             ROUND(SUM(genre_plat_sales_tab.Global_Total_Sales)/SUM(sum_total_games_genre_tab.Global_players_total),2) AS Global_Sales_Percent\\\n",
    "                             FROM genre_plat_sales_tab \\\n",
    "                                    LEFT JOIN \\\n",
    "                                    sum_total_games_genre_tab\\\n",
    "                                    ON genre_plat_sales_tab.Year_of_Release = sum_total_games_genre_tab.Year_of_Release \\\n",
    "                             WHERE genre_plat_sales_tab.Year_of_Release BETWEEN 1997 AND 2002\\\n",
    "                             GROUP BY genre_plat_sales_tab.Genre\\\n",
    "                             ORDER BY genre_plat_sales_tab.Genre\")"
   ]
  },
  {
   "cell_type": "markdown",
   "id": "4bb89153-c113-4801-805f-c262ae9a414d",
   "metadata": {},
   "source": [
    "#### Turn to pandas dfs"
   ]
  },
  {
   "cell_type": "code",
   "execution_count": 69,
   "id": "9e02df84-267b-42b3-8521-fa9b6a9b3ffa",
   "metadata": {},
   "outputs": [],
   "source": [
    "genre_sales_per_post_ffvii_pd = genre_sales_per_post_ffvii.toPandas()\n",
    "\n",
    "#gen_5_genre_sales_per_pre_ffvii.show()\n",
    "#gen_5_genre_sales_per_post_ffvii.show()\n",
    "\n",
    "#split up by platform\n",
    "\n",
    "#sum(genre_sales_per_post_ffvii_pd['Global_Sales_Percent'])"
   ]
  },
  {
   "cell_type": "markdown",
   "id": "c195ddef-de6e-4c9d-b648-f8fd8424c908",
   "metadata": {},
   "source": [
    "#### List Genres"
   ]
  },
  {
   "cell_type": "code",
   "execution_count": 70,
   "id": "9c20284a-2db5-4345-8a52-889c87ddedac",
   "metadata": {},
   "outputs": [
    {
     "data": {
      "text/plain": [
       "0           Action\n",
       "1        Adventure\n",
       "2         Fighting\n",
       "3             Misc\n",
       "4         Platform\n",
       "5           Puzzle\n",
       "6           Racing\n",
       "7     Role-Playing\n",
       "8          Shooter\n",
       "9       Simulation\n",
       "10          Sports\n",
       "11        Strategy\n",
       "Name: Genre, dtype: object"
      ]
     },
     "execution_count": 70,
     "metadata": {},
     "output_type": "execute_result"
    }
   ],
   "source": [
    "genre_sales_per_pre_ffvii_pd['Genre']"
   ]
  },
  {
   "cell_type": "code",
   "execution_count": 71,
   "id": "346957ad-d0a9-4109-abaf-f24e89e23210",
   "metadata": {},
   "outputs": [],
   "source": [
    "### Plot Global Sales by Genre"
   ]
  },
  {
   "cell_type": "code",
   "execution_count": 76,
   "id": "20757c9a-dc77-4463-a227-3a85f4e6b5f5",
   "metadata": {
    "tags": []
   },
   "outputs": [
    {
     "data": {
      "image/png": "[encoded data removed]",
      "text/plain": [
       "<Figure size 1152x504 with 1 Axes>"
      ]
     },
     "metadata": {},
     "output_type": "display_data"
    }
   ],
   "source": [
    "fig, ax = plt.subplots(figsize=(16,7))\n",
    "\n",
    "genres = ['Action','Adventure','Fighting','Misc','Platform','Puzzle','Racing','Role-Playing','Shooter','Simulation','Sports','Strategy']\n",
    "x_axis = np.arange(len(genre_sales_per_pre_ffvii_pd['Genre']))\n",
    "\n",
    "y_col_global = 'Global_Sales_Percent'\n",
    "y_col_na = 'NA_Sales_Percent'\n",
    "y_col_jp = 'JP_Sales_Percent'\n",
    "y_col_oth = 'Other_Sales_Percent'\n",
    "\n",
    "ax.bar(x_axis-0.1,genre_sales_per_pre_ffvii_pd[y_col_global],width=.2,align='center',label='Before FFVII',color='dodgerblue',edgecolor='dimgray')\n",
    "ax.bar(x_axis+0.1,genre_sales_per_post_ffvii_pd[y_col_global],width=.2,align='center',label='After FFVII',color='tomato',edgecolor='dimgray')\n",
    "\n",
    "ax.grid(False)\n",
    "ax.set_ylabel('Global Sales Percent')\n",
    "ax.set_xlabel('Genre')\n",
    "ax.set_title('Global Sales Percent 5 Years Before and 5 Years After FFVII Release Per Genre')\n",
    "plt.xticks(x_axis, genre_sales_per_pre_ffvii_pd['Genre'])\n",
    "plt.legend()\n",
    "\n",
    "ax.autoscale(tight=True)\n",
    "plt.tight_layout()\n",
    "#plt.show()\n",
    "plt.savefig('../graphs/global_sales_percent',transparent=True)\n"
   ]
  },
  {
   "cell_type": "markdown",
   "id": "f4aaa31d-a8e2-4617-a2af-ba0138718a4c",
   "metadata": {},
   "source": [
    "#### Plot NA Sales Per Genre"
   ]
  },
  {
   "cell_type": "code",
   "execution_count": 78,
   "id": "9f634680-50ce-4af7-820d-57dd01b6626b",
   "metadata": {},
   "outputs": [
    {
     "data": {
      "image/png": "[encoded data removed]",
      "text/plain": [
       "<Figure size 1152x504 with 1 Axes>"
      ]
     },
     "metadata": {},
     "output_type": "display_data"
    }
   ],
   "source": [
    "fig, ax = plt.subplots(figsize=(16,7))\n",
    "\n",
    "genres = ['Action','Adventure','Fighting','Misc','Platform','Puzzle','Racing','Role-Playing','Shooter','Simulation','Sports','Strategy']\n",
    "x_axis = np.arange(len(genre_sales_per_pre_ffvii_pd['Genre']))\n",
    "\n",
    "y_col_global = 'Global_Sales_Percent'\n",
    "y_col_na = 'NA_Sales_Percent'\n",
    "y_col_jp = 'JP_Sales_Percent'\n",
    "y_col_oth = 'Other_Sales_Percent'\n",
    "\n",
    "ax.bar(x_axis-0.1,genre_sales_per_pre_ffvii_pd[y_col_na],width=.2,align='center',label='Before FFVII',color='dodgerblue',edgecolor='dimgray')\n",
    "ax.bar(x_axis+0.1,genre_sales_per_post_ffvii_pd[y_col_na],width=.2,align='center',label='After FFVII',color='tomato',edgecolor='dimgray')\n",
    "\n",
    "ax.grid(False)\n",
    "ax.set_ylabel('North American Sales Percent')\n",
    "ax.set_xlabel('Genre')\n",
    "ax.set_title('North American Sales Percent Five Years Before and 5 Years After FFVII Release By Genre')\n",
    "plt.xticks(x_axis, genre_sales_per_pre_ffvii_pd['Genre'])\n",
    "plt.legend()\n",
    "\n",
    "ax.autoscale(tight=True)\n",
    "plt.tight_layout()\n",
    "#plt.show()\n",
    "plt.savefig('../graphs/na_sales_percent',transparent=True)"
   ]
  },
  {
   "cell_type": "markdown",
   "id": "d2f119d2-6d70-4434-883d-e789f5b3af7e",
   "metadata": {},
   "source": [
    "### Students T Test "
   ]
  },
  {
   "cell_type": "code",
   "execution_count": 79,
   "id": "881d63e8-9808-460d-99ad-c94e67d878b0",
   "metadata": {},
   "outputs": [
    {
     "data": {
      "text/plain": [
       "Ttest_indResult(statistic=0.0677921841965942, pvalue=0.94656342951479)"
      ]
     },
     "execution_count": 79,
     "metadata": {},
     "output_type": "execute_result"
    }
   ],
   "source": [
    "sales_pre = genre_sales_per_pre_ffvii_pd['Global_Sales_Percent']\n",
    "sales_post = genre_sales_per_post_ffvii_pd['Global_Sales_Percent']\n",
    "\n",
    "student_t_test = stats.ttest_ind(sales_pre,sales_post,equal_var=True)\n",
    "student_t_test"
   ]
  },
  {
   "cell_type": "markdown",
   "id": "d16c5cdf-ef9d-4d31-bf64-1a77dc3ce2a6",
   "metadata": {},
   "source": [
    "#### Annual Sales Totals"
   ]
  },
  {
   "cell_type": "code",
   "execution_count": 80,
   "id": "84ace587-2c19-4f23-83f6-04345c2c7dc7",
   "metadata": {},
   "outputs": [],
   "source": [
    "annual_sales_total = spark.sql(\"SELECT \\\n",
    "                             Year_of_Release,SUM(NA_players) AS Total_NA_Players,SUM(JP_players) AS Total_JP_Players,SUM(Global_players) AS Total_Global_Players\\\n",
    "                             FROM vg_full_df\\\n",
    "                             WHERE Year_of_Release BETWEEN 1992 AND 2002 \\\n",
    "                                AND (Genre LIKE 'Role-Playing')\\\n",
    "                                AND (Name NOT LIKE 'Final Fantasy VII' OR Name NOT LIKE 'Final Fantasy VII %')\\\n",
    "                                AND (Platform LIKE 'SNES' OR Platform LIKE 'GEN' OR Platform LIKE 'TG16' OR Platform LIKE 'NG'\\\n",
    "                                    OR Platform LIKE 'PS' OR Platform LIKE 'SAT' OR Platform LIKE 'N64' OR Platform LIKE '3DO' OR Platform LIKE 'PCFX' \\\n",
    "                                    OR Platform LIKE 'PS2' OR Platform LIKE 'DC' OR Platform LIKE 'GC' OR Platform LIKE 'XB')\\\n",
    "                             GROUP BY Year_of_Release\\\n",
    "                             ORDER BY Year_of_Release\")\n",
    "\n",
    "annual_sales_total.createOrReplaceTempView(\"annual_sales_total_tab\")"
   ]
  },
  {
   "cell_type": "markdown",
   "id": "871b6ef9-e171-4177-88da-d6dd9669b90b",
   "metadata": {},
   "source": [
    "#### Set up tables showing annual sales per genre for a range of years"
   ]
  },
  {
   "cell_type": "code",
   "execution_count": 81,
   "id": "d9065a6e-7cf7-407b-98cc-ff5b16da80eb",
   "metadata": {},
   "outputs": [],
   "source": [
    "rpg_sales_pre = spark.sql(\"SELECT \\\n",
    "                             Name, Genre, Year_of_Release,NA_players,JP_players,Global_players\\\n",
    "                             FROM vg_full_df\\\n",
    "                             WHERE Year_of_Release BETWEEN 1992 AND 1996 \\\n",
    "                                AND (Genre LIKE 'Role-Playing')\\\n",
    "                                AND (Name NOT LIKE 'Final Fantasy VII' OR Name NOT LIKE 'Final Fantasy VII %')\\\n",
    "                                AND (Platform LIKE 'SNES' OR Platform LIKE 'GEN' OR Platform LIKE 'TG16' OR Platform LIKE 'NG'\\\n",
    "                                    OR Platform LIKE 'PS' OR Platform LIKE 'SAT' OR Platform LIKE 'N64' OR Platform LIKE '3DO' OR Platform LIKE 'PCFX' \\\n",
    "                                    OR Platform LIKE 'PS2' OR Platform LIKE 'DC' OR Platform LIKE 'GC' OR Platform LIKE 'XB')\\\n",
    "                             ORDER BY Year_of_Release\")\n",
    "\n",
    "rpg_sales_pre.createOrReplaceTempView(\"rpg_sales_pre_tab\")\n",
    "\n",
    "rpg_sales_post = spark.sql(\"SELECT \\\n",
    "                             Name, Genre, Year_of_Release,NA_players,JP_players,Global_players\\\n",
    "                             FROM vg_full_df\\\n",
    "                             WHERE Year_of_Release BETWEEN 1997 AND 2002 \\\n",
    "                                AND (Genre LIKE 'Role-Playing')\\\n",
    "                                AND (Name NOT LIKE 'Final Fantasy VII' OR Name NOT LIKE 'Final Fantasy VII %')\\\n",
    "                                AND (Platform LIKE 'SNES' OR Platform LIKE 'GEN' OR Platform LIKE 'TG16' OR Platform LIKE 'NG'\\\n",
    "                                    OR Platform LIKE 'PS' OR Platform LIKE 'SAT' OR Platform LIKE 'N64' OR Platform LIKE '3DO' OR Platform LIKE 'PCFX' \\\n",
    "                                    OR Platform LIKE 'PS2' OR Platform LIKE 'DC' OR Platform LIKE 'GC' OR Platform LIKE 'XB')\\\n",
    "                             ORDER BY Year_of_Release\")\n",
    "\n",
    "rpg_sales_post.createOrReplaceTempView(\"rpg_sales_post_tab\")\n"
   ]
  },
  {
   "cell_type": "markdown",
   "id": "4bbb47a8-6cab-4646-bf95-3feaf77f9ef6",
   "metadata": {},
   "source": [
    "#### normalizing annual sales for rpgs by dividing by total annual sales, scaling up by 1000"
   ]
  },
  {
   "cell_type": "code",
   "execution_count": 82,
   "id": "eb4bd790-7ea7-4164-bed0-ead3973c90eb",
   "metadata": {},
   "outputs": [
    {
     "data": {
      "text/html": [
       "<div>\n",
       "<style scoped>\n",
       "    .dataframe tbody tr th:only-of-type {\n",
       "        vertical-align: middle;\n",
       "    }\n",
       "\n",
       "    .dataframe tbody tr th {\n",
       "        vertical-align: top;\n",
       "    }\n",
       "\n",
       "    .dataframe thead th {\n",
       "        text-align: right;\n",
       "    }\n",
       "</style>\n",
       "<table border=\"1\" class=\"dataframe\">\n",
       "  <thead>\n",
       "    <tr style=\"text-align: right;\">\n",
       "      <th></th>\n",
       "      <th>Name</th>\n",
       "      <th>Genre</th>\n",
       "      <th>Year_of_Release</th>\n",
       "      <th>NA_Sales_Scaled</th>\n",
       "      <th>JP_Sales_Scaled</th>\n",
       "      <th>Global_Sales_Scaled</th>\n",
       "    </tr>\n",
       "  </thead>\n",
       "  <tbody>\n",
       "    <tr>\n",
       "      <th>5</th>\n",
       "      <td>Secret of Mana</td>\n",
       "      <td>Role-Playing</td>\n",
       "      <td>1993</td>\n",
       "      <td>1000.00</td>\n",
       "      <td>283.81</td>\n",
       "      <td>327.37</td>\n",
       "    </tr>\n",
       "    <tr>\n",
       "      <th>6</th>\n",
       "      <td>Romancing SaGa 2</td>\n",
       "      <td>Role-Playing</td>\n",
       "      <td>1993</td>\n",
       "      <td>0.00</td>\n",
       "      <td>222.86</td>\n",
       "      <td>209.30</td>\n",
       "    </tr>\n",
       "    <tr>\n",
       "      <th>7</th>\n",
       "      <td>Dragon Quest I &amp; II</td>\n",
       "      <td>Role-Playing</td>\n",
       "      <td>1993</td>\n",
       "      <td>0.00</td>\n",
       "      <td>219.05</td>\n",
       "      <td>205.72</td>\n",
       "    </tr>\n",
       "    <tr>\n",
       "      <th>8</th>\n",
       "      <td>Torneko no Daibouken: Fushigi no Dungeon</td>\n",
       "      <td>Role-Playing</td>\n",
       "      <td>1993</td>\n",
       "      <td>0.00</td>\n",
       "      <td>148.57</td>\n",
       "      <td>139.53</td>\n",
       "    </tr>\n",
       "    <tr>\n",
       "      <th>9</th>\n",
       "      <td>Shin Momotarou Densetsu</td>\n",
       "      <td>Role-Playing</td>\n",
       "      <td>1993</td>\n",
       "      <td>0.00</td>\n",
       "      <td>60.95</td>\n",
       "      <td>57.25</td>\n",
       "    </tr>\n",
       "    <tr>\n",
       "      <th>...</th>\n",
       "      <td>...</td>\n",
       "      <td>...</td>\n",
       "      <td>...</td>\n",
       "      <td>...</td>\n",
       "      <td>...</td>\n",
       "      <td>...</td>\n",
       "    </tr>\n",
       "    <tr>\n",
       "      <th>73</th>\n",
       "      <td>Sword &amp; Sorcery</td>\n",
       "      <td>Role-Playing</td>\n",
       "      <td>1996</td>\n",
       "      <td>0.00</td>\n",
       "      <td>12.06</td>\n",
       "      <td>9.32</td>\n",
       "    </tr>\n",
       "    <tr>\n",
       "      <th>74</th>\n",
       "      <td>Tecmo's Deception</td>\n",
       "      <td>Role-Playing</td>\n",
       "      <td>1996</td>\n",
       "      <td>26.67</td>\n",
       "      <td>0.00</td>\n",
       "      <td>6.52</td>\n",
       "    </tr>\n",
       "    <tr>\n",
       "      <th>75</th>\n",
       "      <td>Dark Half</td>\n",
       "      <td>Role-Playing</td>\n",
       "      <td>1996</td>\n",
       "      <td>0.00</td>\n",
       "      <td>4.83</td>\n",
       "      <td>3.73</td>\n",
       "    </tr>\n",
       "    <tr>\n",
       "      <th>76</th>\n",
       "      <td>Blue Breaker: Ken Yorimo Hohoemi o</td>\n",
       "      <td>Role-Playing</td>\n",
       "      <td>1996</td>\n",
       "      <td>0.00</td>\n",
       "      <td>3.62</td>\n",
       "      <td>2.80</td>\n",
       "    </tr>\n",
       "    <tr>\n",
       "      <th>77</th>\n",
       "      <td>Tail of the Sun</td>\n",
       "      <td>Role-Playing</td>\n",
       "      <td>1996</td>\n",
       "      <td>6.67</td>\n",
       "      <td>0.00</td>\n",
       "      <td>1.86</td>\n",
       "    </tr>\n",
       "  </tbody>\n",
       "</table>\n",
       "<p>73 rows × 6 columns</p>\n",
       "</div>"
      ],
      "text/plain": [
       "                                        Name         Genre Year_of_Release  \\\n",
       "5                             Secret of Mana  Role-Playing            1993   \n",
       "6                           Romancing SaGa 2  Role-Playing            1993   \n",
       "7                        Dragon Quest I & II  Role-Playing            1993   \n",
       "8   Torneko no Daibouken: Fushigi no Dungeon  Role-Playing            1993   \n",
       "9                    Shin Momotarou Densetsu  Role-Playing            1993   \n",
       "..                                       ...           ...             ...   \n",
       "73                           Sword & Sorcery  Role-Playing            1996   \n",
       "74                         Tecmo's Deception  Role-Playing            1996   \n",
       "75                                 Dark Half  Role-Playing            1996   \n",
       "76        Blue Breaker: Ken Yorimo Hohoemi o  Role-Playing            1996   \n",
       "77                           Tail of the Sun  Role-Playing            1996   \n",
       "\n",
       "    NA_Sales_Scaled  JP_Sales_Scaled  Global_Sales_Scaled  \n",
       "5           1000.00           283.81               327.37  \n",
       "6              0.00           222.86               209.30  \n",
       "7              0.00           219.05               205.72  \n",
       "8              0.00           148.57               139.53  \n",
       "9              0.00            60.95                57.25  \n",
       "..              ...              ...                  ...  \n",
       "73             0.00            12.06                 9.32  \n",
       "74            26.67             0.00                 6.52  \n",
       "75             0.00             4.83                 3.73  \n",
       "76             0.00             3.62                 2.80  \n",
       "77             6.67             0.00                 1.86  \n",
       "\n",
       "[73 rows x 6 columns]"
      ]
     },
     "execution_count": 82,
     "metadata": {},
     "output_type": "execute_result"
    }
   ],
   "source": [
    "rpg_sales_pre_norm = spark.sql(\"SELECT\\\n",
    "                    rpg_sales_pre_tab.Name,rpg_sales_pre_tab.Genre,rpg_sales_pre_tab.Year_of_Release,\\\n",
    "                    ROUND(rpg_sales_pre_tab.NA_players/annual_sales_total_tab.Total_NA_Players*1000,2) AS NA_Sales_Scaled,\\\n",
    "                    ROUND(rpg_sales_pre_tab.JP_players/annual_sales_total_tab.Total_JP_Players*1000,2) AS JP_Sales_Scaled,\\\n",
    "                    ROUND(rpg_sales_pre_tab.Global_players/annual_sales_total_tab.Total_Global_Players*1000,2) AS Global_Sales_Scaled\\\n",
    "                    FROM rpg_sales_pre_tab\\\n",
    "                        LEFT JOIN annual_sales_total_tab\\\n",
    "                            ON rpg_sales_pre_tab.Year_of_Release = annual_sales_total_tab.Year_of_Release\\\n",
    "                    ORDER BY rpg_sales_pre_tab.Year_of_Release\")\n",
    "                               \n",
    "rpg_sales_pre_norm_pd=rpg_sales_pre_norm.toPandas()\n",
    "rpg_sales_pre_norm_pd=rpg_sales_pre_norm_pd.dropna()\n",
    "rpg_sales_pre_norm_pd"
   ]
  },
  {
   "cell_type": "markdown",
   "id": "5b319f38-e14e-4e53-bdfd-26fcd2105544",
   "metadata": {},
   "source": [
    "#### Normalize Sales"
   ]
  },
  {
   "cell_type": "code",
   "execution_count": 83,
   "id": "688436d8-c06d-4689-b415-11502495e96a",
   "metadata": {},
   "outputs": [
    {
     "data": {
      "text/html": [
       "<div>\n",
       "<style scoped>\n",
       "    .dataframe tbody tr th:only-of-type {\n",
       "        vertical-align: middle;\n",
       "    }\n",
       "\n",
       "    .dataframe tbody tr th {\n",
       "        vertical-align: top;\n",
       "    }\n",
       "\n",
       "    .dataframe thead th {\n",
       "        text-align: right;\n",
       "    }\n",
       "</style>\n",
       "<table border=\"1\" class=\"dataframe\">\n",
       "  <thead>\n",
       "    <tr style=\"text-align: right;\">\n",
       "      <th></th>\n",
       "      <th>Name</th>\n",
       "      <th>Genre</th>\n",
       "      <th>Year_of_Release</th>\n",
       "      <th>NA_Sales_Scaled</th>\n",
       "      <th>JP_Sales_Scaled</th>\n",
       "      <th>Global_Sales_Scaled</th>\n",
       "    </tr>\n",
       "  </thead>\n",
       "  <tbody>\n",
       "    <tr>\n",
       "      <th>0</th>\n",
       "      <td>Final Fantasy VII</td>\n",
       "      <td>Role-Playing</td>\n",
       "      <td>1997</td>\n",
       "      <td>566.85</td>\n",
       "      <td>293.91</td>\n",
       "      <td>454.42</td>\n",
       "    </tr>\n",
       "    <tr>\n",
       "      <th>1</th>\n",
       "      <td>Final Fantasy Tactics</td>\n",
       "      <td>Role-Playing</td>\n",
       "      <td>1997</td>\n",
       "      <td>175.14</td>\n",
       "      <td>120.07</td>\n",
       "      <td>114.54</td>\n",
       "    </tr>\n",
       "    <tr>\n",
       "      <th>2</th>\n",
       "      <td>SaGa Frontier</td>\n",
       "      <td>Role-Playing</td>\n",
       "      <td>1997</td>\n",
       "      <td>28.25</td>\n",
       "      <td>95.88</td>\n",
       "      <td>63.11</td>\n",
       "    </tr>\n",
       "    <tr>\n",
       "      <th>3</th>\n",
       "      <td>Chocobo no Fushigi Dungeon</td>\n",
       "      <td>Role-Playing</td>\n",
       "      <td>1997</td>\n",
       "      <td>0.00</td>\n",
       "      <td>102.15</td>\n",
       "      <td>57.04</td>\n",
       "    </tr>\n",
       "    <tr>\n",
       "      <th>4</th>\n",
       "      <td>Tales of Destiny</td>\n",
       "      <td>Role-Playing</td>\n",
       "      <td>1997</td>\n",
       "      <td>16.95</td>\n",
       "      <td>74.37</td>\n",
       "      <td>48.62</td>\n",
       "    </tr>\n",
       "    <tr>\n",
       "      <th>...</th>\n",
       "      <td>...</td>\n",
       "      <td>...</td>\n",
       "      <td>...</td>\n",
       "      <td>...</td>\n",
       "      <td>...</td>\n",
       "      <td>...</td>\n",
       "    </tr>\n",
       "    <tr>\n",
       "      <th>144</th>\n",
       "      <td>Dual Hearts</td>\n",
       "      <td>Role-Playing</td>\n",
       "      <td>2002</td>\n",
       "      <td>3.22</td>\n",
       "      <td>0.00</td>\n",
       "      <td>2.43</td>\n",
       "    </tr>\n",
       "    <tr>\n",
       "      <th>145</th>\n",
       "      <td>Next Generation of Chaos</td>\n",
       "      <td>Role-Playing</td>\n",
       "      <td>2002</td>\n",
       "      <td>0.00</td>\n",
       "      <td>8.13</td>\n",
       "      <td>2.43</td>\n",
       "    </tr>\n",
       "    <tr>\n",
       "      <th>146</th>\n",
       "      <td>Shin Megami Tensei NINE</td>\n",
       "      <td>Role-Playing</td>\n",
       "      <td>2002</td>\n",
       "      <td>0.00</td>\n",
       "      <td>8.13</td>\n",
       "      <td>2.43</td>\n",
       "    </tr>\n",
       "    <tr>\n",
       "      <th>147</th>\n",
       "      <td>Metal Dungeon</td>\n",
       "      <td>Role-Playing</td>\n",
       "      <td>2002</td>\n",
       "      <td>2.15</td>\n",
       "      <td>0.00</td>\n",
       "      <td>1.46</td>\n",
       "    </tr>\n",
       "    <tr>\n",
       "      <th>148</th>\n",
       "      <td>Tokyo Mew Mew</td>\n",
       "      <td>Role-Playing</td>\n",
       "      <td>2002</td>\n",
       "      <td>0.00</td>\n",
       "      <td>3.25</td>\n",
       "      <td>0.97</td>\n",
       "    </tr>\n",
       "  </tbody>\n",
       "</table>\n",
       "<p>149 rows × 6 columns</p>\n",
       "</div>"
      ],
      "text/plain": [
       "                           Name         Genre Year_of_Release  \\\n",
       "0             Final Fantasy VII  Role-Playing            1997   \n",
       "1         Final Fantasy Tactics  Role-Playing            1997   \n",
       "2                 SaGa Frontier  Role-Playing            1997   \n",
       "3    Chocobo no Fushigi Dungeon  Role-Playing            1997   \n",
       "4              Tales of Destiny  Role-Playing            1997   \n",
       "..                          ...           ...             ...   \n",
       "144                 Dual Hearts  Role-Playing            2002   \n",
       "145    Next Generation of Chaos  Role-Playing            2002   \n",
       "146     Shin Megami Tensei NINE  Role-Playing            2002   \n",
       "147               Metal Dungeon  Role-Playing            2002   \n",
       "148               Tokyo Mew Mew  Role-Playing            2002   \n",
       "\n",
       "     NA_Sales_Scaled  JP_Sales_Scaled  Global_Sales_Scaled  \n",
       "0             566.85           293.91               454.42  \n",
       "1             175.14           120.07               114.54  \n",
       "2              28.25            95.88                63.11  \n",
       "3               0.00           102.15                57.04  \n",
       "4              16.95            74.37                48.62  \n",
       "..               ...              ...                  ...  \n",
       "144             3.22             0.00                 2.43  \n",
       "145             0.00             8.13                 2.43  \n",
       "146             0.00             8.13                 2.43  \n",
       "147             2.15             0.00                 1.46  \n",
       "148             0.00             3.25                 0.97  \n",
       "\n",
       "[149 rows x 6 columns]"
      ]
     },
     "execution_count": 83,
     "metadata": {},
     "output_type": "execute_result"
    }
   ],
   "source": [
    "rpg_sales_post_norm = spark.sql(\"SELECT\\\n",
    "                    rpg_sales_post_tab.Name,rpg_sales_post_tab.Genre,rpg_sales_post_tab.Year_of_Release,\\\n",
    "                    ROUND(rpg_sales_post_tab.NA_players/annual_sales_total_tab.Total_NA_Players*1000,2) AS NA_Sales_Scaled,\\\n",
    "                    ROUND(rpg_sales_post_tab.JP_players/annual_sales_total_tab.Total_JP_Players*1000,2) AS JP_Sales_Scaled,\\\n",
    "                    ROUND(rpg_sales_post_tab.Global_players/annual_sales_total_tab.Total_Global_Players*1000,2) AS Global_Sales_Scaled\\\n",
    "                    FROM rpg_sales_post_tab\\\n",
    "                        LEFT JOIN annual_sales_total_tab\\\n",
    "                            ON rpg_sales_post_tab.Year_of_Release = annual_sales_total_tab.Year_of_Release\\\n",
    "                    ORDER BY rpg_sales_post_tab.Year_of_Release\")\n",
    "                               \n",
    "rpg_sales_post_norm_pd=rpg_sales_post_norm.toPandas()\n",
    "rpg_sales_post_norm_pd=rpg_sales_post_norm_pd.dropna()\n",
    "rpg_sales_post_norm_pd"
   ]
  },
  {
   "cell_type": "markdown",
   "id": "98655ac6-8190-45e2-90a9-23a8544b478d",
   "metadata": {},
   "source": [
    "### T Tests"
   ]
  },
  {
   "cell_type": "code",
   "execution_count": 85,
   "id": "41176c79-5b51-4c52-bb9d-5414711125fd",
   "metadata": {},
   "outputs": [
    {
     "name": "stdout",
     "output_type": "stream",
     "text": [
      "T-statistic: 1.3109964992433512, P-value: 0.19122570645797235\n"
     ]
    }
   ],
   "source": [
    "samps_global_pre = rpg_sales_pre_norm_pd['Global_Sales_Scaled']\n",
    "samps_global_post = rpg_sales_post_norm_pd['Global_Sales_Scaled']\n",
    "\n",
    "global_sales_rpg_t_test = stats.ttest_ind(samps_global_pre,samps_global_post,equal_var=True)\n",
    "tstat,pval = global_sales_rpg_t_test\n",
    "print(f'T-statistic: {tstat}, P-value: {pval}')"
   ]
  },
  {
   "cell_type": "code",
   "execution_count": 86,
   "id": "35f1f32d-6985-4614-b64e-201a0e8d5717",
   "metadata": {},
   "outputs": [
    {
     "name": "stdout",
     "output_type": "stream",
     "text": [
      "T-statistic: 0.8058162606799943, P-value: 0.42121892755009016\n"
     ]
    }
   ],
   "source": [
    "samps_na_pre = rpg_sales_pre_norm_pd['NA_Sales_Scaled']\n",
    "samps_na_post = rpg_sales_post_norm_pd['NA_Sales_Scaled']\n",
    "\n",
    "na_sales_rpg_t_test = stats.ttest_ind(samps_na_pre,samps_na_post,equal_var=True)\n",
    "tstat,pval = na_sales_rpg_t_test\n",
    "print(f'T-statistic: {tstat}, P-value: {pval}')"
   ]
  },
  {
   "cell_type": "markdown",
   "id": "345df337-2e74-42ca-baf3-504af2fc2be2",
   "metadata": {},
   "source": [
    "### fail to reject in both instances, null hypothesis: release of FFVII did not effect sales of RPG games globally or in NA"
   ]
  },
  {
   "cell_type": "markdown",
   "id": "d0ae48bd-b599-4b15-91c5-65054561e88c",
   "metadata": {},
   "source": [
    "#### Annual sales"
   ]
  },
  {
   "cell_type": "code",
   "execution_count": 87,
   "id": "45358707-ba88-40cd-844d-56f9475534c0",
   "metadata": {},
   "outputs": [],
   "source": [
    "annual_sales_total_pd = annual_sales_total.toPandas()\n",
    "#annual_sales_total_pd"
   ]
  },
  {
   "cell_type": "markdown",
   "id": "bd1b94a9-de89-4662-ab8f-cd65f635c94d",
   "metadata": {},
   "source": [
    "### Annual Sales for RPGs"
   ]
  },
  {
   "cell_type": "code",
   "execution_count": 89,
   "id": "b6dbbf76-f95e-40e5-9244-2bae2a62933c",
   "metadata": {},
   "outputs": [
    {
     "data": {
      "image/png": "[encoded data removed]",
      "text/plain": [
       "<Figure size 1152x504 with 1 Axes>"
      ]
     },
     "metadata": {},
     "output_type": "display_data"
    }
   ],
   "source": [
    "fig, ax = plt.subplots(figsize=(16,7))\n",
    "\n",
    "x_axis = annual_sales_total_pd['Year_of_Release']\n",
    "\n",
    "y_axis_global = annual_sales_total_pd['Total_Global_Players']\n",
    "y_axis_na = annual_sales_total_pd['Total_NA_Players']\n",
    "y_axis_jp = annual_sales_total_pd['Total_JP_Players']\n",
    "\n",
    "ax.plot(x_axis,y_axis_global,label='Global Sales',lw=4,color='dodgerblue')\n",
    "ax.plot(x_axis,y_axis_na,label='North American Sales',lw=4,color='tomato')\n",
    "ax.plot(x_axis,y_axis_jp,label='Japanese Sales',lw=4,color='goldenrod')\n",
    "\n",
    "ax.grid(False)\n",
    "ax.set_ylabel('Sales')\n",
    "ax.set_xlabel('Year')\n",
    "ax.set_title(\"Annual Sales for RPGs 5 Years Before and 5 Years After FFVII's Release\")\n",
    "plt.axvline(x=5,ls='--',lw=3,color='mediumpurple')\n",
    "plt.legend()\n",
    "\n",
    "ax.autoscale(tight=True)\n",
    "plt.tight_layout()\n",
    "#plt.show()\n",
    "plt.savefig('../graphs/all_rpg_sales_per_year_line',transparent=True)"
   ]
  },
  {
   "cell_type": "markdown",
   "id": "a1c076ea-79b5-45e9-8889-9e304f46f728",
   "metadata": {},
   "source": [
    "#### Data example"
   ]
  },
  {
   "cell_type": "code",
   "execution_count": 90,
   "id": "c4e801d3-b4d0-49a9-bfa2-28dafd998639",
   "metadata": {},
   "outputs": [
    {
     "name": "stdout",
     "output_type": "stream",
     "text": [
      "+--------------------------------+--------+---------------+------+----------+----------+--------------+\n",
      "|Name                            |Platform|Year_of_Release|Genre |NA_players|JP_players|Global_players|\n",
      "+--------------------------------+--------+---------------+------+----------+----------+--------------+\n",
      "|The Lost World: Jurassic Park   |PS      |1997           |Action|0.57      |0.0       |1.02          |\n",
      "|Dynasty Warriors                |PS      |1997           |Action|0.09      |0.11      |0.27          |\n",
      "|Rampage World Tour              |PS      |1997           |Action|0.47      |0.0       |0.85          |\n",
      "|Frogger                         |PS      |1997           |Action|3.79      |0.0       |4.16          |\n",
      "|Blast Corps                     |N64     |1997           |Action|0.39      |0.17      |0.71          |\n",
      "|Mystical Ninja starring Goemon  |N64     |1997           |Action|0.07      |0.23      |0.36          |\n",
      "|Star Wars: Masters of Teras Kasi|PS      |1997           |Action|0.38      |0.0       |0.68          |\n",
      "|Mission: Impossible             |N64     |1997           |Action|0.74      |0.02      |1.17          |\n",
      "|Nightmare Creatures             |PS      |1997           |Action|0.35      |0.0       |0.63          |\n",
      "|Tenchu: Stealth Assassins       |PS      |1997           |Action|0.95      |0.27      |1.99          |\n",
      "+--------------------------------+--------+---------------+------+----------+----------+--------------+\n",
      "\n"
     ]
    }
   ],
   "source": [
    "example_df = spark.sql(\"SELECT Name,Platform,Year_of_Release,Genre,NA_players,JP_players,Global_players \\\n",
    "                        FROM vg_full_df \\\n",
    "                        WHERE Year_of_Release > 1996 \\\n",
    "                        AND (Platform LIKE 'PS' OR Platform LIKE 'SAT' OR Platform LIKE 'N64' OR Platform LIKE '3DO' OR Platform LIKE 'PCFX')\\\n",
    "                        ORDER BY Year_of_Release,Genre \\\n",
    "                        LIMIT 10\")\n",
    "example_df.show(truncate=False)\n",
    "#print(example_df.toPandas().to_html())"
   ]
  },
  {
   "cell_type": "markdown",
   "id": "bdfbe00a-2fa8-4249-8bb5-1fd97f825278",
   "metadata": {},
   "source": [
    "### Release per year"
   ]
  },
  {
   "cell_type": "code",
   "execution_count": 91,
   "id": "5a5743cd-517c-41da-8bdd-3973d495d879",
   "metadata": {},
   "outputs": [
    {
     "data": {
      "text/html": [
       "<div>\n",
       "<style scoped>\n",
       "    .dataframe tbody tr th:only-of-type {\n",
       "        vertical-align: middle;\n",
       "    }\n",
       "\n",
       "    .dataframe tbody tr th {\n",
       "        vertical-align: top;\n",
       "    }\n",
       "\n",
       "    .dataframe thead th {\n",
       "        text-align: right;\n",
       "    }\n",
       "</style>\n",
       "<table border=\"1\" class=\"dataframe\">\n",
       "  <thead>\n",
       "    <tr style=\"text-align: right;\">\n",
       "      <th></th>\n",
       "      <th>total_annual_releases</th>\n",
       "      <th>Year_of_Release</th>\n",
       "    </tr>\n",
       "  </thead>\n",
       "  <tbody>\n",
       "    <tr>\n",
       "      <th>0</th>\n",
       "      <td>17</td>\n",
       "      <td>1994</td>\n",
       "    </tr>\n",
       "    <tr>\n",
       "      <th>1</th>\n",
       "      <td>24</td>\n",
       "      <td>1995</td>\n",
       "    </tr>\n",
       "    <tr>\n",
       "      <th>2</th>\n",
       "      <td>28</td>\n",
       "      <td>1996</td>\n",
       "    </tr>\n",
       "    <tr>\n",
       "      <th>3</th>\n",
       "      <td>23</td>\n",
       "      <td>1997</td>\n",
       "    </tr>\n",
       "    <tr>\n",
       "      <th>4</th>\n",
       "      <td>26</td>\n",
       "      <td>1998</td>\n",
       "    </tr>\n",
       "    <tr>\n",
       "      <th>5</th>\n",
       "      <td>33</td>\n",
       "      <td>1999</td>\n",
       "    </tr>\n",
       "    <tr>\n",
       "      <th>6</th>\n",
       "      <td>29</td>\n",
       "      <td>2000</td>\n",
       "    </tr>\n",
       "    <tr>\n",
       "      <th>7</th>\n",
       "      <td>41</td>\n",
       "      <td>2001</td>\n",
       "    </tr>\n",
       "    <tr>\n",
       "      <th>8</th>\n",
       "      <td>55</td>\n",
       "      <td>2002</td>\n",
       "    </tr>\n",
       "  </tbody>\n",
       "</table>\n",
       "</div>"
      ],
      "text/plain": [
       "   total_annual_releases Year_of_Release\n",
       "0                     17            1994\n",
       "1                     24            1995\n",
       "2                     28            1996\n",
       "3                     23            1997\n",
       "4                     26            1998\n",
       "5                     33            1999\n",
       "6                     29            2000\n",
       "7                     41            2001\n",
       "8                     55            2002"
      ]
     },
     "execution_count": 91,
     "metadata": {},
     "output_type": "execute_result"
    }
   ],
   "source": [
    "rpgs_per_year = spark.sql(\"SELECT COUNT(Name) AS total_annual_releases,Year_of_Release \\\n",
    "                            FROM vg_full_df \\\n",
    "                            WHERE Year_of_Release BETWEEN 1994 AND 2002 \\\n",
    "                                AND (Genre LIKE 'Role-Playing')\\\n",
    "                            GROUP BY Year_of_Release\\\n",
    "                            ORDER BY Year_of_Release\")\n",
    "rpgs_per_year_pd = rpgs_per_year.toPandas()\n",
    "rpgs_per_year_pd = rpgs_per_year_pd.loc[rpgs_per_year_pd['Year_of_Release']!= 'N/A']\n",
    "rpgs_per_year_pd"
   ]
  },
  {
   "cell_type": "markdown",
   "id": "a0d9521d-30fa-4293-afed-8a71aa8b0c0f",
   "metadata": {},
   "source": [
    "### PlayStation Games Per Year"
   ]
  },
  {
   "cell_type": "code",
   "execution_count": 93,
   "id": "eade55fd-3e11-438a-9042-4589653deb3f",
   "metadata": {},
   "outputs": [],
   "source": [
    "ps_games_per_year = spark.sql(\"SELECT COUNT(Name) AS total_annual_releases,Year_of_Release \\\n",
    "                            FROM vg_full_df \\\n",
    "                            WHERE Year_of_Release BETWEEN 1994 AND 2002\\\n",
    "                                AND (Platform LIKE 'PS' OR Platform LIKE 'PS%') \\\n",
    "                            GROUP BY Year_of_Release\\\n",
    "                            ORDER BY Year_of_Release\")\n",
    "\n",
    "ps_games_per_year_pd = ps_games_per_year.toPandas()\n",
    "ps_games_per_year_pd = ps_games_per_year_pd.loc[ps_games_per_year_pd['Year_of_Release']!= 'N/A']"
   ]
  },
  {
   "cell_type": "code",
   "execution_count": 94,
   "id": "5e9d6deb-658e-40dd-8237-6e04719e8770",
   "metadata": {},
   "outputs": [
    {
     "data": {
      "image/png": "[encoded data removed]",
      "text/plain": [
       "<Figure size 1008x504 with 2 Axes>"
      ]
     },
     "metadata": {},
     "output_type": "display_data"
    }
   ],
   "source": [
    "fig, ax = plt.subplots(1,2,figsize=(14,7))\n",
    "\n",
    "plt.rcParams['axes.titley'] = 1.02\n",
    "\n",
    "ax[0].plot(rpgs_per_year_pd['Year_of_Release'],rpgs_per_year_pd['total_annual_releases'],lw=4,color='dodgerblue')\n",
    "ax[1].plot(ps_games_per_year_pd['Year_of_Release'],ps_games_per_year_pd['total_annual_releases'],lw=4,color='tomato')\n",
    "\n",
    "ax[0].grid(False)\n",
    "ax[0].set_ylabel('Amount of Titles')\n",
    "ax[0].set_xlabel('Year')\n",
    "ax[0].set_title(\"Amount of RPGs Released Per Year\")\n",
    "ax[0].axvline(x=3,ls='--',lw=3,color='mediumpurple')\n",
    "ax[0].legend(['Annual RPG Releases','FFVII Release Date'])\n",
    "\n",
    "ax[1].grid(False)\n",
    "ax[1].set_ylabel('Amount of Titles')\n",
    "ax[1].set_xlabel('Year')\n",
    "ax[1].set_title(\"Amount of Titles on Sony Consoles Released Per Year\")\n",
    "ax[1].axvline(x=3,ls='--',lw=3,color='mediumpurple')\n",
    "ax[1].legend(['Annual PS Releases','FFVII Release Date'])\n",
    "\n",
    "#plt.show()\n",
    "plt.savefig('../graphs/rpg_sales_per_year',transparent=True,bbox_inches='tight')"
   ]
  },
  {
   "cell_type": "markdown",
   "id": "b0487093-8fd1-490b-a946-6fc774f3a378",
   "metadata": {},
   "source": [
    "### Top 10 NA Sales Percent"
   ]
  },
  {
   "cell_type": "code",
   "execution_count": 95,
   "id": "cc177379-ea75-45e6-b143-903888895436",
   "metadata": {},
   "outputs": [
    {
     "data": {
      "text/html": [
       "<div>\n",
       "<style scoped>\n",
       "    .dataframe tbody tr th:only-of-type {\n",
       "        vertical-align: middle;\n",
       "    }\n",
       "\n",
       "    .dataframe tbody tr th {\n",
       "        vertical-align: top;\n",
       "    }\n",
       "\n",
       "    .dataframe thead th {\n",
       "        text-align: right;\n",
       "    }\n",
       "</style>\n",
       "<table border=\"1\" class=\"dataframe\">\n",
       "  <thead>\n",
       "    <tr style=\"text-align: right;\">\n",
       "      <th></th>\n",
       "      <th>Name</th>\n",
       "      <th>NA_Sales_Percent</th>\n",
       "    </tr>\n",
       "  </thead>\n",
       "  <tbody>\n",
       "    <tr>\n",
       "      <th>0</th>\n",
       "      <td>GoldenEye 007</td>\n",
       "      <td>6.0</td>\n",
       "    </tr>\n",
       "    <tr>\n",
       "      <th>1</th>\n",
       "      <td>Half-Life</td>\n",
       "      <td>4.0</td>\n",
       "    </tr>\n",
       "    <tr>\n",
       "      <th>2</th>\n",
       "      <td>Gran Turismo</td>\n",
       "      <td>4.0</td>\n",
       "    </tr>\n",
       "    <tr>\n",
       "      <th>3</th>\n",
       "      <td>Frogger</td>\n",
       "      <td>4.0</td>\n",
       "    </tr>\n",
       "    <tr>\n",
       "      <th>4</th>\n",
       "      <td>Crash Bandicoot 2: Cortex Strikes Back</td>\n",
       "      <td>4.0</td>\n",
       "    </tr>\n",
       "    <tr>\n",
       "      <th>5</th>\n",
       "      <td>Final Fantasy VII</td>\n",
       "      <td>3.0</td>\n",
       "    </tr>\n",
       "    <tr>\n",
       "      <th>6</th>\n",
       "      <td>Diddy Kong Racing</td>\n",
       "      <td>3.0</td>\n",
       "    </tr>\n",
       "    <tr>\n",
       "      <th>7</th>\n",
       "      <td>Star Fox 64</td>\n",
       "      <td>3.0</td>\n",
       "    </tr>\n",
       "    <tr>\n",
       "      <th>8</th>\n",
       "      <td>Tomb Raider II</td>\n",
       "      <td>2.0</td>\n",
       "    </tr>\n",
       "    <tr>\n",
       "      <th>9</th>\n",
       "      <td>Theme Hospital</td>\n",
       "      <td>2.0</td>\n",
       "    </tr>\n",
       "  </tbody>\n",
       "</table>\n",
       "</div>"
      ],
      "text/plain": [
       "                                     Name  NA_Sales_Percent\n",
       "0                           GoldenEye 007               6.0\n",
       "1                               Half-Life               4.0\n",
       "2                            Gran Turismo               4.0\n",
       "3                                 Frogger               4.0\n",
       "4  Crash Bandicoot 2: Cortex Strikes Back               4.0\n",
       "5                       Final Fantasy VII               3.0\n",
       "6                       Diddy Kong Racing               3.0\n",
       "7                             Star Fox 64               3.0\n",
       "8                          Tomb Raider II               2.0\n",
       "9                          Theme Hospital               2.0"
      ]
     },
     "execution_count": 95,
     "metadata": {},
     "output_type": "execute_result"
    }
   ],
   "source": [
    "games_1997_total = spark.sql(\"SELECT SUM(NA_players) AS total_na_sales, Year_of_Release \\\n",
    "                            FROM vg_full_df \\\n",
    "                            GROUP BY Year_of_Release\")\n",
    "\n",
    "games_1997_total.createOrReplaceTempView(\"games_1997_total_tab\")\n",
    "\n",
    "games_in_range_1997 = spark.sql(\"SELECT Name, NA_players,Year_of_Release \\\n",
    "                            FROM vg_full_df\")\n",
    "\n",
    "games_in_range_1997.createOrReplaceTempView(\"games_in_range_1997_tab\")\n",
    "\n",
    "games_in_range_1997_percent = spark.sql(\"SELECT games_in_range_1997_tab.Name, ROUND(games_in_range_1997_tab.NA_players/games_1997_total_tab.total_na_sales,2)*100 AS NA_Sales_Percent \\\n",
    "                            FROM games_in_range_1997_tab LEFT JOIN\\\n",
    "                            games_1997_total_tab\\\n",
    "                            ON games_in_range_1997_tab.Year_of_Release = games_1997_total_tab.Year_of_Release\\\n",
    "                            WHERE games_in_range_1997_tab.Year_of_Release LIKE 1997\\\n",
    "                            ORDER BY games_in_range_1997_tab.Year_of_Release,games_in_range_1997_tab.NA_players  DESC LIMIT 10\")\n",
    "\n",
    "games_in_range_1997_percent_pd = games_in_range_1997_percent.toPandas()\n",
    "games_in_range_1997_count = games_in_range_1997_percent_pd['Name'].count()\n",
    "games_in_range_1997_percent_pd"
   ]
  },
  {
   "cell_type": "code",
   "execution_count": 121,
   "id": "dd9a8590-3030-4923-9ee4-e325ddff7189",
   "metadata": {},
   "outputs": [
    {
     "name": "stdout",
     "output_type": "stream",
     "text": [
      "+-----------------+-----+\n",
      "|   total_na_sales|Years|\n",
      "+-----------------+-----+\n",
      "|389.6599999999985| 1269|\n",
      "+-----------------+-----+\n",
      "\n"
     ]
    },
    {
     "data": {
      "text/plain": [
       "0    69.747985\n",
       "1    30.252015\n",
       "Name: NA_Percent, dtype: float64"
      ]
     },
     "execution_count": 121,
     "metadata": {},
     "output_type": "execute_result"
    }
   ],
   "source": [
    "games_1997_titles = spark.sql(\"SELECT SUM(NA_players) AS total_na_sales, COUNT(Year_of_Release) as Years\\\n",
    "                            FROM vg_full_df \\\n",
    "                            WHERE Year_of_Release BETWEEN 1997 AND 2002\\\n",
    "                            AND (Platform LIKE 'PS' OR Platform LIKE 'SAT' OR Platform LIKE 'N64' OR Platform LIKE '3DO' OR Platform LIKE 'PCFX')\")\n",
    "\n",
    "games_1997_titles.createOrReplaceTempView(\"games_1997_titles_tab\")\n",
    "\n",
    "platforms_1997_totals = spark.sql(\"SELECT SUM(NA_players) AS NA_players_total,Platform,COUNT(Year_of_Release) as Years\\\n",
    "                                    FROM vg_full_df \\\n",
    "                                    WHERE Year_of_Release BETWEEN 1997 AND 2002\\\n",
    "                                    AND (Platform LIKE 'PS' OR Platform LIKE 'SAT' OR Platform LIKE 'N64' OR Platform LIKE '3DO' OR Platform LIKE 'PCFX') \\\n",
    "                                    GROUP BY Platform\\\n",
    "                                    ORDER BY NA_players_total DESC\\\n",
    "                                    LIMIT 2\")\n",
    "\n",
    "platforms_1997_totals.createOrReplaceTempView(\"platforms_1997_totals_tab\")\n",
    "\n",
    "\n",
    "games_1997_titles_pd = games_1997_titles.toPandas()\n",
    "platforms_1997_totals_pd = platforms_1997_totals.toPandas()\n",
    "\n",
    "\n",
    "games_1997_titles.show()\n",
    "\n",
    "total_arr = np.array([games_1997_titles_pd['total_na_sales'],games_1997_titles_pd['total_na_sales']])\n",
    "total_df = pd.DataFrame(total_arr.flatten())\n",
    "platforms_1997_totals_pd['NA_Percent'] = (platforms_1997_totals_pd['NA_players_total']/total_df[0])*100\n",
    "platforms_1997_totals_pd['NA_Percent']"
   ]
  },
  {
   "cell_type": "code",
   "execution_count": 124,
   "id": "952fece1-4227-405a-bb7b-85c78dc214e4",
   "metadata": {},
   "outputs": [
    {
     "data": {
      "text/plain": [
       "0    6.0\n",
       "1    4.0\n",
       "2    4.0\n",
       "3    4.0\n",
       "4    4.0\n",
       "5    3.0\n",
       "6    3.0\n",
       "7    3.0\n",
       "8    2.0\n",
       "9    2.0\n",
       "Name: NA_Sales_Percent, dtype: float64"
      ]
     },
     "execution_count": 124,
     "metadata": {},
     "output_type": "execute_result"
    }
   ],
   "source": [
    "titles = np.array(games_in_range_1997_percent_pd['NA_Sales_Percent'])\n",
    "x_axis = np.arange(len(titles))\n",
    "y_axis = games_in_range_1997_percent_pd['NA_Sales_Percent']\n",
    "y_axis"
   ]
  },
  {
   "cell_type": "code",
   "execution_count": 125,
   "id": "e30ceaaf-df53-4325-9d1c-bd5962aca11a",
   "metadata": {},
   "outputs": [
    {
     "data": {
      "image/png": "[encoded data removed]",
      "text/plain": [
       "<Figure size 1152x504 with 1 Axes>"
      ]
     },
     "metadata": {},
     "output_type": "display_data"
    }
   ],
   "source": [
    "fig, ax = plt.subplots(figsize=(16,7))\n",
    "\n",
    "colors = ['dodgerblue','dodgerblue','dodgerblue','dodgerblue','dodgerblue','tomato','dodgerblue','dodgerblue','dodgerblue','dodgerblue']\n",
    "\n",
    "ax.bar(games_in_range_1997_percent_pd['Name'],y_axis,width=.5,color=colors,edgecolor='dimgray')\n",
    "\n",
    "ax.grid(False)\n",
    "ax.set_ylabel('North American Sales Percent')\n",
    "ax.set_xlabel('Title')\n",
    "ax.set_title('10 Games with the Highest North American Sales Percent, 1997')\n",
    "plt.xticks(rotation='45')\n",
    "#plt.tight_layout()\n",
    "#plt.show()\n",
    "plt.savefig('../graphs/ffvii_rpg_sales',transparent=True,bbox_inches='tight')"
   ]
  },
  {
   "cell_type": "markdown",
   "id": "80dc59b0-2e72-4c21-a603-db721ef332ef",
   "metadata": {},
   "source": [
    "### Sales for Home Console"
   ]
  },
  {
   "cell_type": "code",
   "execution_count": 127,
   "id": "1ceeeeea-5bd5-411e-952d-6fd0ca4c9d1e",
   "metadata": {},
   "outputs": [],
   "source": [
    "platforms = np.array(platforms_1997_totals_pd['Platform'])\n",
    "x_axis = np.arange(len(platforms))\n",
    "y_axis = platforms_1997_totals_pd['NA_Percent']"
   ]
  },
  {
   "cell_type": "code",
   "execution_count": 128,
   "id": "1bbbeba4-db5b-4301-a852-cc634abbc745",
   "metadata": {},
   "outputs": [
    {
     "data": {
      "image/png": "[encoded data removed]",
      "text/plain": [
       "<Figure size 576x504 with 1 Axes>"
      ]
     },
     "metadata": {},
     "output_type": "display_data"
    }
   ],
   "source": [
    "fig, ax = plt.subplots(figsize=(8,7))\n",
    "\n",
    "colors = ['tomato','dodgerblue','dodgerblue']\n",
    "\n",
    "ax.bar(platforms_1997_totals_pd['Platform'],y_axis,width=.25,color=colors,edgecolor='dimgray')\n",
    "\n",
    "ax.grid(False)\n",
    "ax.set_ylabel('North American Sales Percent')\n",
    "ax.set_xlabel('Platform')\n",
    "ax.set_title('North American Sales Percent Per Home Console, 5 years after FFVII Release')\n",
    "#plt.xticks(rotation='45')\n",
    "plt.tight_layout()\n",
    "#plt.show()\n",
    "plt.savefig('../graphs/1997_platform_sales',transparent=True)"
   ]
  },
  {
   "cell_type": "markdown",
   "id": "ee7b273f-2518-404d-95b8-fa95645d98dc",
   "metadata": {},
   "source": [
    "### Gen 5 Platform Percent of Sales Per Platform, Per Year"
   ]
  },
  {
   "cell_type": "markdown",
   "id": "2cabc43a-8b77-451b-b391-496620b9b743",
   "metadata": {},
   "source": [
    "#### Find total sales per year of release"
   ]
  },
  {
   "cell_type": "code",
   "execution_count": 97,
   "id": "e49a3e88-29f1-4f12-8965-33a60ce17968",
   "metadata": {},
   "outputs": [],
   "source": [
    "plat_genre_sales_sub = spark.sql(\"SELECT \\\n",
    "                            COUNT(Name) AS Sum_Total_Per_Year,Year_of_Release,\\\n",
    "                            SUM(NA_players) AS NA_players_total,\\\n",
    "                            SUM(JP_players) AS JP_players_total,\\\n",
    "                            SUM(Other_players) AS Other_players_total,\\\n",
    "                            SUM(Global_players) AS Global_players_total\\\n",
    "                            FROM vg_full_df\\\n",
    "                            WHERE Year_of_Release BETWEEN 1987 AND 2007 \\\n",
    "                                AND (Name NOT LIKE 'Final Fantasy VII' OR Name NOT LIKE 'Final Fantasy VII %')\\\n",
    "                                AND (Platform LIKE 'PS' OR Platform LIKE 'SAT' OR Platform LIKE 'N64' OR Platform LIKE '3DO' OR Platform LIKE 'PCFX')\\\n",
    "                            GROUP BY Year_of_Release\\\n",
    "                            ORDER BY Year_of_Release\")"
   ]
  },
  {
   "cell_type": "markdown",
   "id": "e6a6e59b-026d-40fd-9a9b-4802e6e46f70",
   "metadata": {},
   "source": [
    "#### Transfer to table"
   ]
  },
  {
   "cell_type": "code",
   "execution_count": 99,
   "id": "f0b406b5-0fb5-4dda-8363-f53f55bbab05",
   "metadata": {},
   "outputs": [],
   "source": [
    "plat_genre_sales_sub.createOrReplaceTempView(\"sum_total_games_genre_tab\")\n",
    "\n",
    "test_a = spark.sql(\"SELECT * FROM sum_total_games_genre_tab\")\n",
    "#test_a.show()"
   ]
  },
  {
   "cell_type": "markdown",
   "id": "5d415176-04df-4adf-9a3c-6f6e08372ab3",
   "metadata": {},
   "source": [
    "#### Total games per platform, year"
   ]
  },
  {
   "cell_type": "code",
   "execution_count": 98,
   "id": "9b8cd803-be65-461b-8f0e-e7d464b1cbbc",
   "metadata": {},
   "outputs": [],
   "source": [
    "genre_plat_sales = spark.sql(\"SELECT \\\n",
    "                                 Platform,COUNT(Name) as Total_Games_On_Platform, Year_of_Release,\\\n",
    "                                 SUM(NA_players) as NA_Total_Sales, \\\n",
    "                                 SUM(JP_players) as JP_Total_Sales, \\\n",
    "                                 SUM(Other_players) as Other_Total_Sales, \\\n",
    "                                 SUM(Global_players) as Global_Total_Sales \\\n",
    "                                 FROM vg_full_df \\\n",
    "                                 WHERE Year_of_Release BETWEEN 1987 AND 2007 \\\n",
    "                                    AND (Name NOT LIKE 'Final Fantasy VII' OR Name NOT LIKE 'Final Fantasy VII %')\\\n",
    "                                    AND (Platform LIKE 'PS' OR Platform LIKE 'SAT' OR Platform LIKE 'N64' OR Platform LIKE '3DO' OR Platform LIKE 'PCFX') \\\n",
    "                                 GROUP BY Platform,Year_of_Release \\\n",
    "                                 ORDER BY Year_of_Release\")"
   ]
  },
  {
   "cell_type": "markdown",
   "id": "0493ca68-46cc-4cf3-8e9d-b9de3e490d00",
   "metadata": {},
   "source": [
    "#### Transfer to table"
   ]
  },
  {
   "cell_type": "code",
   "execution_count": 100,
   "id": "064ccb5c-a13c-48dd-a8b4-7802dc97c29c",
   "metadata": {},
   "outputs": [],
   "source": [
    "genre_plat_sales.createOrReplaceTempView(\"genre_plat_sales_tab\")\n",
    "test_b = spark.sql(\"SELECT * FROM genre_plat_sales_tab\")\n",
    "#test_b.show()"
   ]
  },
  {
   "cell_type": "markdown",
   "id": "dadbaeeb-c1cb-4b4b-9d15-c00f9edde724",
   "metadata": {},
   "source": [
    "#### filter total games per genre, year, find sales percentages"
   ]
  },
  {
   "cell_type": "code",
   "execution_count": 101,
   "id": "1ffa67be-2378-463f-b0d9-78f14fcb5309",
   "metadata": {},
   "outputs": [],
   "source": [
    "plat_sales_pre_ffvii = spark.sql(\"SELECT \\\n",
    "                             SUM(genre_plat_sales_tab.Total_Games_On_Platform) as Total_Games_On_Platform,\\\n",
    "                             \\\n",
    "                             genre_plat_sales_tab.Platform,\\\n",
    "                             ROUND(SUM(genre_plat_sales_tab.NA_Total_Sales)/SUM(sum_total_games_genre_tab.NA_players_total),2) AS NA_Sales_Percent, \\\n",
    "                             ROUND(SUM(genre_plat_sales_tab.JP_Total_Sales)/SUM(sum_total_games_genre_tab.JP_players_total),2) AS JP_Sales_Percent, \\\n",
    "                             ROUND(SUM(genre_plat_sales_tab.Other_Total_Sales)/SUM(sum_total_games_genre_tab.Other_players_total),2) AS Other_Sales_Percent, \\\n",
    "                             ROUND(SUM(genre_plat_sales_tab.Global_Total_Sales)/SUM(sum_total_games_genre_tab.Global_players_total),2) AS Global_Sales_Percent\\\n",
    "                             FROM genre_plat_sales_tab \\\n",
    "                                    LEFT JOIN \\\n",
    "                                    sum_total_games_genre_tab\\\n",
    "                                    ON genre_plat_sales_tab.Year_of_Release = sum_total_games_genre_tab.Year_of_Release \\\n",
    "                             WHERE genre_plat_sales_tab.Year_of_Release BETWEEN 1992 AND 1996\\\n",
    "                             GROUP BY genre_plat_sales_tab.Platform\\\n",
    "                             ORDER BY SUM(genre_plat_sales_tab.NA_Total_Sales)/SUM(sum_total_games_genre_tab.NA_players_total) DESC LIMIT 2\")"
   ]
  },
  {
   "cell_type": "markdown",
   "id": "287ee0f3-5a6f-4be6-8058-cb91a4593803",
   "metadata": {},
   "source": [
    "#### Turn to pandas dfs"
   ]
  },
  {
   "cell_type": "code",
   "execution_count": 102,
   "id": "0122d106-0ed4-44c6-9633-62ea427fe7d7",
   "metadata": {},
   "outputs": [],
   "source": [
    "plat_sales_pre_ffvii_pd = plat_sales_pre_ffvii.toPandas()\n",
    "#gen_5_genre_sales_per_pre_ffvii_pd"
   ]
  },
  {
   "cell_type": "markdown",
   "id": "2cc318a5-3516-4ece-a999-40010b8205a5",
   "metadata": {},
   "source": [
    "#### filter total games per genre, year, find sales percentages"
   ]
  },
  {
   "cell_type": "code",
   "execution_count": 103,
   "id": "e5c0b1e3-44d5-4261-b90e-c8bc5835ace5",
   "metadata": {},
   "outputs": [],
   "source": [
    "plat_sales_post_ffvii = spark.sql(\"SELECT \\\n",
    "                             SUM(genre_plat_sales_tab.Total_Games_On_Platform) as Total_Games_On_Platform_of_Genre,\\\n",
    "                             \\\n",
    "                             genre_plat_sales_tab.Platform,\\\n",
    "                             ROUND(SUM(genre_plat_sales_tab.NA_Total_Sales)/SUM(sum_total_games_genre_tab.NA_players_total),2) AS NA_Sales_Percent, \\\n",
    "                             ROUND(SUM(genre_plat_sales_tab.JP_Total_Sales)/SUM(sum_total_games_genre_tab.JP_players_total),2)AS JP_Sales_Percent, \\\n",
    "                             ROUND(SUM(genre_plat_sales_tab.Other_Total_Sales)/SUM(sum_total_games_genre_tab.Other_players_total),2) AS Other_Sales_Percent, \\\n",
    "                             ROUND(SUM(genre_plat_sales_tab.Global_Total_Sales)/SUM(sum_total_games_genre_tab.Global_players_total),2) AS Global_Sales_Percent\\\n",
    "                             FROM genre_plat_sales_tab \\\n",
    "                                    LEFT JOIN \\\n",
    "                                    sum_total_games_genre_tab\\\n",
    "                                    ON genre_plat_sales_tab.Year_of_Release = sum_total_games_genre_tab.Year_of_Release \\\n",
    "                             WHERE genre_plat_sales_tab.Year_of_Release BETWEEN 1997 AND 2002\\\n",
    "                             GROUP BY genre_plat_sales_tab.Platform\\\n",
    "                             ORDER BY SUM(genre_plat_sales_tab.NA_Total_Sales)/SUM(sum_total_games_genre_tab.NA_players_total) DESC LIMIT 2\")"
   ]
  },
  {
   "cell_type": "markdown",
   "id": "0a67ed63-cacc-422e-9d8d-46a7c04fb054",
   "metadata": {},
   "source": [
    "#### Turn to pandas dfs"
   ]
  },
  {
   "cell_type": "code",
   "execution_count": 104,
   "id": "e801f821-ccf1-4e62-96a1-9282e2022889",
   "metadata": {},
   "outputs": [
    {
     "name": "stdout",
     "output_type": "stream",
     "text": [
      "+--------------------------------+--------+----------------+----------------+-------------------+--------------------+\n",
      "|Total_Games_On_Platform_of_Genre|Platform|NA_Sales_Percent|JP_Sales_Percent|Other_Sales_Percent|Global_Sales_Percent|\n",
      "+--------------------------------+--------+----------------+----------------+-------------------+--------------------+\n",
      "|                             907|      PS|             0.7|            0.74|                0.9|                0.75|\n",
      "|                             298|     N64|             0.3|            0.19|                0.1|                0.23|\n",
      "+--------------------------------+--------+----------------+----------------+-------------------+--------------------+\n",
      "\n"
     ]
    }
   ],
   "source": [
    "plat_sales_post_ffvii_pd = plat_sales_post_ffvii.toPandas()\n",
    "\n",
    "#gen_5_genre_sales_per_pre_ffvii.show()\n",
    "plat_sales_post_ffvii.show()\n",
    "\n"
   ]
  },
  {
   "cell_type": "markdown",
   "id": "8438ec98-f9c3-439c-b08d-42fca7c6cce2",
   "metadata": {},
   "source": [
    "#### split up by platform"
   ]
  },
  {
   "cell_type": "code",
   "execution_count": 105,
   "id": "72ab24d0-d7a3-45ef-a61a-e43d484ce9e8",
   "metadata": {},
   "outputs": [
    {
     "data": {
      "text/plain": [
       "2"
      ]
     },
     "execution_count": 105,
     "metadata": {},
     "output_type": "execute_result"
    }
   ],
   "source": [
    "#sum(genre_sales_per_post_ffvii_pd['Global_Sales_Percent'])\n",
    "len(plat_sales_post_ffvii_pd['Platform'])"
   ]
  },
  {
   "cell_type": "code",
   "execution_count": 106,
   "id": "703d24f8-a956-4fdf-a717-b1cad71671b5",
   "metadata": {},
   "outputs": [
    {
     "data": {
      "image/png": "[encoded data removed]",
      "text/plain": [
       "<Figure size 1152x504 with 1 Axes>"
      ]
     },
     "metadata": {},
     "output_type": "display_data"
    }
   ],
   "source": [
    "fig, ax = plt.subplots(figsize=(16,7))\n",
    "\n",
    "platforms = ['PS','N64','SAT']\n",
    "x_axis = np.arange(len(plat_sales_post_ffvii_pd['Platform']))\n",
    "\n",
    "y_col_global = 'Global_Sales_Percent'\n",
    "y_col_na = 'NA_Sales_Percent'\n",
    "y_col_jp = 'JP_Sales_Percent'\n",
    "y_col_oth = 'Other_Sales_Percent'\n",
    "\n",
    "ax.bar(plat_sales_post_ffvii_pd['Platform'],plat_sales_pre_ffvii_pd[y_col_na],width=.2,align='center',label='Before FFVII',color='dodgerblue',edgecolor='dimgray')\n",
    "ax.bar(x_axis+0.25,plat_sales_post_ffvii_pd[y_col_na],width=.2,align='center',label='After FFVII',color='tomato',edgecolor='dimgray')\n",
    "\n",
    "ax.grid(False)\n",
    "ax.set_ylabel('North American Sales Percent')\n",
    "ax.set_xlabel('Platform')\n",
    "ax.set_title('North American Sales Percent Five Years Before and 5 Years After FFVII Release Per Platform')\n",
    "plt.xticks(plat_sales_post_ffvii_pd['Platform'])\n",
    "plt.legend()\n",
    "\n",
    "#ax.autoscale(tight=True)\n",
    "plt.tight_layout()\n",
    "#plt.show()\n",
    "plt.savefig('../graphs/na_sales_platform_percent',transparent=True)"
   ]
  },
  {
   "cell_type": "code",
   "execution_count": null,
   "id": "4396e16a-3fbe-4d9e-a052-0531181d0ab3",
   "metadata": {},
   "outputs": [],
   "source": []
  }
 ],
 "metadata": {
  "kernelspec": {
   "display_name": "Python 3",
   "language": "python",
   "name": "python3"
  },
  "language_info": {
   "codemirror_mode": {
    "name": "ipython",
    "version": 3
   },
   "file_extension": ".py",
   "mimetype": "text/x-python",
   "name": "python",
   "nbconvert_exporter": "python",
   "pygments_lexer": "ipython3",
   "version": "3.9.4"
  }
 },
 "nbformat": 4,
 "nbformat_minor": 5
}
